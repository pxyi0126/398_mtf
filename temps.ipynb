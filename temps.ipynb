{
 "cells": [
  {
   "cell_type": "code",
   "execution_count": 1,
   "metadata": {
    "ExecuteTime": {
     "end_time": "2019-10-31T23:36:28.652554Z",
     "start_time": "2019-10-31T23:36:27.180520Z"
    }
   },
   "outputs": [],
   "source": [
    "import pandas as pd\n",
    "import numpy as np\n",
    "import re\n",
    "from pathlib import Path\n",
    "\n",
    "import plotly.express as px\n",
    "pd.options.plotting.backend = 'plotly'\n",
    "\n",
    "from lec_utils import * \n",
    "# from save_data import * "
   ]
  },
  {
   "cell_type": "markdown",
   "metadata": {},
   "source": [
    "# Your Title Here\n",
    "\n",
    "**Name(s)**: Pheobe Yi and Omkar nayak \n",
    "\n",
    "**Website Link**: In progress "
   ]
  },
  {
   "cell_type": "markdown",
   "metadata": {},
   "source": [
    "## Step 1: Introduction"
   ]
  },
  {
   "cell_type": "code",
   "execution_count": 3,
   "metadata": {},
   "outputs": [
    {
     "name": "stdout",
     "output_type": "stream",
     "text": [
      "Processing year 2000...\n",
      "[PosixPath('/Users/yipho/eecs398/portfolio/allyears/ICPSR_03184-2000')]\n",
      "Loaded Form 1 with shape: (13286, 108)\n",
      "Loaded Form 6 with shape: (2197, 310)\n",
      "Merged data shape: (2197, 417)\n",
      "Saved merged data for year 2000 to /Users/yipho/eecs398/portfolio/raw_data/ICPSR_data_2000.csv\n",
      "Processing year 2001...\n",
      "[PosixPath('/Users/yipho/eecs398/portfolio/allyears/ICPSR_03425-2001')]\n",
      "Loaded Form 1 with shape: (13304, 108)\n",
      "Loaded Form 6 with shape: (2215, 311)\n",
      "Merged data shape: (2215, 418)\n",
      "Saved merged data for year 2001 to /Users/yipho/eecs398/portfolio/raw_data/ICPSR_data_2001.csv\n",
      "Processing year 2002...\n",
      "[PosixPath('/Users/yipho/eecs398/portfolio/allyears/ICPSR_03753-2002')]\n",
      "Loaded Form 1 with shape: (13544, 108)\n",
      "Loaded Form 6 with shape: (2257, 312)\n",
      "Merged data shape: (2257, 419)\n",
      "Saved merged data for year 2002 to /Users/yipho/eecs398/portfolio/raw_data/ICPSR_data_2002.csv\n",
      "Processing year 2003...\n",
      "[PosixPath('/Users/yipho/eecs398/portfolio/allyears/ICPSR_04019-2003')]\n",
      "Loaded Form 1 with shape: (15200, 108)\n",
      "Loaded Form 6 with shape: (2530, 312)\n",
      "Merged data shape: (2530, 419)\n",
      "Saved merged data for year 2003 to /Users/yipho/eecs398/portfolio/raw_data/ICPSR_data_2003.csv\n",
      "Processing year 2004...\n",
      "[PosixPath('/Users/yipho/eecs398/portfolio/allyears/ICPSR_04264-2004')]\n",
      "Loaded Form 1 with shape: (15222, 108)\n",
      "Loaded Form 6 with shape: (2552, 308)\n",
      "Merged data shape: (2552, 415)\n",
      "Saved merged data for year 2004 to /Users/yipho/eecs398/portfolio/raw_data/ICPSR_data_2004.csv\n",
      "Processing year 2005...\n",
      "[PosixPath('/Users/yipho/eecs398/portfolio/allyears/ICPSR_04536-2005')]\n",
      "Loaded Form 1 with shape: (15378, 184)\n",
      "Loaded Form 6 with shape: (2587, 304)\n",
      "Merged data shape: (2587, 487)\n",
      "Saved merged data for year 2005 to /Users/yipho/eecs398/portfolio/raw_data/ICPSR_data_2005.csv\n",
      "Processing year 2006...\n",
      "[PosixPath('/Users/yipho/eecs398/portfolio/allyears/ICPSR_20022-2006')]\n",
      "Loaded Form 1 with shape: (14814, 185)\n",
      "Loaded Form 6 with shape: (2479, 327)\n",
      "Merged data shape: (2479, 511)\n",
      "Saved merged data for year 2006 to /Users/yipho/eecs398/portfolio/raw_data/ICPSR_data_2006.csv\n",
      "Processing year 2007...\n",
      "[PosixPath('/Users/yipho/eecs398/portfolio/allyears/ICPSR_22480-2007')]\n",
      "Loaded Form 1 with shape: (15132, 185)\n",
      "Loaded Form 6 with shape: (2515, 327)\n",
      "Merged data shape: (2515, 511)\n",
      "Saved merged data for year 2007 to /Users/yipho/eecs398/portfolio/raw_data/ICPSR_data_2007.csv\n",
      "Processing year 2008...\n",
      "[PosixPath('/Users/yipho/eecs398/portfolio/allyears/ICPSR_25382-2008')]\n",
      "Loaded Form 1 with shape: (14577, 185)\n",
      "Loaded Form 6 with shape: (2436, 327)\n",
      "Merged data shape: (2436, 511)\n",
      "Saved merged data for year 2008 to /Users/yipho/eecs398/portfolio/raw_data/ICPSR_data_2008.csv\n",
      "Processing year 2009...\n",
      "[PosixPath('/Users/yipho/eecs398/portfolio/allyears/ICPSR_28401-2009')]\n",
      "Loaded Form 1 with shape: (14268, 188)\n",
      "Loaded Form 6 with shape: (2371, 327)\n",
      "Merged data shape: (2371, 514)\n",
      "Saved merged data for year 2009 to /Users/yipho/eecs398/portfolio/raw_data/ICPSR_data_2009.csv\n",
      "Processing year 2010...\n",
      "[PosixPath('/Users/yipho/eecs398/portfolio/allyears/ICPSR_30985-2010')]\n",
      "Loaded Form 1 with shape: (15127, 189)\n",
      "Loaded Form 6 with shape: (2519, 320)\n",
      "Merged data shape: (2519, 508)\n",
      "Saved merged data for year 2010 to /Users/yipho/eecs398/portfolio/raw_data/ICPSR_data_2010.csv\n",
      "Processing year 2011...\n",
      "[PosixPath('/Users/yipho/eecs398/portfolio/allyears/ICPSR_34409-2011')]\n",
      "Loaded Form 1 with shape: (14855, 185)\n",
      "Loaded Form 6 with shape: (2493, 309)\n",
      "Merged data shape: (2493, 493)\n",
      "Saved merged data for year 2011 to /Users/yipho/eecs398/portfolio/raw_data/ICPSR_data_2011.csv\n",
      "Processing year 2012...\n",
      "[PosixPath('/Users/yipho/eecs398/portfolio/allyears/ICPSR_34861-2012')]\n",
      "Loaded Form 1 with shape: (14343, 163)\n",
      "Loaded Form 6 with shape: (2401, 309)\n",
      "Merged data shape: (2401, 471)\n",
      "Saved merged data for year 2012 to /Users/yipho/eecs398/portfolio/raw_data/ICPSR_data_2012.csv\n",
      "Processing year 2013...\n",
      "[PosixPath('/Users/yipho/eecs398/portfolio/allyears/ICPSR_35218-2013')]\n",
      "Loaded Form 1 with shape: (13180, 163)\n",
      "Loaded Form 6 with shape: (2186, 309)\n",
      "Merged data shape: (2186, 471)\n",
      "Saved merged data for year 2013 to /Users/yipho/eecs398/portfolio/raw_data/ICPSR_data_2013.csv\n",
      "Processing year 2014...\n",
      "[PosixPath('/Users/yipho/eecs398/portfolio/allyears/ICPSR_36263-2014')]\n",
      "Loaded Form 1 with shape: (13015, 169)\n",
      "Loaded Form 6 with shape: (2157, 317)\n",
      "Merged data shape: (2157, 485)\n",
      "Saved merged data for year 2014 to /Users/yipho/eecs398/portfolio/raw_data/ICPSR_data_2014.csv\n",
      "Processing year 2015...\n",
      "[PosixPath('/Users/yipho/eecs398/portfolio/allyears/ICPSR_36408-2015')]\n",
      "Loaded Form 1 with shape: (13730, 173)\n",
      "Loaded Form 6 with shape: (2293, 318)\n",
      "Merged data shape: (2293, 490)\n",
      "Saved merged data for year 2015 to /Users/yipho/eecs398/portfolio/raw_data/ICPSR_data_2015.csv\n",
      "Processing year 2016...\n",
      "[PosixPath('/Users/yipho/eecs398/portfolio/allyears/ICPSR_36798-2016')]\n",
      "Loaded Form 1 with shape: (12600, 175)\n",
      "Loaded Form 6 with shape: (2103, 324)\n",
      "Merged data shape: (2103, 498)\n",
      "Saved merged data for year 2016 to /Users/yipho/eecs398/portfolio/raw_data/ICPSR_data_2016.csv\n",
      "Processing year 2017...\n",
      "[PosixPath('/Users/yipho/eecs398/portfolio/allyears/ICPSR_37182-2017')]\n",
      "Loaded Form 1 with shape: (13522, 184)\n",
      "Loaded Form 6 with shape: (2256, 323)\n",
      "Merged data shape: (2256, 506)\n",
      "Saved merged data for year 2017 to /Users/yipho/eecs398/portfolio/raw_data/ICPSR_data_2017.csv\n",
      "Processing year 2018...\n",
      "[PosixPath('/Users/yipho/eecs398/portfolio/allyears/ICPSR_37416-2018')]\n",
      "Loaded Form 1 with shape: (14502, 184)\n",
      "Loaded Form 6 with shape: (2416, 322)\n",
      "Merged data shape: (2416, 505)\n",
      "Saved merged data for year 2018 to /Users/yipho/eecs398/portfolio/raw_data/ICPSR_data_2018.csv\n",
      "Processing year 2019...\n",
      "[PosixPath('/Users/yipho/eecs398/portfolio/allyears/ICPSR_37841-2019')]\n",
      "Loaded Form 1 with shape: (13713, 217)\n",
      "Loaded Form 6 with shape: (2274, 325)\n",
      "Merged data shape: (2274, 541)\n",
      "Saved merged data for year 2019 to /Users/yipho/eecs398/portfolio/raw_data/ICPSR_data_2019.csv\n",
      "Processing year 2020...\n",
      "[PosixPath('/Users/yipho/eecs398/portfolio/allyears/ICPSR_38156-2020')]\n",
      "Loaded Form 1 with shape: (3770, 202)\n",
      "Loaded Form 6 with shape: (617, 365)\n",
      "Merged data shape: (617, 566)\n",
      "Saved merged data for year 2020 to /Users/yipho/eecs398/portfolio/raw_data/ICPSR_data_2020.csv\n",
      "Processing year 2021...\n",
      "[PosixPath('/Users/yipho/eecs398/portfolio/allyears/ICPSR_38503-2021')]\n",
      "Loaded Form 1 with shape: (9022, 232)\n",
      "Loaded Form 6 with shape: (1481, 427)\n",
      "Merged data shape: (1481, 658)\n",
      "Saved merged data for year 2021 to /Users/yipho/eecs398/portfolio/raw_data/ICPSR_data_2021.csv\n",
      "Processing year 2022...\n",
      "[PosixPath('/Users/yipho/eecs398/portfolio/allyears/ICPSR_38882-2022')]\n",
      "Loaded Form 1 with shape: (9599, 197)\n",
      "Loaded Form 6 with shape: (1586, 385)\n",
      "Merged data shape: (1586, 581)\n",
      "Saved merged data for year 2022 to /Users/yipho/eecs398/portfolio/raw_data/ICPSR_data_2022.csv\n",
      "Processing year 2023...\n",
      "[PosixPath('/Users/yipho/eecs398/portfolio/allyears/ICPSR_39172-2023')]\n",
      "Loaded Form 1 with shape: (7584, 198)\n",
      "Loaded Form 6 with shape: (1281, 374)\n",
      "Merged data shape: (1281, 571)\n",
      "Saved merged data for year 2023 to /Users/yipho/eecs398/portfolio/raw_data/ICPSR_data_2023.csv\n"
     ]
    }
   ],
   "source": [
    "base_path = Path(\"/Users/yipho/eecs398/portfolio/allyears\")\n",
    "output_path = Path(\"/Users/yipho/eecs398/portfolio/raw_data\") \n",
    "output_path.mkdir(parents=True, exist_ok=True) \n",
    "\n",
    "years_to_process = range(2000, 2024)\n",
    "\n",
    "def rename_case_id_to_respondent_id(df):\n",
    "    if \"CASEID\" in df.columns and \"RESPONDENT_ID\" not in df.columns:\n",
    "        df.rename(columns={\"CASEID\": \"RESPONDENT_ID\"}, inplace=True)\n",
    "    return df\n",
    "\n",
    "def load_and_save_icpsr_data(base_path, output_path, years_to_process):\n",
    "    for year in years_to_process:\n",
    "        print(f\"Processing year {year}...\")\n",
    "\n",
    "        icpsr_folders = list(base_path.glob(f\"ICPSR_*{year}\")) \n",
    "        print(icpsr_folders)\n",
    "        \n",
    "        if not icpsr_folders:\n",
    "            print(f\"No ICPSR folder found for year {year}. Skipping...\")\n",
    "            continue\n",
    "\n",
    "        merged_data= []  \n",
    "\n",
    "        for folder in icpsr_folders:\n",
    "            study_number = folder.name.split(\"_\")[1].split(\"-\")[0]  \n",
    "\n",
    "            form1_path = folder / f\"DS0001/{study_number}-0001-Data.dta\"\n",
    "            form6_path = folder / f\"DS0006/{study_number}-0006-Data.dta\"\n",
    "\n",
    "            # Load and merge Form 1 and Form 6 if both exist\n",
    "            if form1_path.exists() and form6_path.exists():\n",
    "                # print(f\"Found Form 1 and Form 6 data for year {year}.\")\n",
    "                try:\n",
    "                    # Load Form 1\n",
    "                    df1 = pd.read_stata(form1_path)\n",
    "                    print(f\"Loaded Form 1 with shape: {df1.shape}\")\n",
    "                    df1 = rename_case_id_to_respondent_id(df1)\n",
    "\n",
    "                    # Load Form 6\n",
    "                    df6 = pd.read_stata(form6_path)\n",
    "                    print(f\"Loaded Form 6 with shape: {df6.shape}\")\n",
    "                    df6 = rename_case_id_to_respondent_id(df6)\n",
    "\n",
    "  \n",
    "                    if \"RESPONDENT_ID\" in df1.columns and \"RESPONDENT_ID\" in df6.columns:\n",
    "                        df_merged = df1.merge(df6, on=\"RESPONDENT_ID\", how=\"inner\")\n",
    "                        print(f\"Merged data shape: {df_merged.shape}\")\n",
    "\n",
    "\n",
    "                        df_merged[\"Year\"] = year\n",
    "\n",
    "                        merged_data.append(df_merged)\n",
    "                    else:\n",
    "                        print(f\"'RESPONDENT_ID' column missing in Form 1 or Form 6 for year {year}. Skipping merge.\")\n",
    "                except Exception as e:\n",
    "                    print(f\"Error processing Form 1 and Form 6 for {year}: {e}\")\n",
    "            else:\n",
    "                if not form1_path.exists():\n",
    "                    print(f\"Form 1 data not found for year {year}: {form1_path}\")\n",
    "                if not form6_path.exists():\n",
    "                    print(f\"Form 6 data not found for year {year}: {form6_path}\")\n",
    "\n",
    "        if merged_data:\n",
    "            year_df = pd.concat(merged_data, axis=0)  \n",
    "            output_file = output_path / f\"ICPSR_data_{year}.csv\"\n",
    "            year_df.to_csv(output_file, index=False)\n",
    "            print(f\"Saved merged data for year {year} to {output_file}\")\n",
    "        else:\n",
    "            print(f\"No merged data found for year {year}.\")\n",
    "\n",
    "\n",
    "load_and_save_icpsr_data(base_path, output_path, years_to_process)\n",
    "#god bless Kerby Shedden "
   ]
  },
  {
   "cell_type": "markdown",
   "metadata": {},
   "source": [
    "## Step 2: Data Cleaning and Exploratory Data Analysis"
   ]
  },
  {
   "cell_type": "code",
   "execution_count": 51,
   "metadata": {},
   "outputs": [
    {
     "name": "stdout",
     "output_type": "stream",
     "text": [
      "Renamed columns for year 2013: {'V5167': 'POL_BELIEFS', 'V5150': 'SEX', 'V49_x': 'NUM_SIBS', 'V2157': 'BR_SR_inhouse', 'V5155': 'FATHR_PRES', 'V5156': 'MOTHR_PRES', 'V5313': 'LONELY', 'V5321': 'WISH_MORE_FRNDS', 'V5324': 'USLLY_FRNDS'}\n",
      "Renamed columns for year 2007: {'V5167': 'POL_BELIEFS', 'V5150': 'SEX', 'V49_x': 'NUM_SIBS', 'V157': 'BR_SR_inhouse', 'V5155': 'FATHR_PRES', 'V5156': 'MOTHR_PRES', 'V5313': 'LONELY', 'V5321': 'WISH_MORE_FRNDS', 'V5324': 'USLLY_FRNDS'}\n",
      "Renamed columns for year 2006: {'V5167': 'POL_BELIEFS', 'V5150': 'SEX', 'V49_x': 'NUM_SIBS', 'V157': 'BR_SR_inhouse', 'V5155': 'FATHR_PRES', 'V5156': 'MOTHR_PRES', 'V5313': 'LONELY', 'V5321': 'WISH_MORE_FRNDS', 'V5324': 'USLLY_FRNDS'}\n",
      "Renamed columns for year 2012: {'V5167': 'POL_BELIEFS', 'V5150': 'SEX', 'V49_x': 'NUM_SIBS', 'V2157': 'BR_SR_inhouse', 'V5155': 'FATHR_PRES', 'V5156': 'MOTHR_PRES', 'V5313': 'LONELY', 'V5321': 'WISH_MORE_FRNDS', 'V5324': 'USLLY_FRNDS'}\n",
      "Renamed columns for year 2004: {'V5167': 'POL_BELIEFS', 'V5150': 'SEX', 'V49_x': 'NUM_SIBS', 'V157': 'BR_SR_inhouse', 'V5155': 'FATHR_PRES', 'V5156': 'MOTHR_PRES', 'V5313': 'LONELY', 'V5321': 'WISH_MORE_FRNDS', 'V5324': 'USLLY_FRNDS'}\n",
      "Renamed columns for year 2010: {'V5167': 'POL_BELIEFS', 'V5150': 'SEX', 'V49_x': 'NUM_SIBS', 'V157': 'BR_SR_inhouse', 'V5155': 'FATHR_PRES', 'V5156': 'MOTHR_PRES', 'V5313': 'LONELY', 'V5321': 'WISH_MORE_FRNDS', 'V5324': 'USLLY_FRNDS'}\n",
      "Renamed columns for year 2011: {'V5167': 'POL_BELIEFS', 'V5150': 'SEX', 'V49_x': 'NUM_SIBS', 'V157': 'BR_SR_inhouse', 'V5155': 'FATHR_PRES', 'V5156': 'MOTHR_PRES', 'V5313': 'LONELY', 'V5321': 'WISH_MORE_FRNDS', 'V5324': 'USLLY_FRNDS'}\n",
      "Renamed columns for year 2005: {'V5167': 'POL_BELIEFS', 'V5150': 'SEX', 'V49_x': 'NUM_SIBS', 'V157': 'BR_SR_inhouse', 'V5155': 'FATHR_PRES', 'V5156': 'MOTHR_PRES', 'V5313': 'LONELY', 'V5321': 'WISH_MORE_FRNDS', 'V5324': 'USLLY_FRNDS'}\n",
      "Renamed columns for year 2001: {'V5167': 'POL_BELIEFS', 'V5150': 'SEX', 'V49_x': 'NUM_SIBS', 'V157': 'BR_SR_inhouse', 'V5155': 'FATHR_PRES', 'V5156': 'MOTHR_PRES', 'V5313': 'LONELY', 'V5321': 'WISH_MORE_FRNDS', 'V5324': 'USLLY_FRNDS'}\n",
      "Renamed columns for year 2015: {'V5167': 'POL_BELIEFS', 'V5150': 'SEX', 'V49_x': 'NUM_SIBS', 'V2157': 'BR_SR_inhouse', 'V5155': 'FATHR_PRES', 'V5156': 'MOTHR_PRES', 'V5313': 'LONELY', 'V5321': 'WISH_MORE_FRNDS', 'V5324': 'USLLY_FRNDS'}\n",
      "Renamed columns for year 2014: {'V5167': 'POL_BELIEFS', 'V5150': 'SEX', 'V49_x': 'NUM_SIBS', 'V2157': 'BR_SR_inhouse', 'V5155': 'FATHR_PRES', 'V5156': 'MOTHR_PRES', 'V5313': 'LONELY', 'V5321': 'WISH_MORE_FRNDS', 'V5324': 'USLLY_FRNDS'}\n",
      "Renamed columns for year 2000: {'V5167': 'POL_BELIEFS', 'V5150': 'SEX', 'V49_x': 'NUM_SIBS', 'V157': 'BR_SR_inhouse', 'V5155': 'FATHR_PRES', 'V5156': 'MOTHR_PRES', 'V5313': 'LONELY', 'V5321': 'WISH_MORE_FRNDS', 'V5324': 'USLLY_FRNDS'}\n",
      "Renamed columns for year 2016: {'V5167': 'POL_BELIEFS', 'V5150': 'SEX', 'V49_x': 'NUM_SIBS', 'V2157': 'BR_SR_inhouse', 'V5155': 'FATHR_PRES', 'V5156': 'MOTHR_PRES', 'V5313': 'LONELY', 'V5321': 'WISH_MORE_FRNDS', 'V5324': 'USLLY_FRNDS'}\n",
      "Renamed columns for year 2002: {'V5167': 'POL_BELIEFS', 'V5150': 'SEX', 'V49_x': 'NUM_SIBS', 'V157': 'BR_SR_inhouse', 'V5155': 'FATHR_PRES', 'V5156': 'MOTHR_PRES', 'V5313': 'LONELY', 'V5321': 'WISH_MORE_FRNDS', 'V5324': 'USLLY_FRNDS'}\n",
      "Renamed columns for year 2003: {'V5167': 'POL_BELIEFS', 'V5150': 'SEX', 'V49_x': 'NUM_SIBS', 'V157': 'BR_SR_inhouse', 'V5155': 'FATHR_PRES', 'V5156': 'MOTHR_PRES', 'V5313': 'LONELY', 'V5321': 'WISH_MORE_FRNDS', 'V5324': 'USLLY_FRNDS'}\n",
      "Renamed columns for year 2017: {'V5167': 'POL_BELIEFS', 'V5150': 'SEX', 'V49_x': 'NUM_SIBS', 'V2157': 'BR_SR_inhouse', 'V5155': 'FATHR_PRES', 'V5156': 'MOTHR_PRES', 'V5313': 'LONELY', 'V5321': 'WISH_MORE_FRNDS', 'V5324': 'USLLY_FRNDS'}\n",
      "Renamed columns for year 2019: {'V5167': 'POL_BELIEFS', 'V5150': 'SEX', 'V49_x': 'NUM_SIBS', 'V2157': 'BR_SR_inhouse', 'V5155': 'FATHR_PRES', 'V5156': 'MOTHR_PRES', 'V5313': 'LONELY', 'V5321': 'WISH_MORE_FRNDS', 'V5324': 'USLLY_FRNDS'}\n",
      "Renamed columns for year 2018: {'V5167': 'POL_BELIEFS', 'V5150': 'SEX', 'V49_x': 'NUM_SIBS', 'V2157': 'BR_SR_inhouse', 'V5155': 'FATHR_PRES', 'V5156': 'MOTHR_PRES', 'V5313': 'LONELY', 'V5321': 'WISH_MORE_FRNDS', 'V5324': 'USLLY_FRNDS'}\n",
      "Renamed columns for year 2008: {'V5167': 'POL_BELIEFS', 'V5150': 'SEX', 'V49_x': 'NUM_SIBS', 'V157': 'BR_SR_inhouse', 'V5155': 'FATHR_PRES', 'V5156': 'MOTHR_PRES', 'V5313': 'LONELY', 'V5321': 'WISH_MORE_FRNDS', 'V5324': 'USLLY_FRNDS'}\n",
      "Renamed columns for year 2020: {'V5167': 'POL_BELIEFS', 'V5150': 'SEX', 'V49_x': 'NUM_SIBS', 'V2157': 'BR_SR_inhouse', 'V5155': 'FATHR_PRES', 'V5156': 'MOTHR_PRES', 'V5313': 'LONELY', 'V5321': 'WISH_MORE_FRNDS', 'V5324': 'USLLY_FRNDS'}\n",
      "Renamed columns for year 2021: {'V5167': 'POL_BELIEFS', 'V5150': 'SEX', 'V49_x': 'NUM_SIBS', 'V2157': 'BR_SR_inhouse', 'V5155': 'FATHR_PRES', 'V5156': 'MOTHR_PRES', 'V5313': 'LONELY', 'V5321': 'WISH_MORE_FRNDS', 'V5324': 'USLLY_FRNDS'}\n",
      "Renamed columns for year 2009: {'V5167': 'POL_BELIEFS', 'V5150': 'SEX', 'V49_x': 'NUM_SIBS', 'V157': 'BR_SR_inhouse', 'V5155': 'FATHR_PRES', 'V5156': 'MOTHR_PRES', 'V5313': 'LONELY', 'V5321': 'WISH_MORE_FRNDS', 'V5324': 'USLLY_FRNDS'}\n",
      "Renamed columns for year 2023: {'V5167': 'POL_BELIEFS', 'V5150': 'SEX', 'V49_x': 'NUM_SIBS', 'V2157': 'BR_SR_inhouse', 'V5155': 'FATHR_PRES', 'V5156': 'MOTHR_PRES', 'V5313': 'LONELY', 'V5321': 'WISH_MORE_FRNDS', 'V5324': 'USLLY_FRNDS'}\n",
      "Renamed columns for year 2022: {'V5167': 'POL_BELIEFS', 'V5150': 'SEX', 'V49_x': 'NUM_SIBS', 'V2157': 'BR_SR_inhouse', 'V5155': 'FATHR_PRES', 'V5156': 'MOTHR_PRES', 'V5313': 'LONELY', 'V5321': 'WISH_MORE_FRNDS', 'V5324': 'USLLY_FRNDS'}\n"
     ]
    }
   ],
   "source": [
    "base_path = Path(\"/Users/yipho/eecs398/portfolio/raw_data\")\n",
    "output_path = Path(\"/Users/yipho/eecs398/portfolio/unprocessed_data\") \n",
    "output_path.mkdir(parents=True, exist_ok=True)\n",
    "\n",
    "variable_mapping = {\n",
    "    \"POL_BELIEFS\": {\n",
    "        (2000, 2023): \"V5167\",\n",
    "    },\n",
    "    \"SEX\" : {\n",
    "        (2000, 2023): \"V5150\",\n",
    "    },\n",
    "    \"NUM_SIBS\": {\n",
    "        (2000, 2023): \"V49_x\",\n",
    "    }, \n",
    "    \"BR_SR_inhouse\": {\n",
    "        (2000, 2011): \"V157\",\n",
    "        (2012, 2023): \"V2157\",\n",
    "    },\n",
    "    \"FATHR_PRES\": {\n",
    "        (2000, 2023): \"V5155\",\n",
    "    },\n",
    "    \"MOTHR_PRES\": {\n",
    "        (2000, 2023): \"V5156\",\n",
    "    },\n",
    "    \"LONELY\": {\n",
    "        (2000, 2023): \"V5313\", \n",
    "    },\n",
    "    \"WISH_MORE_FRNDS\": {\n",
    "        (2000, 2023): \"V5321\",  \n",
    "    },\n",
    "    \"USLLY_FRNDS\": {\n",
    "        (2000, 2023): \"V5324\",  \n",
    "    },\n",
    "}\n",
    "\n",
    "def get_variable_for_year(variable_name, year):\n",
    "    for year_range, var in variable_mapping[variable_name].items():\n",
    "        if year_range[0] <= year <= year_range[1]:\n",
    "            return var\n",
    "    return None\n",
    "\n",
    "def rename_variables(df, year):\n",
    "    renamed_columns = {}\n",
    "\n",
    "    for logic_name, year_mapping in variable_mapping.items():\n",
    "        column_name = get_variable_for_year(logic_name, year)\n",
    "        if column_name and column_name in df.columns:\n",
    "            renamed_columns[column_name] = logic_name\n",
    "\n",
    "    df = df.rename(columns=renamed_columns)\n",
    "    print(f\"Renamed columns for year {year}: {renamed_columns}\")\n",
    "    return df\n",
    "\n",
    "def clean_and_process_data(df, year):\n",
    "    df = rename_variables(df, year)\n",
    "\n",
    "    cols_interest = [\n",
    "        \"RESPONDENT_ID\",\n",
    "        \"V1_x\", \n",
    "        \"SEX\",  \n",
    "        \"POL_BELIEFS\",  \n",
    "        \"NUM_SIBS\", \n",
    "        \"BR_SR_inhouse\", \n",
    "        \"FATHR_PRES\",  \n",
    "        \"MOTHR_PRES\",  \n",
    "        \"LONELY\",  \n",
    "        \"WISH_MORE_FRNDS\",  \n",
    "        \"USLLY_FRNDS\", \n",
    "    ]\n",
    "\n",
    "    cols_interest = [col for col in cols_interest if col in df.columns]  \n",
    "    dfmain = df[cols_interest]\n",
    "\n",
    "    # Clean variables where needed\n",
    "    cols_clean = [\"NUM_SIBS\", \"SEX\", \"POL_BELIEFS\", \"BR_SR_inhouse\", \"FATHR_PRES\", \"MOTHR_PRES\", \"LONELY\", \"WISH_MORE_FRNDS\", \"USLLY_FRNDS\"]\n",
    "    cols_clean = [col for col in cols_clean if col in df.columns]\n",
    "\n",
    "\n",
    "    # def extract_number(column):\n",
    "    #     pattern = r\".+:\\s*\\((\\d+)\\)\"\n",
    "    #     return column.apply(lambda x: int(re.match(pattern, str(x)).group(1)) if re.match(pattern, str(x)) else None)\n",
    "    \n",
    "    # for col in cols_clean:\n",
    "    #     dfmain[col] = extract_number(dfmain[col])\n",
    "    def extract_number(column):\n",
    "    \n",
    "        pattern1 = r\".+:\\s*\\((-?\\d+)\\)\"  \n",
    "        pattern2 = r\"(\\d+)\"            \n",
    "\n",
    "        def parse_value(value):\n",
    "            value_str = str(value).strip()\n",
    "            \n",
    "            if re.match(pattern1, value_str):\n",
    "                return int(re.match(pattern1, value_str).group(1))\n",
    "            elif re.match(pattern2, value_str):\n",
    "                return int(re.match(pattern2, value_str).group(1))\n",
    "            else:\n",
    "                return None\n",
    "\n",
    "        return column.apply(parse_value)\n",
    "    \n",
    "    for col in cols_clean:\n",
    "        dfmain[col] = extract_number(dfmain[col])\n",
    "    \n",
    "  \n",
    "    # if \"POL_BELIEFS\" in dfmain.columns:\n",
    "    #     dfmain = dfmain[dfmain[\"POL_BELIEFS\"].isin([6, 8, -9]) == False]\n",
    "    #     dfmain = dfmain.dropna(subset=[\"POL_BELIEFS\"])\n",
    "    #     dfmain[\"POL_BELIEFS\"] = dfmain[\"POL_BELIEFS\"] - 1  # Rescale to start from 0\n",
    "\n",
    "    # # Drop invalid values for SEX\n",
    "    # if \"SEX\" in dfmain.columns:\n",
    "    #     dfmain = dfmain[dfmain[\"SEX\"].isin([-9, 3, 4]) == False]\n",
    "    #     dfmain = dfmain.dropna(subset=[\"SEX\"])\n",
    "    #     dfmain[\"SEX\"] = dfmain[\"SEX\"] - 1  # 0 for male, 1 for female\n",
    "\n",
    "    # if 'NUM_SIBS' in dfmain.columns:\n",
    "    #     dfmain = dfmain.dropna(subset=['NUM_SIBS'])\n",
    "\n",
    "    # if 'BR_SR_inhouse' in dfmain.columns:\n",
    "    #     dfmain = dfmain.dropna(subset=['BR_SR_inhouse'])\n",
    "\n",
    "    # if 'FATHR_PRES' in dfmain.columns:\n",
    "    #     dfmain = dfmain.dropna(subset=['FATHR_PRES'])\n",
    "    \n",
    "    # if 'MOTHR_PRES' in dfmain.columns:\n",
    "    #     dfmain = dfmain.dropna(subset=['MOTHR_PRES'])\n",
    "\n",
    "    # #if lonely missing \n",
    "    # if 'LONELY' in dfmain.columns:\n",
    "    #     dfmain = dfmain.dropna(subset=['LONELY'])\n",
    "    #     dfmain['LONELY'] = dfmain['LONELY'] - 1\n",
    "    # #if wish more friends missing\n",
    "    # if 'WISH_MORE_FRNDS' in dfmain.columns:\n",
    "    #     dfmain = dfmain.dropna(subset=['WISH_MORE_FRNDS'])\n",
    "    #     dfmain['WISH_MORE_FRNDS'] = dfmain['WISH_MORE_FRNDS'] - 1\n",
    "    # #if usually friends missing\n",
    "    # if 'USLLY_FRNDS' in dfmain.columns:\n",
    "    #     dfmain = dfmain.dropna(subset=['USLLY_FRNDS'])\n",
    "    #     dfmain['USLLY_FRNDS'] = dfmain['USLLY_FRNDS'] - 1\n",
    "\n",
    "    return dfmain\n",
    "\n",
    "# Process each CSV file based on year\n",
    "def process_raw_data(base_path, output_path):\n",
    "    for csv_file in base_path.glob(\"ICPSR_data_*.csv\"):\n",
    "        try:\n",
    "            # Extract year from file name\n",
    "            year = int(csv_file.stem.split(\"_\")[-1])\n",
    "            # print(f\"Processing file for year {year}: {csv_file}\")\n",
    "\n",
    "            # Load data\n",
    "            df = pd.read_csv(csv_file)\n",
    "            # print(f\"Loaded data with shape: {df.shape}\")\n",
    "\n",
    "            # Process data\n",
    "            df_processed = clean_and_process_data(df, year)\n",
    "            # print(f\"Processed data shape: {df_processed.shape}\")\n",
    "\n",
    "            # Save processed data\n",
    "            output_file = output_path / f\"data_{year}.csv\"\n",
    "            df_processed.to_csv(output_file, index=False)\n",
    "            # print(f\"Saved processed data for year {year} to {output_file}\")\n",
    "\n",
    "        except Exception as e:\n",
    "            print(f\"Error processing file {csv_file}: {e}\")\n",
    "\n",
    "\n",
    "process_raw_data(base_path, output_path)"
   ]
  },
  {
   "cell_type": "code",
   "execution_count": 53,
   "metadata": {},
   "outputs": [
    {
     "ename": "FileNotFoundError",
     "evalue": "[Errno 2] No such file or directory: '/unprocessed/data_2023.csv'",
     "output_type": "error",
     "traceback": [
      "\u001b[0;31m---------------------------------------------------------------------------\u001b[0m",
      "\u001b[0;31mFileNotFoundError\u001b[0m                         Traceback (most recent call last)",
      "Cell \u001b[0;32mIn[53], line 1\u001b[0m\n\u001b[0;32m----> 1\u001b[0m df23 \u001b[38;5;241m=\u001b[39m \u001b[43mpd\u001b[49m\u001b[38;5;241;43m.\u001b[39;49m\u001b[43mread_csv\u001b[49m\u001b[43m(\u001b[49m\u001b[38;5;124;43m\"\u001b[39;49m\u001b[38;5;124;43m/unprocessed/data_2023.csv\u001b[39;49m\u001b[38;5;124;43m\"\u001b[39;49m\u001b[43m)\u001b[49m\n\u001b[1;32m      2\u001b[0m df23[\u001b[38;5;124m'\u001b[39m\u001b[38;5;124mPOL_BELIEFS\u001b[39m\u001b[38;5;124m'\u001b[39m]\u001b[38;5;241m.\u001b[39mvalue_counts()\n",
      "File \u001b[0;32m~/miniforge3/envs/pds/lib/python3.10/site-packages/pandas/io/parsers/readers.py:948\u001b[0m, in \u001b[0;36mread_csv\u001b[0;34m(filepath_or_buffer, sep, delimiter, header, names, index_col, usecols, dtype, engine, converters, true_values, false_values, skipinitialspace, skiprows, skipfooter, nrows, na_values, keep_default_na, na_filter, verbose, skip_blank_lines, parse_dates, infer_datetime_format, keep_date_col, date_parser, date_format, dayfirst, cache_dates, iterator, chunksize, compression, thousands, decimal, lineterminator, quotechar, quoting, doublequote, escapechar, comment, encoding, encoding_errors, dialect, on_bad_lines, delim_whitespace, low_memory, memory_map, float_precision, storage_options, dtype_backend)\u001b[0m\n\u001b[1;32m    935\u001b[0m kwds_defaults \u001b[38;5;241m=\u001b[39m _refine_defaults_read(\n\u001b[1;32m    936\u001b[0m     dialect,\n\u001b[1;32m    937\u001b[0m     delimiter,\n\u001b[0;32m   (...)\u001b[0m\n\u001b[1;32m    944\u001b[0m     dtype_backend\u001b[38;5;241m=\u001b[39mdtype_backend,\n\u001b[1;32m    945\u001b[0m )\n\u001b[1;32m    946\u001b[0m kwds\u001b[38;5;241m.\u001b[39mupdate(kwds_defaults)\n\u001b[0;32m--> 948\u001b[0m \u001b[38;5;28;01mreturn\u001b[39;00m \u001b[43m_read\u001b[49m\u001b[43m(\u001b[49m\u001b[43mfilepath_or_buffer\u001b[49m\u001b[43m,\u001b[49m\u001b[43m \u001b[49m\u001b[43mkwds\u001b[49m\u001b[43m)\u001b[49m\n",
      "File \u001b[0;32m~/miniforge3/envs/pds/lib/python3.10/site-packages/pandas/io/parsers/readers.py:611\u001b[0m, in \u001b[0;36m_read\u001b[0;34m(filepath_or_buffer, kwds)\u001b[0m\n\u001b[1;32m    608\u001b[0m _validate_names(kwds\u001b[38;5;241m.\u001b[39mget(\u001b[38;5;124m\"\u001b[39m\u001b[38;5;124mnames\u001b[39m\u001b[38;5;124m\"\u001b[39m, \u001b[38;5;28;01mNone\u001b[39;00m))\n\u001b[1;32m    610\u001b[0m \u001b[38;5;66;03m# Create the parser.\u001b[39;00m\n\u001b[0;32m--> 611\u001b[0m parser \u001b[38;5;241m=\u001b[39m \u001b[43mTextFileReader\u001b[49m\u001b[43m(\u001b[49m\u001b[43mfilepath_or_buffer\u001b[49m\u001b[43m,\u001b[49m\u001b[43m \u001b[49m\u001b[38;5;241;43m*\u001b[39;49m\u001b[38;5;241;43m*\u001b[39;49m\u001b[43mkwds\u001b[49m\u001b[43m)\u001b[49m\n\u001b[1;32m    613\u001b[0m \u001b[38;5;28;01mif\u001b[39;00m chunksize \u001b[38;5;129;01mor\u001b[39;00m iterator:\n\u001b[1;32m    614\u001b[0m     \u001b[38;5;28;01mreturn\u001b[39;00m parser\n",
      "File \u001b[0;32m~/miniforge3/envs/pds/lib/python3.10/site-packages/pandas/io/parsers/readers.py:1448\u001b[0m, in \u001b[0;36mTextFileReader.__init__\u001b[0;34m(self, f, engine, **kwds)\u001b[0m\n\u001b[1;32m   1445\u001b[0m     \u001b[38;5;28mself\u001b[39m\u001b[38;5;241m.\u001b[39moptions[\u001b[38;5;124m\"\u001b[39m\u001b[38;5;124mhas_index_names\u001b[39m\u001b[38;5;124m\"\u001b[39m] \u001b[38;5;241m=\u001b[39m kwds[\u001b[38;5;124m\"\u001b[39m\u001b[38;5;124mhas_index_names\u001b[39m\u001b[38;5;124m\"\u001b[39m]\n\u001b[1;32m   1447\u001b[0m \u001b[38;5;28mself\u001b[39m\u001b[38;5;241m.\u001b[39mhandles: IOHandles \u001b[38;5;241m|\u001b[39m \u001b[38;5;28;01mNone\u001b[39;00m \u001b[38;5;241m=\u001b[39m \u001b[38;5;28;01mNone\u001b[39;00m\n\u001b[0;32m-> 1448\u001b[0m \u001b[38;5;28mself\u001b[39m\u001b[38;5;241m.\u001b[39m_engine \u001b[38;5;241m=\u001b[39m \u001b[38;5;28;43mself\u001b[39;49m\u001b[38;5;241;43m.\u001b[39;49m\u001b[43m_make_engine\u001b[49m\u001b[43m(\u001b[49m\u001b[43mf\u001b[49m\u001b[43m,\u001b[49m\u001b[43m \u001b[49m\u001b[38;5;28;43mself\u001b[39;49m\u001b[38;5;241;43m.\u001b[39;49m\u001b[43mengine\u001b[49m\u001b[43m)\u001b[49m\n",
      "File \u001b[0;32m~/miniforge3/envs/pds/lib/python3.10/site-packages/pandas/io/parsers/readers.py:1705\u001b[0m, in \u001b[0;36mTextFileReader._make_engine\u001b[0;34m(self, f, engine)\u001b[0m\n\u001b[1;32m   1703\u001b[0m     \u001b[38;5;28;01mif\u001b[39;00m \u001b[38;5;124m\"\u001b[39m\u001b[38;5;124mb\u001b[39m\u001b[38;5;124m\"\u001b[39m \u001b[38;5;129;01mnot\u001b[39;00m \u001b[38;5;129;01min\u001b[39;00m mode:\n\u001b[1;32m   1704\u001b[0m         mode \u001b[38;5;241m+\u001b[39m\u001b[38;5;241m=\u001b[39m \u001b[38;5;124m\"\u001b[39m\u001b[38;5;124mb\u001b[39m\u001b[38;5;124m\"\u001b[39m\n\u001b[0;32m-> 1705\u001b[0m \u001b[38;5;28mself\u001b[39m\u001b[38;5;241m.\u001b[39mhandles \u001b[38;5;241m=\u001b[39m \u001b[43mget_handle\u001b[49m\u001b[43m(\u001b[49m\n\u001b[1;32m   1706\u001b[0m \u001b[43m    \u001b[49m\u001b[43mf\u001b[49m\u001b[43m,\u001b[49m\n\u001b[1;32m   1707\u001b[0m \u001b[43m    \u001b[49m\u001b[43mmode\u001b[49m\u001b[43m,\u001b[49m\n\u001b[1;32m   1708\u001b[0m \u001b[43m    \u001b[49m\u001b[43mencoding\u001b[49m\u001b[38;5;241;43m=\u001b[39;49m\u001b[38;5;28;43mself\u001b[39;49m\u001b[38;5;241;43m.\u001b[39;49m\u001b[43moptions\u001b[49m\u001b[38;5;241;43m.\u001b[39;49m\u001b[43mget\u001b[49m\u001b[43m(\u001b[49m\u001b[38;5;124;43m\"\u001b[39;49m\u001b[38;5;124;43mencoding\u001b[39;49m\u001b[38;5;124;43m\"\u001b[39;49m\u001b[43m,\u001b[49m\u001b[43m \u001b[49m\u001b[38;5;28;43;01mNone\u001b[39;49;00m\u001b[43m)\u001b[49m\u001b[43m,\u001b[49m\n\u001b[1;32m   1709\u001b[0m \u001b[43m    \u001b[49m\u001b[43mcompression\u001b[49m\u001b[38;5;241;43m=\u001b[39;49m\u001b[38;5;28;43mself\u001b[39;49m\u001b[38;5;241;43m.\u001b[39;49m\u001b[43moptions\u001b[49m\u001b[38;5;241;43m.\u001b[39;49m\u001b[43mget\u001b[49m\u001b[43m(\u001b[49m\u001b[38;5;124;43m\"\u001b[39;49m\u001b[38;5;124;43mcompression\u001b[39;49m\u001b[38;5;124;43m\"\u001b[39;49m\u001b[43m,\u001b[49m\u001b[43m \u001b[49m\u001b[38;5;28;43;01mNone\u001b[39;49;00m\u001b[43m)\u001b[49m\u001b[43m,\u001b[49m\n\u001b[1;32m   1710\u001b[0m \u001b[43m    \u001b[49m\u001b[43mmemory_map\u001b[49m\u001b[38;5;241;43m=\u001b[39;49m\u001b[38;5;28;43mself\u001b[39;49m\u001b[38;5;241;43m.\u001b[39;49m\u001b[43moptions\u001b[49m\u001b[38;5;241;43m.\u001b[39;49m\u001b[43mget\u001b[49m\u001b[43m(\u001b[49m\u001b[38;5;124;43m\"\u001b[39;49m\u001b[38;5;124;43mmemory_map\u001b[39;49m\u001b[38;5;124;43m\"\u001b[39;49m\u001b[43m,\u001b[49m\u001b[43m \u001b[49m\u001b[38;5;28;43;01mFalse\u001b[39;49;00m\u001b[43m)\u001b[49m\u001b[43m,\u001b[49m\n\u001b[1;32m   1711\u001b[0m \u001b[43m    \u001b[49m\u001b[43mis_text\u001b[49m\u001b[38;5;241;43m=\u001b[39;49m\u001b[43mis_text\u001b[49m\u001b[43m,\u001b[49m\n\u001b[1;32m   1712\u001b[0m \u001b[43m    \u001b[49m\u001b[43merrors\u001b[49m\u001b[38;5;241;43m=\u001b[39;49m\u001b[38;5;28;43mself\u001b[39;49m\u001b[38;5;241;43m.\u001b[39;49m\u001b[43moptions\u001b[49m\u001b[38;5;241;43m.\u001b[39;49m\u001b[43mget\u001b[49m\u001b[43m(\u001b[49m\u001b[38;5;124;43m\"\u001b[39;49m\u001b[38;5;124;43mencoding_errors\u001b[39;49m\u001b[38;5;124;43m\"\u001b[39;49m\u001b[43m,\u001b[49m\u001b[43m \u001b[49m\u001b[38;5;124;43m\"\u001b[39;49m\u001b[38;5;124;43mstrict\u001b[39;49m\u001b[38;5;124;43m\"\u001b[39;49m\u001b[43m)\u001b[49m\u001b[43m,\u001b[49m\n\u001b[1;32m   1713\u001b[0m \u001b[43m    \u001b[49m\u001b[43mstorage_options\u001b[49m\u001b[38;5;241;43m=\u001b[39;49m\u001b[38;5;28;43mself\u001b[39;49m\u001b[38;5;241;43m.\u001b[39;49m\u001b[43moptions\u001b[49m\u001b[38;5;241;43m.\u001b[39;49m\u001b[43mget\u001b[49m\u001b[43m(\u001b[49m\u001b[38;5;124;43m\"\u001b[39;49m\u001b[38;5;124;43mstorage_options\u001b[39;49m\u001b[38;5;124;43m\"\u001b[39;49m\u001b[43m,\u001b[49m\u001b[43m \u001b[49m\u001b[38;5;28;43;01mNone\u001b[39;49;00m\u001b[43m)\u001b[49m\u001b[43m,\u001b[49m\n\u001b[1;32m   1714\u001b[0m \u001b[43m\u001b[49m\u001b[43m)\u001b[49m\n\u001b[1;32m   1715\u001b[0m \u001b[38;5;28;01massert\u001b[39;00m \u001b[38;5;28mself\u001b[39m\u001b[38;5;241m.\u001b[39mhandles \u001b[38;5;129;01mis\u001b[39;00m \u001b[38;5;129;01mnot\u001b[39;00m \u001b[38;5;28;01mNone\u001b[39;00m\n\u001b[1;32m   1716\u001b[0m f \u001b[38;5;241m=\u001b[39m \u001b[38;5;28mself\u001b[39m\u001b[38;5;241m.\u001b[39mhandles\u001b[38;5;241m.\u001b[39mhandle\n",
      "File \u001b[0;32m~/miniforge3/envs/pds/lib/python3.10/site-packages/pandas/io/common.py:863\u001b[0m, in \u001b[0;36mget_handle\u001b[0;34m(path_or_buf, mode, encoding, compression, memory_map, is_text, errors, storage_options)\u001b[0m\n\u001b[1;32m    858\u001b[0m \u001b[38;5;28;01melif\u001b[39;00m \u001b[38;5;28misinstance\u001b[39m(handle, \u001b[38;5;28mstr\u001b[39m):\n\u001b[1;32m    859\u001b[0m     \u001b[38;5;66;03m# Check whether the filename is to be opened in binary mode.\u001b[39;00m\n\u001b[1;32m    860\u001b[0m     \u001b[38;5;66;03m# Binary mode does not support 'encoding' and 'newline'.\u001b[39;00m\n\u001b[1;32m    861\u001b[0m     \u001b[38;5;28;01mif\u001b[39;00m ioargs\u001b[38;5;241m.\u001b[39mencoding \u001b[38;5;129;01mand\u001b[39;00m \u001b[38;5;124m\"\u001b[39m\u001b[38;5;124mb\u001b[39m\u001b[38;5;124m\"\u001b[39m \u001b[38;5;129;01mnot\u001b[39;00m \u001b[38;5;129;01min\u001b[39;00m ioargs\u001b[38;5;241m.\u001b[39mmode:\n\u001b[1;32m    862\u001b[0m         \u001b[38;5;66;03m# Encoding\u001b[39;00m\n\u001b[0;32m--> 863\u001b[0m         handle \u001b[38;5;241m=\u001b[39m \u001b[38;5;28;43mopen\u001b[39;49m\u001b[43m(\u001b[49m\n\u001b[1;32m    864\u001b[0m \u001b[43m            \u001b[49m\u001b[43mhandle\u001b[49m\u001b[43m,\u001b[49m\n\u001b[1;32m    865\u001b[0m \u001b[43m            \u001b[49m\u001b[43mioargs\u001b[49m\u001b[38;5;241;43m.\u001b[39;49m\u001b[43mmode\u001b[49m\u001b[43m,\u001b[49m\n\u001b[1;32m    866\u001b[0m \u001b[43m            \u001b[49m\u001b[43mencoding\u001b[49m\u001b[38;5;241;43m=\u001b[39;49m\u001b[43mioargs\u001b[49m\u001b[38;5;241;43m.\u001b[39;49m\u001b[43mencoding\u001b[49m\u001b[43m,\u001b[49m\n\u001b[1;32m    867\u001b[0m \u001b[43m            \u001b[49m\u001b[43merrors\u001b[49m\u001b[38;5;241;43m=\u001b[39;49m\u001b[43merrors\u001b[49m\u001b[43m,\u001b[49m\n\u001b[1;32m    868\u001b[0m \u001b[43m            \u001b[49m\u001b[43mnewline\u001b[49m\u001b[38;5;241;43m=\u001b[39;49m\u001b[38;5;124;43m\"\u001b[39;49m\u001b[38;5;124;43m\"\u001b[39;49m\u001b[43m,\u001b[49m\n\u001b[1;32m    869\u001b[0m \u001b[43m        \u001b[49m\u001b[43m)\u001b[49m\n\u001b[1;32m    870\u001b[0m     \u001b[38;5;28;01melse\u001b[39;00m:\n\u001b[1;32m    871\u001b[0m         \u001b[38;5;66;03m# Binary mode\u001b[39;00m\n\u001b[1;32m    872\u001b[0m         handle \u001b[38;5;241m=\u001b[39m \u001b[38;5;28mopen\u001b[39m(handle, ioargs\u001b[38;5;241m.\u001b[39mmode)\n",
      "\u001b[0;31mFileNotFoundError\u001b[0m: [Errno 2] No such file or directory: '/unprocessed/data_2023.csv'"
     ]
    }
   ],
   "source": [
    "df23 = pd.read_csv(\"/unprocessed/data_2023.csv\")\n",
    "df23['POL_BELIEFS'].value_counts()"
   ]
  },
  {
   "cell_type": "code",
   "execution_count": null,
   "metadata": {},
   "outputs": [
    {
     "name": "stdout",
     "output_type": "stream",
     "text": [
      "Renamed columns for year 2013: {'V5167': 'POL_BELIEFS', 'V5150': 'SEX', 'V49_x': 'NUM_SIBS', 'V2157': 'BR_SR_inhouse', 'V5155': 'FATHR_PRES', 'V5156': 'MOTHR_PRES', 'V5313': 'LONELY', 'V5321': 'WISH_MORE_FRNDS', 'V5324': 'USLLY_FRNDS'}\n",
      "Renamed columns for year 2007: {'V5167': 'POL_BELIEFS', 'V5150': 'SEX', 'V49_x': 'NUM_SIBS', 'V157': 'BR_SR_inhouse', 'V5155': 'FATHR_PRES', 'V5156': 'MOTHR_PRES', 'V5313': 'LONELY', 'V5321': 'WISH_MORE_FRNDS', 'V5324': 'USLLY_FRNDS'}\n",
      "Renamed columns for year 2006: {'V5167': 'POL_BELIEFS', 'V5150': 'SEX', 'V49_x': 'NUM_SIBS', 'V157': 'BR_SR_inhouse', 'V5155': 'FATHR_PRES', 'V5156': 'MOTHR_PRES', 'V5313': 'LONELY', 'V5321': 'WISH_MORE_FRNDS', 'V5324': 'USLLY_FRNDS'}\n",
      "Renamed columns for year 2012: {'V5167': 'POL_BELIEFS', 'V5150': 'SEX', 'V49_x': 'NUM_SIBS', 'V2157': 'BR_SR_inhouse', 'V5155': 'FATHR_PRES', 'V5156': 'MOTHR_PRES', 'V5313': 'LONELY', 'V5321': 'WISH_MORE_FRNDS', 'V5324': 'USLLY_FRNDS'}\n",
      "Renamed columns for year 2004: {'V5167': 'POL_BELIEFS', 'V5150': 'SEX', 'V49_x': 'NUM_SIBS', 'V157': 'BR_SR_inhouse', 'V5155': 'FATHR_PRES', 'V5156': 'MOTHR_PRES', 'V5313': 'LONELY', 'V5321': 'WISH_MORE_FRNDS', 'V5324': 'USLLY_FRNDS'}\n",
      "Renamed columns for year 2010: {'V5167': 'POL_BELIEFS', 'V5150': 'SEX', 'V49_x': 'NUM_SIBS', 'V157': 'BR_SR_inhouse', 'V5155': 'FATHR_PRES', 'V5156': 'MOTHR_PRES', 'V5313': 'LONELY', 'V5321': 'WISH_MORE_FRNDS', 'V5324': 'USLLY_FRNDS'}\n",
      "Renamed columns for year 2011: {'V5167': 'POL_BELIEFS', 'V5150': 'SEX', 'V49_x': 'NUM_SIBS', 'V157': 'BR_SR_inhouse', 'V5155': 'FATHR_PRES', 'V5156': 'MOTHR_PRES', 'V5313': 'LONELY', 'V5321': 'WISH_MORE_FRNDS', 'V5324': 'USLLY_FRNDS'}\n",
      "Renamed columns for year 2005: {'V5167': 'POL_BELIEFS', 'V5150': 'SEX', 'V49_x': 'NUM_SIBS', 'V157': 'BR_SR_inhouse', 'V5155': 'FATHR_PRES', 'V5156': 'MOTHR_PRES', 'V5313': 'LONELY', 'V5321': 'WISH_MORE_FRNDS', 'V5324': 'USLLY_FRNDS'}\n",
      "Renamed columns for year 2001: {'V5167': 'POL_BELIEFS', 'V5150': 'SEX', 'V49_x': 'NUM_SIBS', 'V157': 'BR_SR_inhouse', 'V5155': 'FATHR_PRES', 'V5156': 'MOTHR_PRES', 'V5313': 'LONELY', 'V5321': 'WISH_MORE_FRNDS', 'V5324': 'USLLY_FRNDS'}\n",
      "Renamed columns for year 2015: {'V5167': 'POL_BELIEFS', 'V5150': 'SEX', 'V49_x': 'NUM_SIBS', 'V2157': 'BR_SR_inhouse', 'V5155': 'FATHR_PRES', 'V5156': 'MOTHR_PRES', 'V5313': 'LONELY', 'V5321': 'WISH_MORE_FRNDS', 'V5324': 'USLLY_FRNDS'}\n",
      "Renamed columns for year 2014: {'V5167': 'POL_BELIEFS', 'V5150': 'SEX', 'V49_x': 'NUM_SIBS', 'V2157': 'BR_SR_inhouse', 'V5155': 'FATHR_PRES', 'V5156': 'MOTHR_PRES', 'V5313': 'LONELY', 'V5321': 'WISH_MORE_FRNDS', 'V5324': 'USLLY_FRNDS'}\n",
      "Renamed columns for year 2000: {'V5167': 'POL_BELIEFS', 'V5150': 'SEX', 'V49_x': 'NUM_SIBS', 'V157': 'BR_SR_inhouse', 'V5155': 'FATHR_PRES', 'V5156': 'MOTHR_PRES', 'V5313': 'LONELY', 'V5321': 'WISH_MORE_FRNDS', 'V5324': 'USLLY_FRNDS'}\n",
      "Renamed columns for year 2016: {'V5167': 'POL_BELIEFS', 'V5150': 'SEX', 'V49_x': 'NUM_SIBS', 'V2157': 'BR_SR_inhouse', 'V5155': 'FATHR_PRES', 'V5156': 'MOTHR_PRES', 'V5313': 'LONELY', 'V5321': 'WISH_MORE_FRNDS', 'V5324': 'USLLY_FRNDS'}\n",
      "Renamed columns for year 2002: {'V5167': 'POL_BELIEFS', 'V5150': 'SEX', 'V49_x': 'NUM_SIBS', 'V157': 'BR_SR_inhouse', 'V5155': 'FATHR_PRES', 'V5156': 'MOTHR_PRES', 'V5313': 'LONELY', 'V5321': 'WISH_MORE_FRNDS', 'V5324': 'USLLY_FRNDS'}\n",
      "Renamed columns for year 2003: {'V5167': 'POL_BELIEFS', 'V5150': 'SEX', 'V49_x': 'NUM_SIBS', 'V157': 'BR_SR_inhouse', 'V5155': 'FATHR_PRES', 'V5156': 'MOTHR_PRES', 'V5313': 'LONELY', 'V5321': 'WISH_MORE_FRNDS', 'V5324': 'USLLY_FRNDS'}\n",
      "Renamed columns for year 2017: {'V5167': 'POL_BELIEFS', 'V5150': 'SEX', 'V49_x': 'NUM_SIBS', 'V2157': 'BR_SR_inhouse', 'V5155': 'FATHR_PRES', 'V5156': 'MOTHR_PRES', 'V5313': 'LONELY', 'V5321': 'WISH_MORE_FRNDS', 'V5324': 'USLLY_FRNDS'}\n",
      "Renamed columns for year 2019: {'V5167': 'POL_BELIEFS', 'V5150': 'SEX', 'V49_x': 'NUM_SIBS', 'V2157': 'BR_SR_inhouse', 'V5155': 'FATHR_PRES', 'V5156': 'MOTHR_PRES', 'V5313': 'LONELY', 'V5321': 'WISH_MORE_FRNDS', 'V5324': 'USLLY_FRNDS'}\n",
      "Renamed columns for year 2018: {'V5167': 'POL_BELIEFS', 'V5150': 'SEX', 'V49_x': 'NUM_SIBS', 'V2157': 'BR_SR_inhouse', 'V5155': 'FATHR_PRES', 'V5156': 'MOTHR_PRES', 'V5313': 'LONELY', 'V5321': 'WISH_MORE_FRNDS', 'V5324': 'USLLY_FRNDS'}\n",
      "Renamed columns for year 2008: {'V5167': 'POL_BELIEFS', 'V5150': 'SEX', 'V49_x': 'NUM_SIBS', 'V157': 'BR_SR_inhouse', 'V5155': 'FATHR_PRES', 'V5156': 'MOTHR_PRES', 'V5313': 'LONELY', 'V5321': 'WISH_MORE_FRNDS', 'V5324': 'USLLY_FRNDS'}\n",
      "Renamed columns for year 2020: {'V5167': 'POL_BELIEFS', 'V5150': 'SEX', 'V49_x': 'NUM_SIBS', 'V2157': 'BR_SR_inhouse', 'V5155': 'FATHR_PRES', 'V5156': 'MOTHR_PRES', 'V5313': 'LONELY', 'V5321': 'WISH_MORE_FRNDS', 'V5324': 'USLLY_FRNDS'}\n",
      "Renamed columns for year 2021: {'V5167': 'POL_BELIEFS', 'V5150': 'SEX', 'V49_x': 'NUM_SIBS', 'V2157': 'BR_SR_inhouse', 'V5155': 'FATHR_PRES', 'V5156': 'MOTHR_PRES', 'V5313': 'LONELY', 'V5321': 'WISH_MORE_FRNDS', 'V5324': 'USLLY_FRNDS'}\n",
      "Renamed columns for year 2009: {'V5167': 'POL_BELIEFS', 'V5150': 'SEX', 'V49_x': 'NUM_SIBS', 'V157': 'BR_SR_inhouse', 'V5155': 'FATHR_PRES', 'V5156': 'MOTHR_PRES', 'V5313': 'LONELY', 'V5321': 'WISH_MORE_FRNDS', 'V5324': 'USLLY_FRNDS'}\n",
      "Renamed columns for year 2023: {'V5167': 'POL_BELIEFS', 'V5150': 'SEX', 'V49_x': 'NUM_SIBS', 'V2157': 'BR_SR_inhouse', 'V5155': 'FATHR_PRES', 'V5156': 'MOTHR_PRES', 'V5313': 'LONELY', 'V5321': 'WISH_MORE_FRNDS', 'V5324': 'USLLY_FRNDS'}\n",
      "Renamed columns for year 2022: {'V5167': 'POL_BELIEFS', 'V5150': 'SEX', 'V49_x': 'NUM_SIBS', 'V2157': 'BR_SR_inhouse', 'V5155': 'FATHR_PRES', 'V5156': 'MOTHR_PRES', 'V5313': 'LONELY', 'V5321': 'WISH_MORE_FRNDS', 'V5324': 'USLLY_FRNDS'}\n"
     ]
    }
   ],
   "source": [
    "base_path = Path(\"/Users/yipho/eecs398/portfolio/raw_data\")\n",
    "output_path = Path(\"/Users/yipho/eecs398/portfolio/processed_data\") \n",
    "output_path.mkdir(parents=True, exist_ok=True)\n",
    "\n",
    "variable_mapping = {\n",
    "    \"POL_BELIEFS\": {\n",
    "        (2000, 2023): \"V5167\",\n",
    "    },\n",
    "    \"SEX\" : {\n",
    "        (2000, 2023): \"V5150\",\n",
    "    },\n",
    "    \"NUM_SIBS\": {\n",
    "        (2000, 2023): \"V49_x\",\n",
    "    }, \n",
    "    \"BR_SR_inhouse\": {\n",
    "        (2000, 2011): \"V157\",\n",
    "        (2012, 2023): \"V2157\",\n",
    "    },\n",
    "    \"FATHR_PRES\": {\n",
    "        (2000, 2023): \"V5155\",\n",
    "    },\n",
    "    \"MOTHR_PRES\": {\n",
    "        (2000, 2023): \"V5156\",\n",
    "    },\n",
    "    \"LONELY\": {\n",
    "        (2000, 2023): \"V5313\", \n",
    "    },\n",
    "    \"WISH_MORE_FRNDS\": {\n",
    "        (2000, 2023): \"V5321\",  \n",
    "    },\n",
    "    \"USLLY_FRNDS\": {\n",
    "        (2000, 2023): \"V5324\",  \n",
    "    },\n",
    "}\n",
    "\n",
    "def get_variable_for_year(variable_name, year):\n",
    "    for year_range, var in variable_mapping[variable_name].items():\n",
    "        if year_range[0] <= year <= year_range[1]:\n",
    "            return var\n",
    "    return None\n",
    "\n",
    "def rename_variables(df, year):\n",
    "    renamed_columns = {}\n",
    "\n",
    "    for logic_name, year_mapping in variable_mapping.items():\n",
    "        column_name = get_variable_for_year(logic_name, year)\n",
    "        if column_name and column_name in df.columns:\n",
    "            renamed_columns[column_name] = logic_name\n",
    "\n",
    "    df = df.rename(columns=renamed_columns)\n",
    "    print(f\"Renamed columns for year {year}: {renamed_columns}\")\n",
    "    return df\n",
    "\n",
    "def clean_and_process_data(df, year):\n",
    "    df = rename_variables(df, year)\n",
    "\n",
    "    cols_interest = [\n",
    "        \"RESPONDENT_ID\",\n",
    "        \"V1_x\", \n",
    "        \"SEX\",  \n",
    "        \"POL_BELIEFS\",  \n",
    "        \"NUM_SIBS\", \n",
    "        \"BR_SR_inhouse\", \n",
    "        \"FATHR_PRES\",  \n",
    "        \"MOTHR_PRES\",  \n",
    "        \"LONELY\",  \n",
    "        \"WISH_MORE_FRNDS\",  \n",
    "        \"USLLY_FRNDS\", \n",
    "    ]\n",
    "\n",
    "    cols_interest = [col for col in cols_interest if col in df.columns]  \n",
    "    dfmain = df[cols_interest]\n",
    "\n",
    "    # Clean variables where needed\n",
    "    cols_clean = [\"NUM_SIBS\", \"SEX\", \"POL_BELIEFS\", \"BR_SR_inhouse\", \"FATHR_PRES\", \"MOTHR_PRES\", \"LONELY\", \"WISH_MORE_FRNDS\", \"USLLY_FRNDS\"]\n",
    "    cols_clean = [col for col in cols_clean if col in df.columns]\n",
    "\n",
    "\n",
    "    # def extract_number(column):\n",
    "    #     pattern = r\".+:\\s*\\((\\d+)\\)\"\n",
    "    #     return column.apply(lambda x: int(re.match(pattern, str(x)).group(1)) if re.match(pattern, str(x)) else None)\n",
    "    \n",
    "    # for col in cols_clean:\n",
    "    #     dfmain[col] = extract_number(dfmain[col])\n",
    "    def extract_number(column):\n",
    "    \n",
    "        pattern1 = r\".+:\\s*\\((\\d+)\\)\"  \n",
    "        pattern2 = r\"-?\\d+\"            \n",
    "\n",
    "        def parse_value(value):\n",
    "            value_str = str(value).strip()\n",
    "            \n",
    "            if re.match(pattern1, value_str):\n",
    "                return int(re.match(pattern1, value_str).group(1))\n",
    "            elif re.match(pattern2, value_str):\n",
    "                return int(re.match(pattern2, value_str).group(1))\n",
    "            else:\n",
    "                return None\n",
    "\n",
    "        return column.apply(parse_value)\n",
    "    \n",
    "    for col in cols_clean:\n",
    "        dfmain[col] = extract_number(dfmain[col])\n",
    "    \n",
    "  \n",
    "    if \"POL_BELIEFS\" in dfmain.columns:\n",
    "        dfmain = dfmain[dfmain[\"POL_BELIEFS\"].isin([6, 8, -9]) == False]\n",
    "        dfmain = dfmain.dropna(subset=[\"POL_BELIEFS\"])\n",
    "        dfmain[\"POL_BELIEFS\"] = dfmain[\"POL_BELIEFS\"] - 1  # Rescale to start from 0\n",
    "\n",
    "    # Drop invalid values for SEX\n",
    "    if \"SEX\" in dfmain.columns:\n",
    "        dfmain = dfmain[dfmain[\"SEX\"].isin([-9, 3, 4]) == False]\n",
    "        dfmain = dfmain.dropna(subset=[\"SEX\"])\n",
    "        dfmain[\"SEX\"] = dfmain[\"SEX\"] - 1  # 0 for male, 1 for female\n",
    "\n",
    "    if 'NUM_SIBS' in dfmain.columns:\n",
    "        dfmain = dfmain.dropna(subset=['NUM_SIBS'])\n",
    "\n",
    "    if 'BR_SR_inhouse' in dfmain.columns:\n",
    "        dfmain = dfmain.dropna(subset=['BR_SR_inhouse'])\n",
    "\n",
    "    if 'FATHR_PRES' in dfmain.columns:\n",
    "        dfmain = dfmain.dropna(subset=['FATHR_PRES'])\n",
    "    \n",
    "    if 'MOTHR_PRES' in dfmain.columns:\n",
    "        dfmain = dfmain.dropna(subset=['MOTHR_PRES'])\n",
    "\n",
    "    #if lonely missing \n",
    "    if 'LONELY' in dfmain.columns:\n",
    "        dfmain = dfmain.dropna(subset=['LONELY'])\n",
    "        dfmain['LONELY'] = dfmain['LONELY'] - 1\n",
    "    #if wish more friends missing\n",
    "    if 'WISH_MORE_FRNDS' in dfmain.columns:\n",
    "        dfmain = dfmain.dropna(subset=['WISH_MORE_FRNDS'])\n",
    "        dfmain['WISH_MORE_FRNDS'] = dfmain['WISH_MORE_FRNDS'] - 1\n",
    "    #if usually friends missing\n",
    "    if 'USLLY_FRNDS' in dfmain.columns:\n",
    "        dfmain = dfmain.dropna(subset=['USLLY_FRNDS'])\n",
    "        dfmain['USLLY_FRNDS'] = dfmain['USLLY_FRNDS'] - 1\n",
    "\n",
    "    return dfmain\n",
    "\n",
    "# Process each CSV file based on year\n",
    "def process_raw_data(base_path, output_path):\n",
    "    for csv_file in base_path.glob(\"ICPSR_data_*.csv\"):\n",
    "        try:\n",
    "            # Extract year from file name\n",
    "            year = int(csv_file.stem.split(\"_\")[-1])\n",
    "            # print(f\"Processing file for year {year}: {csv_file}\")\n",
    "\n",
    "            # Load data\n",
    "            df = pd.read_csv(csv_file)\n",
    "            # print(f\"Loaded data with shape: {df.shape}\")\n",
    "\n",
    "            # Process data\n",
    "            df_processed = clean_and_process_data(df, year)\n",
    "            # print(f\"Processed data shape: {df_processed.shape}\")\n",
    "\n",
    "            # Save processed data\n",
    "            output_file = output_path / f\"data_{year}.csv\"\n",
    "            df_processed.to_csv(output_file, index=False)\n",
    "            # print(f\"Saved processed data for year {year} to {output_file}\")\n",
    "\n",
    "        except Exception as e:\n",
    "            print(f\"Error processing file {csv_file}: {e}\")\n",
    "\n",
    "\n",
    "process_raw_data(base_path, output_path)"
   ]
  },
  {
   "cell_type": "code",
   "execution_count": null,
   "metadata": {},
   "outputs": [],
   "source": [
    "base_path = Path(\"/Users/yipho/eecs398/portfolio/processed_data\")\n",
    "output_path = Path(\"/Users/yipho/eecs398/portfolio/df_data\") \n",
    "output_path.mkdir(parents=True, exist_ok=True)\n",
    "\n",
    "def avg_loneliness(df, year): \n",
    "    #scaling from 0 to 1 \n",
    "    #divide all values by 4\n",
    "    df['LONELY'] = df['LONELY']/4\n",
    "    #add all values together then divide by the number of values\n",
    "    return df['LONELY'].mean()\n",
    "\n",
    "def avg_pol_beliefs(df, year): \n",
    "    #scaling from 0 to 1\n",
    "    #divide all values by 4\n",
    "    df['POL_BELIEFS'] = df['POL_BELIEFS']/4\n",
    "    #add all values together then divide by the number of values\n",
    "    return df['POL_BELIEFS'].mean()\n",
    "\n",
    "\n",
    "def avg_sibling_count(df, year): \n",
    "    return df[\"NUM_SIBS\"].mean()\n",
    "\n",
    "def avg_wish_frnds(df,year):\n",
    "    df['WISH_MORE_FRNDS'] = df['WISH_MORE_FRNDS']/4\n",
    "    return df['WISH_MORE_FRNDS'].mean()\n",
    "\n",
    "def avg_uslly_frnds(df,year):\n",
    "    df['USLLY_FRNDS'] = df['USLLY_FRNDS']/4\n",
    "    return df['USLLY_FRNDS'].mean()\n",
    "\n",
    "def avg_fathr_pres(df,year):\n",
    "    return df['FATHR_PRES'].mean()\n",
    "\n",
    "def avg_mothr_pres(df,year):\n",
    "    return df['MOTHR_PRES'].mean()\n",
    "\n",
    "\n",
    "#boolean to a numeric value for father and pres \n"
   ]
  },
  {
   "cell_type": "code",
   "execution_count": 25,
   "metadata": {},
   "outputs": [
    {
     "data": {
      "text/html": [
       "<div>\n",
       "<style scoped>\n",
       "    .dataframe tbody tr th:only-of-type {\n",
       "        vertical-align: middle;\n",
       "    }\n",
       "\n",
       "    .dataframe tbody tr th {\n",
       "        vertical-align: top;\n",
       "    }\n",
       "\n",
       "    .dataframe thead th {\n",
       "        text-align: right;\n",
       "    }\n",
       "</style>\n",
       "<table border=\"1\" class=\"dataframe\">\n",
       "  <thead>\n",
       "    <tr style=\"text-align: right;\">\n",
       "      <th>POL_BELIEFS</th>\n",
       "      <th>0.0</th>\n",
       "      <th>1.0</th>\n",
       "      <th>2.0</th>\n",
       "      <th>3.0</th>\n",
       "      <th>4.0</th>\n",
       "    </tr>\n",
       "    <tr>\n",
       "      <th>LONELY</th>\n",
       "      <th></th>\n",
       "      <th></th>\n",
       "      <th></th>\n",
       "      <th></th>\n",
       "      <th></th>\n",
       "    </tr>\n",
       "  </thead>\n",
       "  <tbody>\n",
       "    <tr>\n",
       "      <th>0.0</th>\n",
       "      <td>16</td>\n",
       "      <td>35</td>\n",
       "      <td>32</td>\n",
       "      <td>9</td>\n",
       "      <td>4</td>\n",
       "    </tr>\n",
       "    <tr>\n",
       "      <th>1.0</th>\n",
       "      <td>7</td>\n",
       "      <td>28</td>\n",
       "      <td>53</td>\n",
       "      <td>40</td>\n",
       "      <td>17</td>\n",
       "    </tr>\n",
       "    <tr>\n",
       "      <th>2.0</th>\n",
       "      <td>17</td>\n",
       "      <td>34</td>\n",
       "      <td>46</td>\n",
       "      <td>45</td>\n",
       "      <td>17</td>\n",
       "    </tr>\n",
       "    <tr>\n",
       "      <th>3.0</th>\n",
       "      <td>11</td>\n",
       "      <td>34</td>\n",
       "      <td>39</td>\n",
       "      <td>46</td>\n",
       "      <td>18</td>\n",
       "    </tr>\n",
       "    <tr>\n",
       "      <th>4.0</th>\n",
       "      <td>9</td>\n",
       "      <td>21</td>\n",
       "      <td>33</td>\n",
       "      <td>36</td>\n",
       "      <td>9</td>\n",
       "    </tr>\n",
       "  </tbody>\n",
       "</table>\n",
       "</div>"
      ],
      "text/plain": [
       "POL_BELIEFS  0.0  1.0  2.0  3.0  4.0\n",
       "LONELY                              \n",
       "0.0           16   35   32    9    4\n",
       "1.0            7   28   53   40   17\n",
       "2.0           17   34   46   45   17\n",
       "3.0           11   34   39   46   18\n",
       "4.0            9   21   33   36    9"
      ]
     },
     "execution_count": 25,
     "metadata": {},
     "output_type": "execute_result"
    }
   ],
   "source": [
    "df23 = pd.read_csv(\"processed_data/data_2023.csv\")\n",
    "pivot_table = pd.crosstab(df23[\"LONELY\"], df23[\"POL_BELIEFS\"])\n",
    "pivot_table"
   ]
  },
  {
   "cell_type": "markdown",
   "metadata": {},
   "source": [
    "## SECOND PLOT, BIVAR ANALYSIS 1 "
   ]
  },
  {
   "cell_type": "code",
   "execution_count": 26,
   "metadata": {},
   "outputs": [
    {
     "data": {
      "application/vnd.plotly.v1+json": {
       "config": {
        "plotlyServerURL": "https://plot.ly"
       },
       "data": [
        {
         "coloraxis": "coloraxis",
         "hovertemplate": "POL_BELIEFS=%{x}<br>LONELY=%{y}<br>count=%{z}<extra></extra>",
         "name": "",
         "type": "histogram2d",
         "x": [
          3,
          4,
          0,
          2,
          0,
          3,
          3,
          1,
          1,
          2,
          2,
          0,
          1,
          1,
          3,
          2,
          3,
          2,
          3,
          3,
          4,
          3,
          3,
          4,
          3,
          2,
          4,
          3,
          2,
          3,
          2,
          2,
          0,
          1,
          3,
          4,
          3,
          3,
          4,
          3,
          0,
          3,
          3,
          1,
          3,
          4,
          3,
          3,
          3,
          3,
          3,
          3,
          1,
          0,
          2,
          1,
          3,
          1,
          0,
          1,
          2,
          1,
          1,
          1,
          3,
          2,
          0,
          3,
          1,
          2,
          2,
          2,
          4,
          3,
          2,
          2,
          1,
          1,
          1,
          3,
          2,
          1,
          1,
          0,
          2,
          1,
          3,
          0,
          2,
          2,
          0,
          2,
          2,
          3,
          0,
          1,
          2,
          0,
          1,
          2,
          0,
          2,
          1,
          3,
          0,
          3,
          1,
          1,
          1,
          4,
          2,
          1,
          0,
          2,
          4,
          2,
          2,
          2,
          1,
          1,
          4,
          4,
          1,
          3,
          3,
          2,
          1,
          2,
          2,
          3,
          2,
          1,
          2,
          4,
          1,
          4,
          3,
          2,
          2,
          2,
          1,
          3,
          3,
          4,
          2,
          1,
          4,
          3,
          2,
          3,
          3,
          3,
          3,
          1,
          1,
          4,
          4,
          1,
          1,
          2,
          4,
          2,
          2,
          1,
          1,
          0,
          2,
          2,
          3,
          2,
          2,
          3,
          4,
          1,
          3,
          1,
          0,
          2,
          4,
          3,
          4,
          4,
          2,
          3,
          3,
          0,
          3,
          3,
          4,
          2,
          1,
          3,
          2,
          3,
          0,
          1,
          1,
          0,
          0,
          1,
          4,
          4,
          3,
          4,
          3,
          3,
          2,
          2,
          3,
          2,
          2,
          4,
          2,
          2,
          3,
          2,
          3,
          1,
          2,
          4,
          2,
          2,
          1,
          2,
          2,
          3,
          3,
          3,
          2,
          3,
          2,
          1,
          3,
          3,
          3,
          4,
          3,
          2,
          4,
          1,
          3,
          1,
          0,
          3,
          0,
          1,
          3,
          3,
          2,
          3,
          2,
          4,
          3,
          2,
          3,
          3,
          2,
          3,
          3,
          2,
          3,
          3,
          3,
          2,
          1,
          0,
          0,
          1,
          3,
          0,
          1,
          3,
          4,
          3,
          2,
          3,
          0,
          2,
          1,
          3,
          2,
          2,
          1,
          1,
          3,
          4,
          1,
          2,
          1,
          1,
          1,
          1,
          1,
          1,
          1,
          3,
          2,
          1,
          1,
          2,
          3,
          2,
          2,
          2,
          3,
          1,
          2,
          3,
          1,
          0,
          2,
          3,
          0,
          1,
          4,
          2,
          1,
          0,
          1,
          3,
          1,
          4,
          1,
          2,
          2,
          3,
          0,
          2,
          3,
          2,
          2,
          4,
          1,
          1,
          0,
          2,
          2,
          0,
          3,
          2,
          3,
          1,
          2,
          4,
          1,
          2,
          1,
          2,
          1,
          1,
          3,
          3,
          1,
          2,
          2,
          2,
          3,
          2,
          1,
          2,
          2,
          2,
          3,
          1,
          1,
          1,
          2,
          4,
          0,
          1,
          1,
          3,
          0,
          2,
          1,
          2,
          3,
          4,
          0,
          3,
          1,
          1,
          3,
          2,
          2,
          2,
          2,
          1,
          1,
          1,
          4,
          3,
          4,
          3,
          3,
          3,
          4,
          3,
          3,
          3,
          2,
          1,
          2,
          1,
          2,
          0,
          2,
          2,
          0,
          3,
          2,
          2,
          3,
          1,
          2,
          2,
          3,
          3,
          3,
          3,
          2,
          3,
          2,
          3,
          2,
          3,
          1,
          3,
          2,
          1,
          2,
          2,
          1,
          1,
          3,
          2,
          4,
          2,
          4,
          4,
          3,
          0,
          4,
          3,
          1,
          2,
          1,
          2,
          1,
          2,
          0,
          2,
          1,
          1,
          2,
          2,
          2,
          1,
          3,
          1,
          1,
          3,
          1,
          2,
          3,
          2,
          2,
          2,
          1,
          1,
          4,
          3,
          2,
          1,
          0,
          4,
          2,
          0,
          2,
          2,
          0,
          1,
          1,
          4,
          0,
          3,
          4,
          2,
          2,
          1,
          1,
          2,
          2,
          3,
          2,
          3,
          2,
          2,
          3,
          3,
          2,
          4,
          3,
          3,
          4,
          0,
          1,
          3,
          2,
          4,
          3,
          3,
          3,
          1,
          2,
          1,
          1,
          4,
          2,
          2,
          3,
          1,
          0,
          2,
          3,
          1,
          0,
          1,
          1,
          2,
          1,
          1,
          0,
          4,
          2,
          1,
          2,
          0,
          1,
          2,
          1,
          3,
          1,
          2,
          1,
          0,
          3,
          2,
          4,
          2,
          3,
          3,
          1,
          2,
          3,
          2,
          2,
          2,
          1,
          2,
          2,
          1,
          0,
          3,
          1,
          2,
          3,
          0,
          1,
          3,
          2,
          3,
          1,
          2,
          2,
          3,
          2,
          4,
          2,
          0,
          3,
          2,
          2,
          3,
          0,
          2,
          1,
          3,
          1,
          3,
          2,
          2,
          1,
          2,
          0,
          3,
          0,
          2,
          3,
          1,
          3,
          3,
          3,
          3,
          3,
          2,
          3,
          4,
          4,
          3,
          4,
          3,
          2,
          3,
          4,
          2,
          2,
          2,
          3,
          3,
          1,
          3,
          4,
          0,
          1,
          2,
          2,
          1,
          2,
          1,
          2,
          2,
          2,
          1,
          2,
          1,
          1,
          2,
          4,
          2,
          2,
          2,
          3,
          4,
          3,
          3,
          0,
          1,
          3,
          2,
          2,
          2,
          3,
          2,
          2,
          0
         ],
         "xaxis": "x",
         "xbingroup": "x",
         "y": [
          4,
          4,
          2,
          3,
          4,
          3,
          3,
          3,
          4,
          1,
          2,
          2,
          1,
          3,
          3,
          2,
          2,
          4,
          2,
          1,
          3,
          3,
          4,
          1,
          3,
          0,
          2,
          3,
          0,
          1,
          0,
          3,
          2,
          1,
          1,
          1,
          2,
          0,
          1,
          1,
          4,
          3,
          4,
          1,
          3,
          2,
          1,
          4,
          2,
          3,
          1,
          2,
          1,
          0,
          1,
          4,
          2,
          4,
          4,
          0,
          3,
          0,
          3,
          3,
          2,
          3,
          0,
          2,
          2,
          3,
          2,
          4,
          4,
          2,
          4,
          3,
          2,
          3,
          4,
          4,
          3,
          3,
          4,
          3,
          1,
          0,
          2,
          2,
          2,
          3,
          4,
          2,
          0,
          2,
          0,
          2,
          1,
          3,
          3,
          4,
          2,
          4,
          4,
          2,
          2,
          1,
          3,
          2,
          4,
          3,
          4,
          3,
          2,
          4,
          2,
          3,
          0,
          3,
          1,
          0,
          3,
          2,
          0,
          0,
          1,
          3,
          2,
          1,
          0,
          3,
          1,
          3,
          2,
          1,
          0,
          2,
          3,
          1,
          1,
          0,
          0,
          0,
          3,
          3,
          2,
          2,
          4,
          4,
          0,
          0,
          3,
          1,
          2,
          1,
          2,
          4,
          4,
          1,
          3,
          0,
          1,
          1,
          1,
          3,
          0,
          1,
          1,
          1,
          3,
          2,
          3,
          1,
          3,
          0,
          4,
          1,
          0,
          2,
          4,
          3,
          1,
          1,
          2,
          4,
          3,
          3,
          1,
          1,
          3,
          4,
          1,
          4,
          3,
          2,
          3,
          3,
          1,
          0,
          0,
          3,
          3,
          3,
          3,
          3,
          3,
          4,
          3,
          4,
          3,
          3,
          2,
          2,
          3,
          4,
          2,
          1,
          4,
          2,
          2,
          1,
          2,
          2,
          1,
          2,
          3,
          3,
          2,
          4,
          1,
          1,
          2,
          1,
          2,
          4,
          4,
          3,
          1,
          3,
          3,
          4,
          2,
          4,
          2,
          0,
          2,
          2,
          2,
          1,
          1,
          2,
          1,
          2,
          2,
          4,
          4,
          4,
          1,
          2,
          2,
          1,
          3,
          1,
          4,
          0,
          2,
          3,
          0,
          1,
          0,
          4,
          3,
          2,
          1,
          2,
          3,
          2,
          0,
          4,
          4,
          2,
          2,
          2,
          0,
          4,
          1,
          2,
          3,
          3,
          1,
          0,
          0,
          3,
          2,
          3,
          4,
          4,
          2,
          3,
          2,
          0,
          3,
          0,
          2,
          1,
          3,
          2,
          1,
          3,
          0,
          0,
          2,
          1,
          3,
          2,
          4,
          1,
          0,
          0,
          1,
          4,
          0,
          2,
          4,
          4,
          3,
          3,
          2,
          3,
          2,
          1,
          1,
          2,
          0,
          2,
          0,
          0,
          2,
          3,
          1,
          2,
          2,
          3,
          3,
          0,
          2,
          4,
          4,
          1,
          0,
          1,
          1,
          3,
          2,
          0,
          4,
          0,
          3,
          1,
          3,
          0,
          1,
          4,
          3,
          1,
          2,
          3,
          0,
          4,
          4,
          0,
          3,
          3,
          2,
          0,
          0,
          3,
          2,
          4,
          2,
          4,
          3,
          2,
          4,
          4,
          3,
          1,
          3,
          0,
          1,
          2,
          1,
          1,
          2,
          1,
          1,
          3,
          2,
          4,
          4,
          1,
          1,
          4,
          1,
          2,
          3,
          1,
          1,
          2,
          0,
          4,
          2,
          0,
          2,
          1,
          3,
          0,
          4,
          2,
          3,
          1,
          0,
          4,
          3,
          1,
          3,
          2,
          3,
          3,
          1,
          0,
          4,
          3,
          3,
          0,
          0,
          1,
          3,
          2,
          1,
          3,
          3,
          3,
          3,
          4,
          0,
          0,
          0,
          1,
          1,
          0,
          2,
          0,
          4,
          3,
          0,
          0,
          4,
          2,
          1,
          2,
          1,
          3,
          2,
          2,
          1,
          1,
          4,
          2,
          3,
          0,
          2,
          3,
          2,
          3,
          4,
          0,
          4,
          3,
          1,
          2,
          0,
          1,
          2,
          1,
          1,
          4,
          3,
          1,
          1,
          1,
          2,
          1,
          2,
          1,
          4,
          3,
          2,
          2,
          1,
          3,
          4,
          1,
          2,
          2,
          3,
          0,
          3,
          4,
          1,
          1,
          3,
          1,
          2,
          2,
          3,
          2,
          3,
          2,
          1,
          4,
          4,
          2,
          1,
          3,
          4,
          4,
          4,
          1,
          2,
          1,
          4,
          0,
          3,
          3,
          0,
          0,
          2,
          1,
          4,
          2,
          1,
          4,
          4,
          4,
          1,
          2,
          1,
          1,
          2,
          3,
          3,
          2,
          1,
          2,
          4,
          1,
          0,
          2,
          2,
          1,
          2,
          2,
          4,
          1,
          0,
          4,
          1,
          0,
          3,
          3,
          1,
          2,
          3,
          0,
          2,
          2,
          3,
          1,
          3,
          0,
          3,
          0,
          0,
          2,
          1,
          1,
          0,
          1,
          0,
          0,
          2,
          4,
          3,
          2,
          2,
          4,
          3,
          0,
          4,
          0,
          2,
          1,
          2,
          2,
          3,
          4,
          4,
          0,
          0,
          1,
          3,
          0,
          3,
          2,
          2,
          2,
          1,
          1,
          3,
          3,
          0,
          3,
          1,
          1,
          0,
          1,
          2,
          1,
          1,
          4,
          3,
          2,
          2,
          2,
          3,
          0,
          2,
          4,
          1,
          4,
          1,
          4,
          1,
          2,
          3,
          1,
          2,
          0,
          1,
          2,
          4,
          4,
          2,
          1,
          1,
          2
         ],
         "yaxis": "y",
         "ybingroup": "y"
        }
       ],
       "layout": {
        "coloraxis": {
         "colorbar": {
          "title": {
           "text": "count"
          }
         },
         "colorscale": [
          [
           0,
           "#440154"
          ],
          [
           0.1111111111111111,
           "#482878"
          ],
          [
           0.2222222222222222,
           "#3e4989"
          ],
          [
           0.3333333333333333,
           "#31688e"
          ],
          [
           0.4444444444444444,
           "#26828e"
          ],
          [
           0.5555555555555556,
           "#1f9e89"
          ],
          [
           0.6666666666666666,
           "#35b779"
          ],
          [
           0.7777777777777778,
           "#6ece58"
          ],
          [
           0.8888888888888888,
           "#b5de2b"
          ],
          [
           1,
           "#fde725"
          ]
         ]
        },
        "legend": {
         "tracegroupgap": 0
        },
        "template": {
         "data": {
          "bar": [
           {
            "error_x": {
             "color": "rgb(36,36,36)"
            },
            "error_y": {
             "color": "rgb(36,36,36)"
            },
            "marker": {
             "line": {
              "color": "white",
              "width": 0.5
             },
             "pattern": {
              "fillmode": "overlay",
              "size": 10,
              "solidity": 0.2
             }
            },
            "type": "bar"
           }
          ],
          "barpolar": [
           {
            "marker": {
             "line": {
              "color": "white",
              "width": 0.5
             },
             "pattern": {
              "fillmode": "overlay",
              "size": 10,
              "solidity": 0.2
             }
            },
            "type": "barpolar"
           }
          ],
          "carpet": [
           {
            "aaxis": {
             "endlinecolor": "rgb(36,36,36)",
             "gridcolor": "white",
             "linecolor": "white",
             "minorgridcolor": "white",
             "startlinecolor": "rgb(36,36,36)"
            },
            "baxis": {
             "endlinecolor": "rgb(36,36,36)",
             "gridcolor": "white",
             "linecolor": "white",
             "minorgridcolor": "white",
             "startlinecolor": "rgb(36,36,36)"
            },
            "type": "carpet"
           }
          ],
          "choropleth": [
           {
            "colorbar": {
             "outlinewidth": 1,
             "tickcolor": "rgb(36,36,36)",
             "ticks": "outside"
            },
            "type": "choropleth"
           }
          ],
          "contour": [
           {
            "colorbar": {
             "outlinewidth": 1,
             "tickcolor": "rgb(36,36,36)",
             "ticks": "outside"
            },
            "colorscale": [
             [
              0,
              "#440154"
             ],
             [
              0.1111111111111111,
              "#482878"
             ],
             [
              0.2222222222222222,
              "#3e4989"
             ],
             [
              0.3333333333333333,
              "#31688e"
             ],
             [
              0.4444444444444444,
              "#26828e"
             ],
             [
              0.5555555555555556,
              "#1f9e89"
             ],
             [
              0.6666666666666666,
              "#35b779"
             ],
             [
              0.7777777777777778,
              "#6ece58"
             ],
             [
              0.8888888888888888,
              "#b5de2b"
             ],
             [
              1,
              "#fde725"
             ]
            ],
            "type": "contour"
           }
          ],
          "contourcarpet": [
           {
            "colorbar": {
             "outlinewidth": 1,
             "tickcolor": "rgb(36,36,36)",
             "ticks": "outside"
            },
            "type": "contourcarpet"
           }
          ],
          "heatmap": [
           {
            "colorbar": {
             "outlinewidth": 1,
             "tickcolor": "rgb(36,36,36)",
             "ticks": "outside"
            },
            "colorscale": [
             [
              0,
              "#440154"
             ],
             [
              0.1111111111111111,
              "#482878"
             ],
             [
              0.2222222222222222,
              "#3e4989"
             ],
             [
              0.3333333333333333,
              "#31688e"
             ],
             [
              0.4444444444444444,
              "#26828e"
             ],
             [
              0.5555555555555556,
              "#1f9e89"
             ],
             [
              0.6666666666666666,
              "#35b779"
             ],
             [
              0.7777777777777778,
              "#6ece58"
             ],
             [
              0.8888888888888888,
              "#b5de2b"
             ],
             [
              1,
              "#fde725"
             ]
            ],
            "type": "heatmap"
           }
          ],
          "heatmapgl": [
           {
            "colorbar": {
             "outlinewidth": 1,
             "tickcolor": "rgb(36,36,36)",
             "ticks": "outside"
            },
            "colorscale": [
             [
              0,
              "#440154"
             ],
             [
              0.1111111111111111,
              "#482878"
             ],
             [
              0.2222222222222222,
              "#3e4989"
             ],
             [
              0.3333333333333333,
              "#31688e"
             ],
             [
              0.4444444444444444,
              "#26828e"
             ],
             [
              0.5555555555555556,
              "#1f9e89"
             ],
             [
              0.6666666666666666,
              "#35b779"
             ],
             [
              0.7777777777777778,
              "#6ece58"
             ],
             [
              0.8888888888888888,
              "#b5de2b"
             ],
             [
              1,
              "#fde725"
             ]
            ],
            "type": "heatmapgl"
           }
          ],
          "histogram": [
           {
            "marker": {
             "line": {
              "color": "white",
              "width": 0.6
             }
            },
            "type": "histogram"
           }
          ],
          "histogram2d": [
           {
            "colorbar": {
             "outlinewidth": 1,
             "tickcolor": "rgb(36,36,36)",
             "ticks": "outside"
            },
            "colorscale": [
             [
              0,
              "#440154"
             ],
             [
              0.1111111111111111,
              "#482878"
             ],
             [
              0.2222222222222222,
              "#3e4989"
             ],
             [
              0.3333333333333333,
              "#31688e"
             ],
             [
              0.4444444444444444,
              "#26828e"
             ],
             [
              0.5555555555555556,
              "#1f9e89"
             ],
             [
              0.6666666666666666,
              "#35b779"
             ],
             [
              0.7777777777777778,
              "#6ece58"
             ],
             [
              0.8888888888888888,
              "#b5de2b"
             ],
             [
              1,
              "#fde725"
             ]
            ],
            "type": "histogram2d"
           }
          ],
          "histogram2dcontour": [
           {
            "colorbar": {
             "outlinewidth": 1,
             "tickcolor": "rgb(36,36,36)",
             "ticks": "outside"
            },
            "colorscale": [
             [
              0,
              "#440154"
             ],
             [
              0.1111111111111111,
              "#482878"
             ],
             [
              0.2222222222222222,
              "#3e4989"
             ],
             [
              0.3333333333333333,
              "#31688e"
             ],
             [
              0.4444444444444444,
              "#26828e"
             ],
             [
              0.5555555555555556,
              "#1f9e89"
             ],
             [
              0.6666666666666666,
              "#35b779"
             ],
             [
              0.7777777777777778,
              "#6ece58"
             ],
             [
              0.8888888888888888,
              "#b5de2b"
             ],
             [
              1,
              "#fde725"
             ]
            ],
            "type": "histogram2dcontour"
           }
          ],
          "mesh3d": [
           {
            "colorbar": {
             "outlinewidth": 1,
             "tickcolor": "rgb(36,36,36)",
             "ticks": "outside"
            },
            "type": "mesh3d"
           }
          ],
          "parcoords": [
           {
            "line": {
             "colorbar": {
              "outlinewidth": 1,
              "tickcolor": "rgb(36,36,36)",
              "ticks": "outside"
             }
            },
            "type": "parcoords"
           }
          ],
          "pie": [
           {
            "automargin": true,
            "type": "pie"
           }
          ],
          "scatter": [
           {
            "fillpattern": {
             "fillmode": "overlay",
             "size": 10,
             "solidity": 0.2
            },
            "type": "scatter"
           }
          ],
          "scatter3d": [
           {
            "line": {
             "colorbar": {
              "outlinewidth": 1,
              "tickcolor": "rgb(36,36,36)",
              "ticks": "outside"
             }
            },
            "marker": {
             "colorbar": {
              "outlinewidth": 1,
              "tickcolor": "rgb(36,36,36)",
              "ticks": "outside"
             }
            },
            "type": "scatter3d"
           }
          ],
          "scattercarpet": [
           {
            "marker": {
             "colorbar": {
              "outlinewidth": 1,
              "tickcolor": "rgb(36,36,36)",
              "ticks": "outside"
             }
            },
            "type": "scattercarpet"
           }
          ],
          "scattergeo": [
           {
            "marker": {
             "colorbar": {
              "outlinewidth": 1,
              "tickcolor": "rgb(36,36,36)",
              "ticks": "outside"
             }
            },
            "type": "scattergeo"
           }
          ],
          "scattergl": [
           {
            "marker": {
             "colorbar": {
              "outlinewidth": 1,
              "tickcolor": "rgb(36,36,36)",
              "ticks": "outside"
             }
            },
            "type": "scattergl"
           }
          ],
          "scattermapbox": [
           {
            "marker": {
             "colorbar": {
              "outlinewidth": 1,
              "tickcolor": "rgb(36,36,36)",
              "ticks": "outside"
             }
            },
            "type": "scattermapbox"
           }
          ],
          "scatterpolar": [
           {
            "marker": {
             "colorbar": {
              "outlinewidth": 1,
              "tickcolor": "rgb(36,36,36)",
              "ticks": "outside"
             }
            },
            "type": "scatterpolar"
           }
          ],
          "scatterpolargl": [
           {
            "marker": {
             "colorbar": {
              "outlinewidth": 1,
              "tickcolor": "rgb(36,36,36)",
              "ticks": "outside"
             }
            },
            "type": "scatterpolargl"
           }
          ],
          "scatterternary": [
           {
            "marker": {
             "colorbar": {
              "outlinewidth": 1,
              "tickcolor": "rgb(36,36,36)",
              "ticks": "outside"
             }
            },
            "type": "scatterternary"
           }
          ],
          "surface": [
           {
            "colorbar": {
             "outlinewidth": 1,
             "tickcolor": "rgb(36,36,36)",
             "ticks": "outside"
            },
            "colorscale": [
             [
              0,
              "#440154"
             ],
             [
              0.1111111111111111,
              "#482878"
             ],
             [
              0.2222222222222222,
              "#3e4989"
             ],
             [
              0.3333333333333333,
              "#31688e"
             ],
             [
              0.4444444444444444,
              "#26828e"
             ],
             [
              0.5555555555555556,
              "#1f9e89"
             ],
             [
              0.6666666666666666,
              "#35b779"
             ],
             [
              0.7777777777777778,
              "#6ece58"
             ],
             [
              0.8888888888888888,
              "#b5de2b"
             ],
             [
              1,
              "#fde725"
             ]
            ],
            "type": "surface"
           }
          ],
          "table": [
           {
            "cells": {
             "fill": {
              "color": "rgb(237,237,237)"
             },
             "line": {
              "color": "white"
             }
            },
            "header": {
             "fill": {
              "color": "rgb(217,217,217)"
             },
             "line": {
              "color": "white"
             }
            },
            "type": "table"
           }
          ]
         },
         "layout": {
          "annotationdefaults": {
           "arrowhead": 0,
           "arrowwidth": 1
          },
          "autosize": true,
          "autotypenumbers": "strict",
          "coloraxis": {
           "colorbar": {
            "outlinewidth": 1,
            "tickcolor": "rgb(36,36,36)",
            "ticks": "outside"
           }
          },
          "colorscale": {
           "diverging": [
            [
             0,
             "rgb(103,0,31)"
            ],
            [
             0.1,
             "rgb(178,24,43)"
            ],
            [
             0.2,
             "rgb(214,96,77)"
            ],
            [
             0.3,
             "rgb(244,165,130)"
            ],
            [
             0.4,
             "rgb(253,219,199)"
            ],
            [
             0.5,
             "rgb(247,247,247)"
            ],
            [
             0.6,
             "rgb(209,229,240)"
            ],
            [
             0.7,
             "rgb(146,197,222)"
            ],
            [
             0.8,
             "rgb(67,147,195)"
            ],
            [
             0.9,
             "rgb(33,102,172)"
            ],
            [
             1,
             "rgb(5,48,97)"
            ]
           ],
           "sequential": [
            [
             0,
             "#440154"
            ],
            [
             0.1111111111111111,
             "#482878"
            ],
            [
             0.2222222222222222,
             "#3e4989"
            ],
            [
             0.3333333333333333,
             "#31688e"
            ],
            [
             0.4444444444444444,
             "#26828e"
            ],
            [
             0.5555555555555556,
             "#1f9e89"
            ],
            [
             0.6666666666666666,
             "#35b779"
            ],
            [
             0.7777777777777778,
             "#6ece58"
            ],
            [
             0.8888888888888888,
             "#b5de2b"
            ],
            [
             1,
             "#fde725"
            ]
           ],
           "sequentialminus": [
            [
             0,
             "#440154"
            ],
            [
             0.1111111111111111,
             "#482878"
            ],
            [
             0.2222222222222222,
             "#3e4989"
            ],
            [
             0.3333333333333333,
             "#31688e"
            ],
            [
             0.4444444444444444,
             "#26828e"
            ],
            [
             0.5555555555555556,
             "#1f9e89"
            ],
            [
             0.6666666666666666,
             "#35b779"
            ],
            [
             0.7777777777777778,
             "#6ece58"
            ],
            [
             0.8888888888888888,
             "#b5de2b"
            ],
            [
             1,
             "#fde725"
            ]
           ]
          },
          "colorway": [
           "#1F77B4",
           "#FF7F0E",
           "#2CA02C",
           "#D62728",
           "#9467BD",
           "#8C564B",
           "#E377C2",
           "#7F7F7F",
           "#BCBD22",
           "#17BECF"
          ],
          "font": {
           "color": "rgb(36,36,36)"
          },
          "geo": {
           "bgcolor": "white",
           "lakecolor": "white",
           "landcolor": "white",
           "showlakes": true,
           "showland": true,
           "subunitcolor": "white"
          },
          "height": 400,
          "hoverlabel": {
           "align": "left"
          },
          "hovermode": "closest",
          "mapbox": {
           "style": "light"
          },
          "margin": {
           "b": 30,
           "l": 30,
           "r": 30,
           "t": 30
          },
          "paper_bgcolor": "white",
          "plot_bgcolor": "white",
          "polar": {
           "angularaxis": {
            "gridcolor": "rgb(232,232,232)",
            "linecolor": "rgb(36,36,36)",
            "showgrid": false,
            "showline": true,
            "ticks": "outside"
           },
           "bgcolor": "white",
           "radialaxis": {
            "gridcolor": "rgb(232,232,232)",
            "linecolor": "rgb(36,36,36)",
            "showgrid": false,
            "showline": true,
            "ticks": "outside"
           }
          },
          "scene": {
           "xaxis": {
            "backgroundcolor": "white",
            "gridcolor": "rgb(232,232,232)",
            "gridwidth": 2,
            "linecolor": "rgb(36,36,36)",
            "showbackground": true,
            "showgrid": false,
            "showline": true,
            "ticks": "outside",
            "zeroline": false,
            "zerolinecolor": "rgb(36,36,36)"
           },
           "yaxis": {
            "backgroundcolor": "white",
            "gridcolor": "rgb(232,232,232)",
            "gridwidth": 2,
            "linecolor": "rgb(36,36,36)",
            "showbackground": true,
            "showgrid": false,
            "showline": true,
            "ticks": "outside",
            "zeroline": false,
            "zerolinecolor": "rgb(36,36,36)"
           },
           "zaxis": {
            "backgroundcolor": "white",
            "gridcolor": "rgb(232,232,232)",
            "gridwidth": 2,
            "linecolor": "rgb(36,36,36)",
            "showbackground": true,
            "showgrid": false,
            "showline": true,
            "ticks": "outside",
            "zeroline": false,
            "zerolinecolor": "rgb(36,36,36)"
           }
          },
          "shapedefaults": {
           "fillcolor": "black",
           "line": {
            "width": 0
           },
           "opacity": 0.3
          },
          "ternary": {
           "aaxis": {
            "gridcolor": "rgb(232,232,232)",
            "linecolor": "rgb(36,36,36)",
            "showgrid": false,
            "showline": true,
            "ticks": "outside"
           },
           "baxis": {
            "gridcolor": "rgb(232,232,232)",
            "linecolor": "rgb(36,36,36)",
            "showgrid": false,
            "showline": true,
            "ticks": "outside"
           },
           "bgcolor": "white",
           "caxis": {
            "gridcolor": "rgb(232,232,232)",
            "linecolor": "rgb(36,36,36)",
            "showgrid": false,
            "showline": true,
            "ticks": "outside"
           }
          },
          "title": {
           "x": 0.5,
           "xanchor": "center"
          },
          "width": 600,
          "xaxis": {
           "automargin": true,
           "gridcolor": "rgb(232,232,232)",
           "linecolor": "rgb(36,36,36)",
           "showgrid": true,
           "showline": true,
           "ticks": "outside",
           "title": {
            "standoff": 15
           },
           "zeroline": false,
           "zerolinecolor": "rgb(36,36,36)"
          },
          "yaxis": {
           "automargin": true,
           "gridcolor": "rgb(232,232,232)",
           "linecolor": "rgb(36,36,36)",
           "showgrid": true,
           "showline": true,
           "ticks": "outside",
           "title": {
            "standoff": 15
           },
           "zeroline": false,
           "zerolinecolor": "rgb(36,36,36)"
          }
         }
        },
        "title": {
         "text": "Bivariate Analysis of Political Beliefs and Loneliness (Heatmap Example)"
        },
        "xaxis": {
         "anchor": "y",
         "domain": [
          0,
          1
         ],
         "title": {
          "text": "POL_BELIEFS"
         }
        },
        "yaxis": {
         "anchor": "x",
         "domain": [
          0,
          1
         ],
         "title": {
          "text": "LONELY"
         }
        }
       }
      }
     },
     "metadata": {},
     "output_type": "display_data"
    },
    {
     "ename": "FileNotFoundError",
     "evalue": "[Errno 2] No such file or directory: '/Users/macbook/Desktop/EECS389/398_mtf/plot2HM.html'",
     "output_type": "error",
     "traceback": [
      "\u001b[0;31m---------------------------------------------------------------------------\u001b[0m",
      "\u001b[0;31mFileNotFoundError\u001b[0m                         Traceback (most recent call last)",
      "Cell \u001b[0;32mIn[26], line 9\u001b[0m\n\u001b[1;32m      1\u001b[0m fig \u001b[38;5;241m=\u001b[39m px\u001b[38;5;241m.\u001b[39mdensity_heatmap(\n\u001b[1;32m      2\u001b[0m     df23,\n\u001b[1;32m      3\u001b[0m     x\u001b[38;5;241m=\u001b[39m\u001b[38;5;124m'\u001b[39m\u001b[38;5;124mPOL_BELIEFS\u001b[39m\u001b[38;5;124m'\u001b[39m,\n\u001b[0;32m   (...)\u001b[0m\n\u001b[1;32m      6\u001b[0m     title\u001b[38;5;241m=\u001b[39m\u001b[38;5;124m\"\u001b[39m\u001b[38;5;124mBivariate Analysis of Political Beliefs and Loneliness (Heatmap Example)\u001b[39m\u001b[38;5;124m\"\u001b[39m,\n\u001b[1;32m      7\u001b[0m )\n\u001b[1;32m      8\u001b[0m fig\u001b[38;5;241m.\u001b[39mshow()\n\u001b[0;32m----> 9\u001b[0m \u001b[43mfig\u001b[49m\u001b[38;5;241;43m.\u001b[39;49m\u001b[43mwrite_html\u001b[49m\u001b[43m(\u001b[49m\u001b[38;5;124;43m\"\u001b[39;49m\u001b[38;5;124;43m/Users/macbook/Desktop/EECS389/398_mtf/plot2HM.html\u001b[39;49m\u001b[38;5;124;43m\"\u001b[39;49m\u001b[43m,\u001b[49m\u001b[43m \u001b[49m\u001b[43minclude_plotlyjs\u001b[49m\u001b[38;5;241;43m=\u001b[39;49m\u001b[38;5;124;43m'\u001b[39;49m\u001b[38;5;124;43mcdn\u001b[39;49m\u001b[38;5;124;43m'\u001b[39;49m\u001b[43m)\u001b[49m\n",
      "File \u001b[0;32m~/miniforge3/envs/pds/lib/python3.10/site-packages/plotly/basedatatypes.py:3714\u001b[0m, in \u001b[0;36mBaseFigure.write_html\u001b[0;34m(self, *args, **kwargs)\u001b[0m\n\u001b[1;32m   3605\u001b[0m \u001b[38;5;250m\u001b[39m\u001b[38;5;124;03m\"\"\"\u001b[39;00m\n\u001b[1;32m   3606\u001b[0m \u001b[38;5;124;03mWrite a figure to an HTML file representation\u001b[39;00m\n\u001b[1;32m   3607\u001b[0m \n\u001b[0;32m   (...)\u001b[0m\n\u001b[1;32m   3710\u001b[0m \u001b[38;5;124;03mNone\u001b[39;00m\n\u001b[1;32m   3711\u001b[0m \u001b[38;5;124;03m\"\"\"\u001b[39;00m\n\u001b[1;32m   3712\u001b[0m \u001b[38;5;28;01mimport\u001b[39;00m \u001b[38;5;21;01mplotly\u001b[39;00m\u001b[38;5;21;01m.\u001b[39;00m\u001b[38;5;21;01mio\u001b[39;00m \u001b[38;5;28;01mas\u001b[39;00m \u001b[38;5;21;01mpio\u001b[39;00m\n\u001b[0;32m-> 3714\u001b[0m \u001b[38;5;28;01mreturn\u001b[39;00m \u001b[43mpio\u001b[49m\u001b[38;5;241;43m.\u001b[39;49m\u001b[43mwrite_html\u001b[49m\u001b[43m(\u001b[49m\u001b[38;5;28;43mself\u001b[39;49m\u001b[43m,\u001b[49m\u001b[43m \u001b[49m\u001b[38;5;241;43m*\u001b[39;49m\u001b[43margs\u001b[49m\u001b[43m,\u001b[49m\u001b[43m \u001b[49m\u001b[38;5;241;43m*\u001b[39;49m\u001b[38;5;241;43m*\u001b[39;49m\u001b[43mkwargs\u001b[49m\u001b[43m)\u001b[49m\n",
      "File \u001b[0;32m~/miniforge3/envs/pds/lib/python3.10/site-packages/plotly/io/_html.py:535\u001b[0m, in \u001b[0;36mwrite_html\u001b[0;34m(fig, file, config, auto_play, include_plotlyjs, include_mathjax, post_script, full_html, animation_opts, validate, default_width, default_height, auto_open, div_id)\u001b[0m\n\u001b[1;32m    532\u001b[0m \u001b[38;5;66;03m# Write HTML string\u001b[39;00m\n\u001b[1;32m    533\u001b[0m \u001b[38;5;28;01mif\u001b[39;00m path \u001b[38;5;129;01mis\u001b[39;00m \u001b[38;5;129;01mnot\u001b[39;00m \u001b[38;5;28;01mNone\u001b[39;00m:\n\u001b[1;32m    534\u001b[0m     \u001b[38;5;66;03m# To use a different file encoding, pass a file descriptor\u001b[39;00m\n\u001b[0;32m--> 535\u001b[0m     \u001b[43mpath\u001b[49m\u001b[38;5;241;43m.\u001b[39;49m\u001b[43mwrite_text\u001b[49m\u001b[43m(\u001b[49m\u001b[43mhtml_str\u001b[49m\u001b[43m,\u001b[49m\u001b[43m \u001b[49m\u001b[38;5;124;43m\"\u001b[39;49m\u001b[38;5;124;43mutf-8\u001b[39;49m\u001b[38;5;124;43m\"\u001b[39;49m\u001b[43m)\u001b[49m\n\u001b[1;32m    536\u001b[0m \u001b[38;5;28;01melse\u001b[39;00m:\n\u001b[1;32m    537\u001b[0m     file\u001b[38;5;241m.\u001b[39mwrite(html_str)\n",
      "File \u001b[0;32m~/miniforge3/envs/pds/lib/python3.10/pathlib.py:1154\u001b[0m, in \u001b[0;36mPath.write_text\u001b[0;34m(self, data, encoding, errors, newline)\u001b[0m\n\u001b[1;32m   1151\u001b[0m     \u001b[38;5;28;01mraise\u001b[39;00m \u001b[38;5;167;01mTypeError\u001b[39;00m(\u001b[38;5;124m'\u001b[39m\u001b[38;5;124mdata must be str, not \u001b[39m\u001b[38;5;132;01m%s\u001b[39;00m\u001b[38;5;124m'\u001b[39m \u001b[38;5;241m%\u001b[39m\n\u001b[1;32m   1152\u001b[0m                     data\u001b[38;5;241m.\u001b[39m\u001b[38;5;18m__class__\u001b[39m\u001b[38;5;241m.\u001b[39m\u001b[38;5;18m__name__\u001b[39m)\n\u001b[1;32m   1153\u001b[0m encoding \u001b[38;5;241m=\u001b[39m io\u001b[38;5;241m.\u001b[39mtext_encoding(encoding)\n\u001b[0;32m-> 1154\u001b[0m \u001b[38;5;28;01mwith\u001b[39;00m \u001b[38;5;28;43mself\u001b[39;49m\u001b[38;5;241;43m.\u001b[39;49m\u001b[43mopen\u001b[49m\u001b[43m(\u001b[49m\u001b[43mmode\u001b[49m\u001b[38;5;241;43m=\u001b[39;49m\u001b[38;5;124;43m'\u001b[39;49m\u001b[38;5;124;43mw\u001b[39;49m\u001b[38;5;124;43m'\u001b[39;49m\u001b[43m,\u001b[49m\u001b[43m \u001b[49m\u001b[43mencoding\u001b[49m\u001b[38;5;241;43m=\u001b[39;49m\u001b[43mencoding\u001b[49m\u001b[43m,\u001b[49m\u001b[43m \u001b[49m\u001b[43merrors\u001b[49m\u001b[38;5;241;43m=\u001b[39;49m\u001b[43merrors\u001b[49m\u001b[43m,\u001b[49m\u001b[43m \u001b[49m\u001b[43mnewline\u001b[49m\u001b[38;5;241;43m=\u001b[39;49m\u001b[43mnewline\u001b[49m\u001b[43m)\u001b[49m \u001b[38;5;28;01mas\u001b[39;00m f:\n\u001b[1;32m   1155\u001b[0m     \u001b[38;5;28;01mreturn\u001b[39;00m f\u001b[38;5;241m.\u001b[39mwrite(data)\n",
      "File \u001b[0;32m~/miniforge3/envs/pds/lib/python3.10/pathlib.py:1119\u001b[0m, in \u001b[0;36mPath.open\u001b[0;34m(self, mode, buffering, encoding, errors, newline)\u001b[0m\n\u001b[1;32m   1117\u001b[0m \u001b[38;5;28;01mif\u001b[39;00m \u001b[38;5;124m\"\u001b[39m\u001b[38;5;124mb\u001b[39m\u001b[38;5;124m\"\u001b[39m \u001b[38;5;129;01mnot\u001b[39;00m \u001b[38;5;129;01min\u001b[39;00m mode:\n\u001b[1;32m   1118\u001b[0m     encoding \u001b[38;5;241m=\u001b[39m io\u001b[38;5;241m.\u001b[39mtext_encoding(encoding)\n\u001b[0;32m-> 1119\u001b[0m \u001b[38;5;28;01mreturn\u001b[39;00m \u001b[38;5;28;43mself\u001b[39;49m\u001b[38;5;241;43m.\u001b[39;49m\u001b[43m_accessor\u001b[49m\u001b[38;5;241;43m.\u001b[39;49m\u001b[43mopen\u001b[49m\u001b[43m(\u001b[49m\u001b[38;5;28;43mself\u001b[39;49m\u001b[43m,\u001b[49m\u001b[43m \u001b[49m\u001b[43mmode\u001b[49m\u001b[43m,\u001b[49m\u001b[43m \u001b[49m\u001b[43mbuffering\u001b[49m\u001b[43m,\u001b[49m\u001b[43m \u001b[49m\u001b[43mencoding\u001b[49m\u001b[43m,\u001b[49m\u001b[43m \u001b[49m\u001b[43merrors\u001b[49m\u001b[43m,\u001b[49m\n\u001b[1;32m   1120\u001b[0m \u001b[43m                           \u001b[49m\u001b[43mnewline\u001b[49m\u001b[43m)\u001b[49m\n",
      "\u001b[0;31mFileNotFoundError\u001b[0m: [Errno 2] No such file or directory: '/Users/macbook/Desktop/EECS389/398_mtf/plot2HM.html'"
     ]
    }
   ],
   "source": [
    "fig = px.density_heatmap(\n",
    "    df23,\n",
    "    x='POL_BELIEFS',\n",
    "    y='LONELY',\n",
    "    color_continuous_scale='Viridis',\n",
    "    title=\"Bivariate Analysis of Political Beliefs and Loneliness (Heatmap Example)\",\n",
    ")\n",
    "fig.show()\n",
    "fig.write_html(\"/Users/macbook/Desktop/EECS389/398_mtf/plot2HM.html\", include_plotlyjs='cdn')\n"
   ]
  },
  {
   "cell_type": "markdown",
   "metadata": {},
   "source": [
    "## THIRD PLOT, BIVAR ANALYSIS 2 "
   ]
  },
  {
   "cell_type": "code",
   "execution_count": null,
   "metadata": {},
   "outputs": [
    {
     "name": "stdout",
     "output_type": "stream",
     "text": [
      "USLLY_FRNDS\n",
      "4.0    264\n",
      "3.0    247\n",
      "2.0     68\n",
      "1.0     43\n",
      "0.0     34\n",
      "Name: count, dtype: int64\n",
      "USLLY_FRNDS\n",
      "3.0    147\n",
      "4.0    134\n",
      "2.0     35\n",
      "1.0     20\n",
      "0.0     18\n",
      "Name: count, dtype: int64\n",
      "USLLY_FRNDS\n",
      "4.0    130\n",
      "3.0    100\n",
      "2.0     33\n",
      "1.0     23\n",
      "0.0     16\n",
      "Name: count, dtype: int64\n"
     ]
    }
   ],
   "source": [
    "print(df23[\"USLLY_FRNDS\"].value_counts())\n",
    "print(df23.loc[df23['SEX'] == 1, 'USLLY_FRNDS'].value_counts())\n",
    "print(df23.loc[df23['SEX'] == 0, 'USLLY_FRNDS'].value_counts())"
   ]
  },
  {
   "cell_type": "code",
   "execution_count": 40,
   "metadata": {},
   "outputs": [
    {
     "data": {
      "application/vnd.plotly.v1+json": {
       "config": {
        "plotlyServerURL": "https://plot.ly"
       },
       "data": [
        {
         "alignmentgroup": "True",
         "hovertemplate": "Sex=%{x}<br>Consistent Group of Friends?=%{y}<extra></extra>",
         "legendgroup": "",
         "marker": {
          "color": "#1F77B4"
         },
         "name": "",
         "notched": false,
         "offsetgroup": "",
         "orientation": "v",
         "showlegend": false,
         "type": "box",
         "x": [
          1,
          1,
          0,
          1,
          0,
          1,
          1,
          0,
          0,
          0,
          0,
          0,
          0,
          1,
          1,
          1,
          1,
          1,
          1,
          1,
          1,
          1,
          1,
          1,
          0,
          0,
          1,
          1,
          1,
          0,
          0,
          1,
          1,
          1,
          0,
          1,
          1,
          1,
          1,
          1,
          1,
          1,
          1,
          1,
          1,
          1,
          1,
          1,
          1,
          1,
          1,
          1,
          0,
          1,
          1,
          0,
          0,
          1,
          1,
          1,
          1,
          0,
          0,
          1,
          1,
          1,
          0,
          1,
          0,
          1,
          0,
          1,
          1,
          0,
          1,
          1,
          0,
          0,
          0,
          1,
          1,
          0,
          0,
          0,
          0,
          0,
          1,
          1,
          0,
          1,
          1,
          0,
          0,
          1,
          0,
          1,
          0,
          1,
          1,
          0,
          0,
          1,
          1,
          1,
          1,
          0,
          0,
          0,
          0,
          1,
          0,
          1,
          1,
          0,
          1,
          1,
          1,
          0,
          0,
          0,
          1,
          0,
          0,
          1,
          1,
          0,
          1,
          0,
          0,
          0,
          0,
          0,
          1,
          1,
          0,
          1,
          1,
          1,
          0,
          0,
          0,
          1,
          0,
          1,
          0,
          0,
          1,
          1,
          1,
          0,
          1,
          1,
          1,
          1,
          0,
          1,
          1,
          0,
          0,
          0,
          1,
          0,
          0,
          0,
          0,
          0,
          0,
          1,
          1,
          0,
          1,
          1,
          0,
          1,
          1,
          1,
          0,
          0,
          1,
          1,
          1,
          1,
          1,
          1,
          1,
          1,
          1,
          0,
          1,
          0,
          0,
          1,
          1,
          1,
          1,
          1,
          0,
          0,
          0,
          0,
          1,
          0,
          1,
          1,
          1,
          1,
          0,
          1,
          1,
          0,
          1,
          1,
          1,
          0,
          1,
          0,
          1,
          0,
          0,
          0,
          1,
          1,
          1,
          0,
          1,
          1,
          1,
          1,
          0,
          0,
          1,
          1,
          1,
          1,
          1,
          1,
          0,
          0,
          1,
          0,
          0,
          0,
          0,
          0,
          0,
          1,
          0,
          1,
          0,
          0,
          1,
          0,
          1,
          1,
          0,
          1,
          1,
          1,
          1,
          0,
          1,
          1,
          1,
          1,
          0,
          0,
          0,
          0,
          1,
          0,
          0,
          0,
          0,
          1,
          1,
          1,
          1,
          0,
          0,
          0,
          1,
          0,
          0,
          0,
          1,
          1,
          1,
          1,
          0,
          0,
          0,
          1,
          1,
          1,
          1,
          1,
          1,
          1,
          1,
          1,
          1,
          1,
          0,
          1,
          1,
          0,
          1,
          1,
          0,
          0,
          0,
          1,
          0,
          0,
          1,
          1,
          0,
          0,
          0,
          1,
          1,
          1,
          1,
          0,
          0,
          1,
          0,
          1,
          1,
          0,
          0,
          1,
          0,
          0,
          0,
          0,
          1,
          1,
          0,
          0,
          0,
          0,
          0,
          1,
          1,
          1,
          1,
          1,
          0,
          0,
          1,
          1,
          0,
          0,
          0,
          0,
          0,
          0,
          1,
          1,
          0,
          0,
          1,
          1,
          1,
          1,
          1,
          1,
          1,
          1,
          1,
          1,
          0,
          1,
          0,
          0,
          1,
          1,
          0,
          0,
          0,
          0,
          1,
          0,
          0,
          0,
          0,
          0,
          0,
          0,
          1,
          1,
          1,
          0,
          0,
          0,
          1,
          1,
          1,
          1,
          0,
          0,
          0,
          1,
          1,
          0,
          0,
          0,
          0,
          1,
          0,
          0,
          1,
          0,
          1,
          1,
          0,
          1,
          0,
          1,
          0,
          0,
          0,
          1,
          1,
          1,
          0,
          0,
          0,
          0,
          1,
          1,
          1,
          0,
          0,
          1,
          0,
          1,
          1,
          0,
          1,
          1,
          1,
          1,
          1,
          1,
          1,
          1,
          1,
          0,
          0,
          1,
          0,
          0,
          1,
          1,
          0,
          1,
          1,
          0,
          0,
          1,
          1,
          0,
          0,
          1,
          1,
          0,
          0,
          0,
          1,
          1,
          0,
          0,
          0,
          1,
          1,
          0,
          1,
          1,
          0,
          1,
          0,
          0,
          0,
          1,
          1,
          0,
          1,
          0,
          1,
          1,
          0,
          1,
          1,
          1,
          1,
          1,
          0,
          0,
          0,
          1,
          0,
          1,
          1,
          0,
          0,
          1,
          0,
          1,
          1,
          1,
          1,
          0,
          0,
          0,
          0,
          1,
          0,
          0,
          1,
          0,
          0,
          0,
          0,
          1,
          1,
          1,
          1,
          1,
          0,
          0,
          0,
          0,
          0,
          0,
          1,
          0,
          0,
          0,
          0,
          1,
          1,
          1,
          0,
          1,
          1,
          0,
          1,
          1,
          0,
          1,
          1,
          1,
          1,
          0,
          1,
          1,
          1,
          1,
          0,
          1,
          0,
          1,
          0,
          0,
          1,
          0,
          0,
          0,
          1,
          1,
          0,
          0,
          0,
          1,
          0,
          0,
          0,
          0,
          0,
          1,
          0,
          0,
          0,
          1,
          0,
          1,
          0,
          1,
          0,
          0,
          1,
          0,
          0,
          1,
          1,
          0,
          1,
          0,
          0,
          1,
          0,
          0,
          0,
          1,
          0,
          0,
          0,
          1,
          1,
          1,
          0,
          1,
          0,
          1,
          1,
          0,
          0,
          1,
          0,
          0,
          1,
          0,
          1,
          0,
          1,
          0,
          1,
          0,
          0,
          1,
          1,
          1,
          1,
          1,
          1,
          1,
          0,
          1,
          1,
          1,
          1,
          1,
          1,
          0,
          1,
          1,
          1,
          0,
          1,
          0,
          1,
          1,
          0,
          1
         ],
         "x0": " ",
         "xaxis": "x",
         "y": [
          3,
          3,
          0,
          3,
          4,
          0,
          3,
          1,
          3,
          3,
          3,
          4,
          3,
          3,
          0,
          3,
          4,
          2,
          4,
          3,
          3,
          3,
          4,
          4,
          3,
          3,
          4,
          3,
          3,
          0,
          4,
          4,
          4,
          4,
          4,
          4,
          3,
          3,
          4,
          4,
          3,
          3,
          4,
          3,
          4,
          4,
          4,
          3,
          3,
          4,
          3,
          3,
          3,
          0,
          3,
          4,
          1,
          2,
          4,
          4,
          4,
          3,
          3,
          1,
          3,
          3,
          4,
          0,
          1,
          1,
          3,
          3,
          2,
          4,
          3,
          4,
          3,
          3,
          1,
          3,
          4,
          3,
          4,
          3,
          4,
          3,
          3,
          4,
          3,
          4,
          4,
          3,
          2,
          4,
          4,
          4,
          2,
          2,
          3,
          1,
          2,
          3,
          1,
          3,
          3,
          3,
          3,
          3,
          3,
          3,
          4,
          4,
          3,
          3,
          3,
          3,
          4,
          4,
          4,
          4,
          3,
          3,
          4,
          4,
          4,
          4,
          3,
          3,
          3,
          4,
          4,
          3,
          3,
          1,
          4,
          3,
          3,
          3,
          3,
          4,
          4,
          4,
          3,
          3,
          4,
          4,
          4,
          3,
          4,
          0,
          3,
          3,
          3,
          4,
          2,
          2,
          3,
          0,
          4,
          4,
          3,
          3,
          3,
          3,
          3,
          4,
          4,
          3,
          4,
          4,
          4,
          4,
          4,
          0,
          3,
          2,
          4,
          4,
          3,
          2,
          3,
          4,
          4,
          4,
          4,
          4,
          3,
          4,
          1,
          4,
          4,
          0,
          4,
          3,
          0,
          3,
          3,
          0,
          4,
          1,
          4,
          3,
          4,
          4,
          3,
          3,
          3,
          4,
          3,
          4,
          4,
          4,
          3,
          4,
          2,
          4,
          4,
          4,
          3,
          3,
          2,
          2,
          4,
          3,
          3,
          0,
          3,
          4,
          4,
          2,
          3,
          3,
          4,
          3,
          4,
          3,
          4,
          3,
          4,
          3,
          4,
          4,
          3,
          4,
          2,
          3,
          4,
          2,
          4,
          1,
          3,
          2,
          3,
          3,
          4,
          4,
          3,
          3,
          4,
          3,
          2,
          1,
          4,
          3,
          2,
          4,
          4,
          3,
          4,
          2,
          3,
          3,
          4,
          1,
          4,
          3,
          4,
          4,
          3,
          3,
          4,
          4,
          4,
          1,
          4,
          4,
          3,
          3,
          4,
          4,
          0,
          1,
          3,
          3,
          3,
          3,
          4,
          3,
          3,
          4,
          2,
          0,
          3,
          4,
          4,
          2,
          3,
          3,
          4,
          4,
          3,
          4,
          4,
          2,
          1,
          4,
          2,
          2,
          1,
          1,
          3,
          4,
          1,
          4,
          3,
          3,
          2,
          3,
          4,
          4,
          3,
          3,
          2,
          4,
          4,
          4,
          2,
          4,
          4,
          3,
          2,
          3,
          3,
          4,
          2,
          4,
          0,
          4,
          4,
          3,
          3,
          4,
          3,
          3,
          4,
          4,
          4,
          4,
          3,
          4,
          2,
          0,
          3,
          4,
          3,
          1,
          0,
          1,
          4,
          4,
          2,
          3,
          2,
          3,
          4,
          4,
          2,
          3,
          4,
          4,
          4,
          4,
          3,
          4,
          0,
          4,
          3,
          3,
          4,
          1,
          3,
          4,
          4,
          3,
          4,
          3,
          2,
          2,
          2,
          4,
          3,
          2,
          3,
          4,
          4,
          3,
          3,
          3,
          3,
          2,
          4,
          4,
          2,
          3,
          4,
          4,
          1,
          3,
          4,
          3,
          4,
          3,
          4,
          3,
          3,
          2,
          2,
          4,
          3,
          0,
          1,
          1,
          2,
          4,
          0,
          1,
          1,
          1,
          3,
          4,
          4,
          2,
          3,
          0,
          4,
          3,
          3,
          3,
          3,
          4,
          4,
          3,
          4,
          3,
          4,
          4,
          2,
          3,
          3,
          2,
          3,
          3,
          4,
          0,
          3,
          4,
          0,
          2,
          4,
          4,
          1,
          3,
          1,
          3,
          1,
          3,
          0,
          3,
          3,
          2,
          1,
          1,
          3,
          4,
          4,
          4,
          3,
          3,
          3,
          3,
          3,
          3,
          4,
          4,
          0,
          3,
          3,
          3,
          3,
          3,
          4,
          4,
          2,
          3,
          2,
          4,
          3,
          0,
          3,
          4,
          4,
          3,
          3,
          2,
          3,
          2,
          4,
          2,
          2,
          3,
          0,
          4,
          1,
          3,
          3,
          4,
          4,
          3,
          3,
          4,
          1,
          3,
          3,
          4,
          4,
          4,
          3,
          4,
          0,
          4,
          4,
          1,
          4,
          2,
          4,
          4,
          4,
          1,
          2,
          3,
          3,
          4,
          4,
          3,
          4,
          4,
          3,
          3,
          4,
          4,
          3,
          4,
          1,
          4,
          4,
          4,
          3,
          4,
          2,
          0,
          4,
          3,
          3,
          4,
          4,
          4,
          4,
          4,
          4,
          0,
          1,
          0,
          0,
          4,
          2,
          3,
          3,
          2,
          2,
          4,
          4,
          4,
          3,
          2,
          4,
          4,
          4,
          4,
          3,
          2,
          3,
          3,
          4,
          3,
          4,
          4,
          4,
          4,
          4,
          3,
          4,
          4,
          4,
          4,
          3,
          3,
          4,
          3,
          3,
          4,
          4,
          3,
          4,
          3,
          4,
          4,
          4,
          3,
          4,
          1,
          2,
          4,
          2,
          4,
          3,
          4,
          4,
          2,
          0,
          4,
          3,
          3,
          3,
          3,
          2,
          4,
          3,
          4,
          4,
          4,
          3,
          1,
          3,
          3,
          1,
          2
         ],
         "y0": " ",
         "yaxis": "y"
        }
       ],
       "layout": {
        "boxmode": "group",
        "legend": {
         "tracegroupgap": 0
        },
        "template": {
         "data": {
          "bar": [
           {
            "error_x": {
             "color": "rgb(36,36,36)"
            },
            "error_y": {
             "color": "rgb(36,36,36)"
            },
            "marker": {
             "line": {
              "color": "white",
              "width": 0.5
             },
             "pattern": {
              "fillmode": "overlay",
              "size": 10,
              "solidity": 0.2
             }
            },
            "type": "bar"
           }
          ],
          "barpolar": [
           {
            "marker": {
             "line": {
              "color": "white",
              "width": 0.5
             },
             "pattern": {
              "fillmode": "overlay",
              "size": 10,
              "solidity": 0.2
             }
            },
            "type": "barpolar"
           }
          ],
          "carpet": [
           {
            "aaxis": {
             "endlinecolor": "rgb(36,36,36)",
             "gridcolor": "white",
             "linecolor": "white",
             "minorgridcolor": "white",
             "startlinecolor": "rgb(36,36,36)"
            },
            "baxis": {
             "endlinecolor": "rgb(36,36,36)",
             "gridcolor": "white",
             "linecolor": "white",
             "minorgridcolor": "white",
             "startlinecolor": "rgb(36,36,36)"
            },
            "type": "carpet"
           }
          ],
          "choropleth": [
           {
            "colorbar": {
             "outlinewidth": 1,
             "tickcolor": "rgb(36,36,36)",
             "ticks": "outside"
            },
            "type": "choropleth"
           }
          ],
          "contour": [
           {
            "colorbar": {
             "outlinewidth": 1,
             "tickcolor": "rgb(36,36,36)",
             "ticks": "outside"
            },
            "colorscale": [
             [
              0,
              "#440154"
             ],
             [
              0.1111111111111111,
              "#482878"
             ],
             [
              0.2222222222222222,
              "#3e4989"
             ],
             [
              0.3333333333333333,
              "#31688e"
             ],
             [
              0.4444444444444444,
              "#26828e"
             ],
             [
              0.5555555555555556,
              "#1f9e89"
             ],
             [
              0.6666666666666666,
              "#35b779"
             ],
             [
              0.7777777777777778,
              "#6ece58"
             ],
             [
              0.8888888888888888,
              "#b5de2b"
             ],
             [
              1,
              "#fde725"
             ]
            ],
            "type": "contour"
           }
          ],
          "contourcarpet": [
           {
            "colorbar": {
             "outlinewidth": 1,
             "tickcolor": "rgb(36,36,36)",
             "ticks": "outside"
            },
            "type": "contourcarpet"
           }
          ],
          "heatmap": [
           {
            "colorbar": {
             "outlinewidth": 1,
             "tickcolor": "rgb(36,36,36)",
             "ticks": "outside"
            },
            "colorscale": [
             [
              0,
              "#440154"
             ],
             [
              0.1111111111111111,
              "#482878"
             ],
             [
              0.2222222222222222,
              "#3e4989"
             ],
             [
              0.3333333333333333,
              "#31688e"
             ],
             [
              0.4444444444444444,
              "#26828e"
             ],
             [
              0.5555555555555556,
              "#1f9e89"
             ],
             [
              0.6666666666666666,
              "#35b779"
             ],
             [
              0.7777777777777778,
              "#6ece58"
             ],
             [
              0.8888888888888888,
              "#b5de2b"
             ],
             [
              1,
              "#fde725"
             ]
            ],
            "type": "heatmap"
           }
          ],
          "heatmapgl": [
           {
            "colorbar": {
             "outlinewidth": 1,
             "tickcolor": "rgb(36,36,36)",
             "ticks": "outside"
            },
            "colorscale": [
             [
              0,
              "#440154"
             ],
             [
              0.1111111111111111,
              "#482878"
             ],
             [
              0.2222222222222222,
              "#3e4989"
             ],
             [
              0.3333333333333333,
              "#31688e"
             ],
             [
              0.4444444444444444,
              "#26828e"
             ],
             [
              0.5555555555555556,
              "#1f9e89"
             ],
             [
              0.6666666666666666,
              "#35b779"
             ],
             [
              0.7777777777777778,
              "#6ece58"
             ],
             [
              0.8888888888888888,
              "#b5de2b"
             ],
             [
              1,
              "#fde725"
             ]
            ],
            "type": "heatmapgl"
           }
          ],
          "histogram": [
           {
            "marker": {
             "line": {
              "color": "white",
              "width": 0.6
             }
            },
            "type": "histogram"
           }
          ],
          "histogram2d": [
           {
            "colorbar": {
             "outlinewidth": 1,
             "tickcolor": "rgb(36,36,36)",
             "ticks": "outside"
            },
            "colorscale": [
             [
              0,
              "#440154"
             ],
             [
              0.1111111111111111,
              "#482878"
             ],
             [
              0.2222222222222222,
              "#3e4989"
             ],
             [
              0.3333333333333333,
              "#31688e"
             ],
             [
              0.4444444444444444,
              "#26828e"
             ],
             [
              0.5555555555555556,
              "#1f9e89"
             ],
             [
              0.6666666666666666,
              "#35b779"
             ],
             [
              0.7777777777777778,
              "#6ece58"
             ],
             [
              0.8888888888888888,
              "#b5de2b"
             ],
             [
              1,
              "#fde725"
             ]
            ],
            "type": "histogram2d"
           }
          ],
          "histogram2dcontour": [
           {
            "colorbar": {
             "outlinewidth": 1,
             "tickcolor": "rgb(36,36,36)",
             "ticks": "outside"
            },
            "colorscale": [
             [
              0,
              "#440154"
             ],
             [
              0.1111111111111111,
              "#482878"
             ],
             [
              0.2222222222222222,
              "#3e4989"
             ],
             [
              0.3333333333333333,
              "#31688e"
             ],
             [
              0.4444444444444444,
              "#26828e"
             ],
             [
              0.5555555555555556,
              "#1f9e89"
             ],
             [
              0.6666666666666666,
              "#35b779"
             ],
             [
              0.7777777777777778,
              "#6ece58"
             ],
             [
              0.8888888888888888,
              "#b5de2b"
             ],
             [
              1,
              "#fde725"
             ]
            ],
            "type": "histogram2dcontour"
           }
          ],
          "mesh3d": [
           {
            "colorbar": {
             "outlinewidth": 1,
             "tickcolor": "rgb(36,36,36)",
             "ticks": "outside"
            },
            "type": "mesh3d"
           }
          ],
          "parcoords": [
           {
            "line": {
             "colorbar": {
              "outlinewidth": 1,
              "tickcolor": "rgb(36,36,36)",
              "ticks": "outside"
             }
            },
            "type": "parcoords"
           }
          ],
          "pie": [
           {
            "automargin": true,
            "type": "pie"
           }
          ],
          "scatter": [
           {
            "fillpattern": {
             "fillmode": "overlay",
             "size": 10,
             "solidity": 0.2
            },
            "type": "scatter"
           }
          ],
          "scatter3d": [
           {
            "line": {
             "colorbar": {
              "outlinewidth": 1,
              "tickcolor": "rgb(36,36,36)",
              "ticks": "outside"
             }
            },
            "marker": {
             "colorbar": {
              "outlinewidth": 1,
              "tickcolor": "rgb(36,36,36)",
              "ticks": "outside"
             }
            },
            "type": "scatter3d"
           }
          ],
          "scattercarpet": [
           {
            "marker": {
             "colorbar": {
              "outlinewidth": 1,
              "tickcolor": "rgb(36,36,36)",
              "ticks": "outside"
             }
            },
            "type": "scattercarpet"
           }
          ],
          "scattergeo": [
           {
            "marker": {
             "colorbar": {
              "outlinewidth": 1,
              "tickcolor": "rgb(36,36,36)",
              "ticks": "outside"
             }
            },
            "type": "scattergeo"
           }
          ],
          "scattergl": [
           {
            "marker": {
             "colorbar": {
              "outlinewidth": 1,
              "tickcolor": "rgb(36,36,36)",
              "ticks": "outside"
             }
            },
            "type": "scattergl"
           }
          ],
          "scattermapbox": [
           {
            "marker": {
             "colorbar": {
              "outlinewidth": 1,
              "tickcolor": "rgb(36,36,36)",
              "ticks": "outside"
             }
            },
            "type": "scattermapbox"
           }
          ],
          "scatterpolar": [
           {
            "marker": {
             "colorbar": {
              "outlinewidth": 1,
              "tickcolor": "rgb(36,36,36)",
              "ticks": "outside"
             }
            },
            "type": "scatterpolar"
           }
          ],
          "scatterpolargl": [
           {
            "marker": {
             "colorbar": {
              "outlinewidth": 1,
              "tickcolor": "rgb(36,36,36)",
              "ticks": "outside"
             }
            },
            "type": "scatterpolargl"
           }
          ],
          "scatterternary": [
           {
            "marker": {
             "colorbar": {
              "outlinewidth": 1,
              "tickcolor": "rgb(36,36,36)",
              "ticks": "outside"
             }
            },
            "type": "scatterternary"
           }
          ],
          "surface": [
           {
            "colorbar": {
             "outlinewidth": 1,
             "tickcolor": "rgb(36,36,36)",
             "ticks": "outside"
            },
            "colorscale": [
             [
              0,
              "#440154"
             ],
             [
              0.1111111111111111,
              "#482878"
             ],
             [
              0.2222222222222222,
              "#3e4989"
             ],
             [
              0.3333333333333333,
              "#31688e"
             ],
             [
              0.4444444444444444,
              "#26828e"
             ],
             [
              0.5555555555555556,
              "#1f9e89"
             ],
             [
              0.6666666666666666,
              "#35b779"
             ],
             [
              0.7777777777777778,
              "#6ece58"
             ],
             [
              0.8888888888888888,
              "#b5de2b"
             ],
             [
              1,
              "#fde725"
             ]
            ],
            "type": "surface"
           }
          ],
          "table": [
           {
            "cells": {
             "fill": {
              "color": "rgb(237,237,237)"
             },
             "line": {
              "color": "white"
             }
            },
            "header": {
             "fill": {
              "color": "rgb(217,217,217)"
             },
             "line": {
              "color": "white"
             }
            },
            "type": "table"
           }
          ]
         },
         "layout": {
          "annotationdefaults": {
           "arrowhead": 0,
           "arrowwidth": 1
          },
          "autosize": true,
          "autotypenumbers": "strict",
          "coloraxis": {
           "colorbar": {
            "outlinewidth": 1,
            "tickcolor": "rgb(36,36,36)",
            "ticks": "outside"
           }
          },
          "colorscale": {
           "diverging": [
            [
             0,
             "rgb(103,0,31)"
            ],
            [
             0.1,
             "rgb(178,24,43)"
            ],
            [
             0.2,
             "rgb(214,96,77)"
            ],
            [
             0.3,
             "rgb(244,165,130)"
            ],
            [
             0.4,
             "rgb(253,219,199)"
            ],
            [
             0.5,
             "rgb(247,247,247)"
            ],
            [
             0.6,
             "rgb(209,229,240)"
            ],
            [
             0.7,
             "rgb(146,197,222)"
            ],
            [
             0.8,
             "rgb(67,147,195)"
            ],
            [
             0.9,
             "rgb(33,102,172)"
            ],
            [
             1,
             "rgb(5,48,97)"
            ]
           ],
           "sequential": [
            [
             0,
             "#440154"
            ],
            [
             0.1111111111111111,
             "#482878"
            ],
            [
             0.2222222222222222,
             "#3e4989"
            ],
            [
             0.3333333333333333,
             "#31688e"
            ],
            [
             0.4444444444444444,
             "#26828e"
            ],
            [
             0.5555555555555556,
             "#1f9e89"
            ],
            [
             0.6666666666666666,
             "#35b779"
            ],
            [
             0.7777777777777778,
             "#6ece58"
            ],
            [
             0.8888888888888888,
             "#b5de2b"
            ],
            [
             1,
             "#fde725"
            ]
           ],
           "sequentialminus": [
            [
             0,
             "#440154"
            ],
            [
             0.1111111111111111,
             "#482878"
            ],
            [
             0.2222222222222222,
             "#3e4989"
            ],
            [
             0.3333333333333333,
             "#31688e"
            ],
            [
             0.4444444444444444,
             "#26828e"
            ],
            [
             0.5555555555555556,
             "#1f9e89"
            ],
            [
             0.6666666666666666,
             "#35b779"
            ],
            [
             0.7777777777777778,
             "#6ece58"
            ],
            [
             0.8888888888888888,
             "#b5de2b"
            ],
            [
             1,
             "#fde725"
            ]
           ]
          },
          "colorway": [
           "#1F77B4",
           "#FF7F0E",
           "#2CA02C",
           "#D62728",
           "#9467BD",
           "#8C564B",
           "#E377C2",
           "#7F7F7F",
           "#BCBD22",
           "#17BECF"
          ],
          "font": {
           "color": "rgb(36,36,36)"
          },
          "geo": {
           "bgcolor": "white",
           "lakecolor": "white",
           "landcolor": "white",
           "showlakes": true,
           "showland": true,
           "subunitcolor": "white"
          },
          "height": 400,
          "hoverlabel": {
           "align": "left"
          },
          "hovermode": "closest",
          "mapbox": {
           "style": "light"
          },
          "margin": {
           "b": 30,
           "l": 30,
           "r": 30,
           "t": 30
          },
          "paper_bgcolor": "white",
          "plot_bgcolor": "white",
          "polar": {
           "angularaxis": {
            "gridcolor": "rgb(232,232,232)",
            "linecolor": "rgb(36,36,36)",
            "showgrid": false,
            "showline": true,
            "ticks": "outside"
           },
           "bgcolor": "white",
           "radialaxis": {
            "gridcolor": "rgb(232,232,232)",
            "linecolor": "rgb(36,36,36)",
            "showgrid": false,
            "showline": true,
            "ticks": "outside"
           }
          },
          "scene": {
           "xaxis": {
            "backgroundcolor": "white",
            "gridcolor": "rgb(232,232,232)",
            "gridwidth": 2,
            "linecolor": "rgb(36,36,36)",
            "showbackground": true,
            "showgrid": false,
            "showline": true,
            "ticks": "outside",
            "zeroline": false,
            "zerolinecolor": "rgb(36,36,36)"
           },
           "yaxis": {
            "backgroundcolor": "white",
            "gridcolor": "rgb(232,232,232)",
            "gridwidth": 2,
            "linecolor": "rgb(36,36,36)",
            "showbackground": true,
            "showgrid": false,
            "showline": true,
            "ticks": "outside",
            "zeroline": false,
            "zerolinecolor": "rgb(36,36,36)"
           },
           "zaxis": {
            "backgroundcolor": "white",
            "gridcolor": "rgb(232,232,232)",
            "gridwidth": 2,
            "linecolor": "rgb(36,36,36)",
            "showbackground": true,
            "showgrid": false,
            "showline": true,
            "ticks": "outside",
            "zeroline": false,
            "zerolinecolor": "rgb(36,36,36)"
           }
          },
          "shapedefaults": {
           "fillcolor": "black",
           "line": {
            "width": 0
           },
           "opacity": 0.3
          },
          "ternary": {
           "aaxis": {
            "gridcolor": "rgb(232,232,232)",
            "linecolor": "rgb(36,36,36)",
            "showgrid": false,
            "showline": true,
            "ticks": "outside"
           },
           "baxis": {
            "gridcolor": "rgb(232,232,232)",
            "linecolor": "rgb(36,36,36)",
            "showgrid": false,
            "showline": true,
            "ticks": "outside"
           },
           "bgcolor": "white",
           "caxis": {
            "gridcolor": "rgb(232,232,232)",
            "linecolor": "rgb(36,36,36)",
            "showgrid": false,
            "showline": true,
            "ticks": "outside"
           }
          },
          "title": {
           "x": 0.5,
           "xanchor": "center"
          },
          "width": 600,
          "xaxis": {
           "automargin": true,
           "gridcolor": "rgb(232,232,232)",
           "linecolor": "rgb(36,36,36)",
           "showgrid": true,
           "showline": true,
           "ticks": "outside",
           "title": {
            "standoff": 15
           },
           "zeroline": false,
           "zerolinecolor": "rgb(36,36,36)"
          },
          "yaxis": {
           "automargin": true,
           "gridcolor": "rgb(232,232,232)",
           "linecolor": "rgb(36,36,36)",
           "showgrid": true,
           "showline": true,
           "ticks": "outside",
           "title": {
            "standoff": 15
           },
           "zeroline": false,
           "zerolinecolor": "rgb(36,36,36)"
          }
         }
        },
        "title": {
         "text": "Boxplot"
        },
        "xaxis": {
         "anchor": "y",
         "domain": [
          0,
          1
         ],
         "title": {
          "text": "Sex"
         }
        },
        "yaxis": {
         "anchor": "x",
         "domain": [
          0,
          1
         ],
         "title": {
          "text": "Consistent Group of Friends?"
         }
        }
       }
      }
     },
     "metadata": {},
     "output_type": "display_data"
    }
   ],
   "source": [
    "fig = px.box(df23, x = \"SEX\", y = \"USLLY_FRNDS\", title = \"Boxplot\", labels = {\"SEX\": \"Sex\", \"USLLY_FRNDS\": \"Consistent Group of Friends?\"})\n",
    "fig.show()"
   ]
  },
  {
   "cell_type": "code",
   "execution_count": null,
   "metadata": {},
   "outputs": [],
   "source": [
    "fig.write_html(\"/Users/macbook/Desktop/EECS389/398_mtf/plot3BS.html\", include_plotlyjs='cdn')"
   ]
  },
  {
   "cell_type": "markdown",
   "metadata": {},
   "source": [
    "# Interesting Aggregates! "
   ]
  },
  {
   "cell_type": "code",
   "execution_count": null,
   "metadata": {},
   "outputs": [
    {
     "data": {
      "text/html": [
       "<div>\n",
       "<style scoped>\n",
       "    .dataframe tbody tr th:only-of-type {\n",
       "        vertical-align: middle;\n",
       "    }\n",
       "\n",
       "    .dataframe tbody tr th {\n",
       "        vertical-align: top;\n",
       "    }\n",
       "\n",
       "    .dataframe thead th {\n",
       "        text-align: right;\n",
       "    }\n",
       "</style>\n",
       "<table border=\"1\" class=\"dataframe\">\n",
       "  <thead>\n",
       "    <tr style=\"text-align: right;\">\n",
       "      <th>WISH_MORE_FRNDS</th>\n",
       "      <th>0.0</th>\n",
       "      <th>1.0</th>\n",
       "      <th>2.0</th>\n",
       "      <th>3.0</th>\n",
       "      <th>4.0</th>\n",
       "    </tr>\n",
       "    <tr>\n",
       "      <th>LONELY</th>\n",
       "      <th></th>\n",
       "      <th></th>\n",
       "      <th></th>\n",
       "      <th></th>\n",
       "      <th></th>\n",
       "    </tr>\n",
       "  </thead>\n",
       "  <tbody>\n",
       "    <tr>\n",
       "      <th>0.0</th>\n",
       "      <td>48</td>\n",
       "      <td>18</td>\n",
       "      <td>12</td>\n",
       "      <td>10</td>\n",
       "      <td>8</td>\n",
       "    </tr>\n",
       "    <tr>\n",
       "      <th>1.0</th>\n",
       "      <td>37</td>\n",
       "      <td>45</td>\n",
       "      <td>14</td>\n",
       "      <td>32</td>\n",
       "      <td>17</td>\n",
       "    </tr>\n",
       "    <tr>\n",
       "      <th>2.0</th>\n",
       "      <td>23</td>\n",
       "      <td>29</td>\n",
       "      <td>48</td>\n",
       "      <td>39</td>\n",
       "      <td>20</td>\n",
       "    </tr>\n",
       "    <tr>\n",
       "      <th>3.0</th>\n",
       "      <td>21</td>\n",
       "      <td>28</td>\n",
       "      <td>15</td>\n",
       "      <td>50</td>\n",
       "      <td>34</td>\n",
       "    </tr>\n",
       "    <tr>\n",
       "      <th>4.0</th>\n",
       "      <td>12</td>\n",
       "      <td>11</td>\n",
       "      <td>7</td>\n",
       "      <td>25</td>\n",
       "      <td>53</td>\n",
       "    </tr>\n",
       "  </tbody>\n",
       "</table>\n",
       "</div>"
      ],
      "text/plain": [
       "WISH_MORE_FRNDS  0.0  1.0  2.0  3.0  4.0\n",
       "LONELY                                  \n",
       "0.0               48   18   12   10    8\n",
       "1.0               37   45   14   32   17\n",
       "2.0               23   29   48   39   20\n",
       "3.0               21   28   15   50   34\n",
       "4.0               12   11    7   25   53"
      ]
     },
     "execution_count": 45,
     "metadata": {},
     "output_type": "execute_result"
    }
   ],
   "source": [
    "\n",
    "pivot_table = pd.crosstab(df23['LONELY'], df23['WISH_MORE_FRNDS'])\n",
    "pivot_table\n"
   ]
  },
  {
   "cell_type": "code",
   "execution_count": null,
   "metadata": {},
   "outputs": [],
   "source": []
  },
  {
   "cell_type": "markdown",
   "metadata": {},
   "source": [
    "## Step 3: Framing a Prediction Problem"
   ]
  },
  {
   "cell_type": "code",
   "execution_count": null,
   "metadata": {
    "ExecuteTime": {
     "end_time": "2019-10-31T23:36:28.657068Z",
     "start_time": "2019-10-31T23:36:28.654650Z"
    }
   },
   "outputs": [],
   "source": []
  },
  {
   "cell_type": "markdown",
   "metadata": {},
   "source": [
    "## Step 4: Baseline Model"
   ]
  },
  {
   "cell_type": "code",
   "execution_count": null,
   "metadata": {
    "ExecuteTime": {
     "end_time": "2019-10-31T23:36:28.662099Z",
     "start_time": "2019-10-31T23:36:28.660016Z"
    }
   },
   "outputs": [],
   "source": [
    "# TODO"
   ]
  },
  {
   "cell_type": "markdown",
   "metadata": {},
   "source": []
  },
  {
   "cell_type": "markdown",
   "metadata": {},
   "source": [
    "## Step 5: Final Model"
   ]
  },
  {
   "cell_type": "code",
   "execution_count": null,
   "metadata": {
    "ExecuteTime": {
     "end_time": "2019-10-31T23:36:28.662099Z",
     "start_time": "2019-10-31T23:36:28.660016Z"
    }
   },
   "outputs": [],
   "source": [
    "# TODO"
   ]
  }
 ],
 "metadata": {
  "kernelspec": {
   "display_name": "pds",
   "language": "python",
   "name": "python3"
  },
  "language_info": {
   "codemirror_mode": {
    "name": "ipython",
    "version": 3
   },
   "file_extension": ".py",
   "mimetype": "text/x-python",
   "name": "python",
   "nbconvert_exporter": "python",
   "pygments_lexer": "ipython3",
   "version": "3.10.14"
  }
 },
 "nbformat": 4,
 "nbformat_minor": 4
}
