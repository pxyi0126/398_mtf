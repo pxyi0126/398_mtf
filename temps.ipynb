{
 "cells": [
  {
   "cell_type": "code",
   "execution_count": null,
   "metadata": {
    "ExecuteTime": {
     "end_time": "2019-10-31T23:36:28.652554Z",
     "start_time": "2019-10-31T23:36:27.180520Z"
    }
   },
   "outputs": [],
   "source": [
    "import pandas as pd\n",
    "import numpy as np\n",
    "import re\n",
    "from pathlib import Path\n",
    "\n",
    "import plotly.express as px\n",
    "pd.options.plotting.backend = 'plotly'\n",
    "\n",
    "from lec_utils import * \n",
    "# from save_data import * "
   ]
  },
  {
   "cell_type": "markdown",
   "metadata": {},
   "source": [
    "# Your Title Here\n",
    "\n",
    "**Name(s)**: Pheobe Yi and Omkar nayak \n",
    "\n",
    "**Website Link**: In progress "
   ]
  },
  {
   "cell_type": "markdown",
   "metadata": {},
   "source": [
    "## Step 1: Introduction"
   ]
  },
  {
   "cell_type": "code",
   "execution_count": 8,
   "metadata": {},
   "outputs": [
    {
     "name": "stdout",
     "output_type": "stream",
     "text": [
      "Processing year 2000...\n",
      "[PosixPath('/Users/yipho/eecs398/portfolio/datanew/ICPSR_03184-2000')]\n",
      "Found Form 1 data for year 2000: /Users/yipho/eecs398/portfolio/datanew/ICPSR_03184-2000/DS0001/03184-0001-Data.dta\n",
      "Found Form 5 data for year 2000: /Users/yipho/eecs398/portfolio/datanew/ICPSR_03184-2000/DS0006/03184-0006-Data.dta\n",
      "Saved data for year 2000 to /Users/yipho/eecs398/portfolio/rawdata/ICPSR_data_2000.csv\n",
      "Processing year 2001...\n",
      "[]\n",
      "No ICPSR folder found for year 2001. Skipping...\n",
      "Processing year 2002...\n",
      "[]\n",
      "No ICPSR folder found for year 2002. Skipping...\n",
      "Processing year 2003...\n",
      "[]\n",
      "No ICPSR folder found for year 2003. Skipping...\n",
      "Processing year 2004...\n",
      "[]\n",
      "No ICPSR folder found for year 2004. Skipping...\n",
      "Processing year 2005...\n",
      "[]\n",
      "No ICPSR folder found for year 2005. Skipping...\n",
      "Processing year 2006...\n",
      "[]\n",
      "No ICPSR folder found for year 2006. Skipping...\n",
      "Processing year 2007...\n",
      "[]\n",
      "No ICPSR folder found for year 2007. Skipping...\n",
      "Processing year 2008...\n",
      "[]\n",
      "No ICPSR folder found for year 2008. Skipping...\n",
      "Processing year 2009...\n",
      "[]\n",
      "No ICPSR folder found for year 2009. Skipping...\n",
      "Processing year 2010...\n",
      "[]\n",
      "No ICPSR folder found for year 2010. Skipping...\n",
      "Processing year 2011...\n",
      "[]\n",
      "No ICPSR folder found for year 2011. Skipping...\n",
      "Processing year 2012...\n",
      "[]\n",
      "No ICPSR folder found for year 2012. Skipping...\n",
      "Processing year 2013...\n",
      "[]\n",
      "No ICPSR folder found for year 2013. Skipping...\n",
      "Processing year 2014...\n",
      "[]\n",
      "No ICPSR folder found for year 2014. Skipping...\n",
      "Processing year 2015...\n",
      "[]\n",
      "No ICPSR folder found for year 2015. Skipping...\n",
      "Processing year 2016...\n",
      "[]\n",
      "No ICPSR folder found for year 2016. Skipping...\n",
      "Processing year 2017...\n",
      "[]\n",
      "No ICPSR folder found for year 2017. Skipping...\n",
      "Processing year 2018...\n",
      "[]\n",
      "No ICPSR folder found for year 2018. Skipping...\n",
      "Processing year 2019...\n",
      "[]\n",
      "No ICPSR folder found for year 2019. Skipping...\n",
      "Processing year 2020...\n",
      "[]\n",
      "No ICPSR folder found for year 2020. Skipping...\n",
      "Processing year 2021...\n",
      "[]\n",
      "No ICPSR folder found for year 2021. Skipping...\n",
      "Processing year 2022...\n",
      "[]\n",
      "No ICPSR folder found for year 2022. Skipping...\n",
      "Processing year 2023...\n",
      "[PosixPath('/Users/yipho/eecs398/portfolio/datanew/ICPSR_39172-2023')]\n",
      "Found Form 1 data for year 2023: /Users/yipho/eecs398/portfolio/datanew/ICPSR_39172-2023/DS0001/39172-0001-Data.dta\n",
      "Found Form 5 data for year 2023: /Users/yipho/eecs398/portfolio/datanew/ICPSR_39172-2023/DS0006/39172-0006-Data.dta\n",
      "Saved data for year 2023 to /Users/yipho/eecs398/portfolio/rawdata/ICPSR_data_2023.csv\n"
     ]
    }
   ],
   "source": [
    "base_path = Path(\"/Users/yipho/eecs398/portfolio/datanew\")\n",
    "output_path = Path(\"/Users/yipho/eecs398/portfolio/rawdata\") \n",
    "output_path.mkdir(parents=True, exist_ok=True) \n",
    "\n",
    "years_to_process = range(2000, 2024)\n",
    "\n",
    "def load_and_save_icpsr_data(base_path, output_path, years_to_process):\n",
    "    for year in years_to_process:\n",
    "        print(f\"Processing year {year}...\")\n",
    "\n",
    "        icpsr_folders = list(base_path.glob(f\"ICPSR_*{year}\")) \n",
    "        print(icpsr_folders)\n",
    "        \n",
    "        if not icpsr_folders:\n",
    "            print(f\"No ICPSR folder found for year {year}. Skipping...\")\n",
    "            continue\n",
    "\n",
    "        year_data = []  \n",
    "\n",
    "        for folder in icpsr_folders:\n",
    "            study_number = folder.name.split(\"_\")[1].split(\"-\")[0]  \n",
    "\n",
    "            form1_path = folder / f\"DS0001/{study_number}-0001-Data.dta\"\n",
    "            form6_path = folder / f\"DS0006/{study_number}-0006-Data.dta\"\n",
    "\n",
    "            for form_path, form_name in zip([form1_path, form6_path], [\"Form 1\", \"Form 5\"]):\n",
    "                if form_path.exists():\n",
    "                    print(f\"Found {form_name} data for year {year}: {form_path}\")\n",
    "                    try:\n",
    "                        df = pd.read_stata(form_path)\n",
    "\n",
    "                        df[\"Year\"] = year\n",
    "                        df[\"Form\"] = form_name\n",
    "\n",
    "                        year_data.append(df)\n",
    "                    except Exception as e:\n",
    "                        print(f\"Error loading {form_path}: {e}\")\n",
    "                else:\n",
    "                    print(f\"{form_name} data not found for year {year}.\")\n",
    "\n",
    "\n",
    "        if year_data:\n",
    "            year_df = pd.concat(year_data, axis=0)\n",
    "            output_file = output_path / f\"ICPSR_data_{year}.csv\"\n",
    "            year_df.to_csv(output_file, index=False)\n",
    "            print(f\"Saved data for year {year} to {output_file}\")\n",
    "        else:\n",
    "            print(f\"No data found for year {year}.\")\n",
    "\n",
    "load_and_save_icpsr_data(base_path, output_path, years_to_process)"
   ]
  },
  {
   "cell_type": "code",
   "execution_count": 3,
   "metadata": {},
   "outputs": [],
   "source": [
    "# read in the dataset and perform the basic understanding of the dataset\n",
    "df1 =  pd.read_stata(\"datanew/ICPSR_39172-2023/DS0001/39172-0001-Data.dta\")\n",
    "df6 =  pd.read_stata(\"datanew/ICPSR_39172-2023/DS0006/39172-0006-Data.dta\")"
   ]
  },
  {
   "cell_type": "code",
   "execution_count": 4,
   "metadata": {},
   "outputs": [],
   "source": [
    "# concat stuff together\n",
    "dfcat = df1.merge(df6, on='RESPONDENT_ID', how='inner')\n"
   ]
  },
  {
   "cell_type": "markdown",
   "metadata": {},
   "source": [
    "## Step 2: Data Cleaning and Exploratory Data Analysis"
   ]
  },
  {
   "cell_type": "code",
   "execution_count": 5,
   "metadata": {
    "ExecuteTime": {
     "end_time": "2019-10-31T23:36:28.662099Z",
     "start_time": "2019-10-31T23:36:28.660016Z"
    }
   },
   "outputs": [
    {
     "data": {
      "text/html": [
       "<div>\n",
       "<style scoped>\n",
       "    .dataframe tbody tr th:only-of-type {\n",
       "        vertical-align: middle;\n",
       "    }\n",
       "\n",
       "    .dataframe tbody tr th {\n",
       "        vertical-align: top;\n",
       "    }\n",
       "\n",
       "    .dataframe thead th {\n",
       "        text-align: right;\n",
       "    }\n",
       "</style>\n",
       "<table border=\"1\" class=\"dataframe\">\n",
       "  <thead>\n",
       "    <tr style=\"text-align: right;\">\n",
       "      <th></th>\n",
       "      <th>RESPONDENT_ID</th>\n",
       "      <th>V1_x</th>\n",
       "      <th>V2150</th>\n",
       "      <th>V49_x</th>\n",
       "      <th>...</th>\n",
       "      <th>V2155</th>\n",
       "      <th>V2156</th>\n",
       "      <th>V5313</th>\n",
       "      <th>V5321</th>\n",
       "    </tr>\n",
       "  </thead>\n",
       "  <tbody>\n",
       "    <tr>\n",
       "      <th>0</th>\n",
       "      <td>50001</td>\n",
       "      <td>2023</td>\n",
       "      <td>FEMALE:(2)</td>\n",
       "      <td>THREE+:(3)</td>\n",
       "      <td>...</td>\n",
       "      <td>MARKED:(1)</td>\n",
       "      <td>MARKED:(1)</td>\n",
       "      <td>AGREE:(5)</td>\n",
       "      <td>AGREE:(5)</td>\n",
       "    </tr>\n",
       "    <tr>\n",
       "      <th>1</th>\n",
       "      <td>50002</td>\n",
       "      <td>2023</td>\n",
       "      <td>FEMALE:(2)</td>\n",
       "      <td>THREE+:(3)</td>\n",
       "      <td>...</td>\n",
       "      <td>NT MARKD:(0)</td>\n",
       "      <td>MARKED:(1)</td>\n",
       "      <td>AGREE:(5)</td>\n",
       "      <td>MOST AGR:(4)</td>\n",
       "    </tr>\n",
       "    <tr>\n",
       "      <th>2</th>\n",
       "      <td>50003</td>\n",
       "      <td>2023</td>\n",
       "      <td>MALE:(1)</td>\n",
       "      <td>TWO:(2)</td>\n",
       "      <td>...</td>\n",
       "      <td>NT MARKD:(0)</td>\n",
       "      <td>MARKED:(1)</td>\n",
       "      <td>AGREE:(5)</td>\n",
       "      <td>AGREE:(5)</td>\n",
       "    </tr>\n",
       "    <tr>\n",
       "      <th>3</th>\n",
       "      <td>50004</td>\n",
       "      <td>2023</td>\n",
       "      <td>MALE:(1)</td>\n",
       "      <td>TWO:(2)</td>\n",
       "      <td>...</td>\n",
       "      <td>MARKED:(1)</td>\n",
       "      <td>MARKED:(1)</td>\n",
       "      <td>MOST AGR:(4)</td>\n",
       "      <td>DISAGREE:(1)</td>\n",
       "    </tr>\n",
       "    <tr>\n",
       "      <th>4</th>\n",
       "      <td>50005</td>\n",
       "      <td>2023</td>\n",
       "      <td>MALE:(1)</td>\n",
       "      <td>THREE+:(3)</td>\n",
       "      <td>...</td>\n",
       "      <td>MARKED:(1)</td>\n",
       "      <td>MARKED:(1)</td>\n",
       "      <td>NEITHER:(3)</td>\n",
       "      <td>DISAGREE:(1)</td>\n",
       "    </tr>\n",
       "  </tbody>\n",
       "</table>\n",
       "<p>5 rows × 10 columns</p>\n",
       "</div>"
      ],
      "text/plain": [
       "   RESPONDENT_ID  V1_x       V2150       V49_x  ...         V2155       V2156  \\\n",
       "0          50001  2023  FEMALE:(2)  THREE+:(3)  ...    MARKED:(1)  MARKED:(1)   \n",
       "1          50002  2023  FEMALE:(2)  THREE+:(3)  ...  NT MARKD:(0)  MARKED:(1)   \n",
       "2          50003  2023    MALE:(1)     TWO:(2)  ...  NT MARKD:(0)  MARKED:(1)   \n",
       "3          50004  2023    MALE:(1)     TWO:(2)  ...    MARKED:(1)  MARKED:(1)   \n",
       "4          50005  2023    MALE:(1)  THREE+:(3)  ...    MARKED:(1)  MARKED:(1)   \n",
       "\n",
       "          V5313         V5321  \n",
       "0     AGREE:(5)     AGREE:(5)  \n",
       "1     AGREE:(5)  MOST AGR:(4)  \n",
       "2     AGREE:(5)     AGREE:(5)  \n",
       "3  MOST AGR:(4)  DISAGREE:(1)  \n",
       "4   NEITHER:(3)  DISAGREE:(1)  \n",
       "\n",
       "[5 rows x 10 columns]"
      ]
     },
     "execution_count": 5,
     "metadata": {},
     "output_type": "execute_result"
    }
   ],
   "source": [
    "cols_interest = ['RESPONDENT_ID', 'V1_x', 'V2150','V49_x', 'V2167', 'V2157', 'V2155', 'V2156', 'V5313', 'V5321']\n",
    "dfmain = dfcat[cols_interest]\n",
    "dfmain.head()"
   ]
  },
  {
   "cell_type": "code",
   "execution_count": 6,
   "metadata": {},
   "outputs": [],
   "source": [
    "cols_clean = ['V49_x','V2150', 'V2167', 'V2157', 'V2155', 'V2156', 'V5313', 'V5321']\n",
    "\n",
    "def extract_number(column):\n",
    "    pattern = r\".+:\\s*\\((\\d+)\\)\"\n",
    "    return column.apply(lambda x: int(re.match(pattern, str(x)).group(1)) if re.match(pattern, str(x)) else None)"
   ]
  },
  {
   "cell_type": "code",
   "execution_count": 7,
   "metadata": {},
   "outputs": [
    {
     "data": {
      "text/html": [
       "<div>\n",
       "<style scoped>\n",
       "    .dataframe tbody tr th:only-of-type {\n",
       "        vertical-align: middle;\n",
       "    }\n",
       "\n",
       "    .dataframe tbody tr th {\n",
       "        vertical-align: top;\n",
       "    }\n",
       "\n",
       "    .dataframe thead th {\n",
       "        text-align: right;\n",
       "    }\n",
       "</style>\n",
       "<table border=\"1\" class=\"dataframe\">\n",
       "  <thead>\n",
       "    <tr style=\"text-align: right;\">\n",
       "      <th></th>\n",
       "      <th>RESPONDENT_ID</th>\n",
       "      <th>V1_x</th>\n",
       "      <th>V2150</th>\n",
       "      <th>V49_x</th>\n",
       "      <th>...</th>\n",
       "      <th>V2155</th>\n",
       "      <th>V2156</th>\n",
       "      <th>V5313</th>\n",
       "      <th>V5321</th>\n",
       "    </tr>\n",
       "  </thead>\n",
       "  <tbody>\n",
       "    <tr>\n",
       "      <th>0</th>\n",
       "      <td>50001</td>\n",
       "      <td>2023</td>\n",
       "      <td>2.0</td>\n",
       "      <td>3.0</td>\n",
       "      <td>...</td>\n",
       "      <td>1.0</td>\n",
       "      <td>1.0</td>\n",
       "      <td>5.0</td>\n",
       "      <td>5.0</td>\n",
       "    </tr>\n",
       "    <tr>\n",
       "      <th>1</th>\n",
       "      <td>50002</td>\n",
       "      <td>2023</td>\n",
       "      <td>2.0</td>\n",
       "      <td>3.0</td>\n",
       "      <td>...</td>\n",
       "      <td>0.0</td>\n",
       "      <td>1.0</td>\n",
       "      <td>5.0</td>\n",
       "      <td>4.0</td>\n",
       "    </tr>\n",
       "    <tr>\n",
       "      <th>2</th>\n",
       "      <td>50003</td>\n",
       "      <td>2023</td>\n",
       "      <td>1.0</td>\n",
       "      <td>2.0</td>\n",
       "      <td>...</td>\n",
       "      <td>0.0</td>\n",
       "      <td>1.0</td>\n",
       "      <td>5.0</td>\n",
       "      <td>5.0</td>\n",
       "    </tr>\n",
       "    <tr>\n",
       "      <th>3</th>\n",
       "      <td>50004</td>\n",
       "      <td>2023</td>\n",
       "      <td>1.0</td>\n",
       "      <td>2.0</td>\n",
       "      <td>...</td>\n",
       "      <td>1.0</td>\n",
       "      <td>1.0</td>\n",
       "      <td>4.0</td>\n",
       "      <td>1.0</td>\n",
       "    </tr>\n",
       "    <tr>\n",
       "      <th>4</th>\n",
       "      <td>50005</td>\n",
       "      <td>2023</td>\n",
       "      <td>1.0</td>\n",
       "      <td>3.0</td>\n",
       "      <td>...</td>\n",
       "      <td>1.0</td>\n",
       "      <td>1.0</td>\n",
       "      <td>3.0</td>\n",
       "      <td>1.0</td>\n",
       "    </tr>\n",
       "  </tbody>\n",
       "</table>\n",
       "<p>5 rows × 10 columns</p>\n",
       "</div>"
      ],
      "text/plain": [
       "   RESPONDENT_ID  V1_x  V2150  V49_x  ...  V2155  V2156  V5313  V5321\n",
       "0          50001  2023    2.0    3.0  ...    1.0    1.0    5.0    5.0\n",
       "1          50002  2023    2.0    3.0  ...    0.0    1.0    5.0    4.0\n",
       "2          50003  2023    1.0    2.0  ...    0.0    1.0    5.0    5.0\n",
       "3          50004  2023    1.0    2.0  ...    1.0    1.0    4.0    1.0\n",
       "4          50005  2023    1.0    3.0  ...    1.0    1.0    3.0    1.0\n",
       "\n",
       "[5 rows x 10 columns]"
      ]
     },
     "execution_count": 7,
     "metadata": {},
     "output_type": "execute_result"
    }
   ],
   "source": [
    "for col in cols_clean:\n",
    "    dfmain[col] = extract_number(dfcat[col])\n",
    "\n",
    "dfmain.head()"
   ]
  },
  {
   "cell_type": "code",
   "execution_count": 8,
   "metadata": {},
   "outputs": [],
   "source": [
    "#drop 6,8,-9 for 2167 Pol leaning \n",
    "dfmain = dfmain[dfmain['V2167'] != 6]\n",
    "dfmain = dfmain[dfmain['V2167'] != 8]\n",
    "dfmain = dfmain[dfmain['V2167'] != -9]\n",
    "#drop nan\n",
    "dfmain = dfmain.dropna(subset=['V2167'])\n",
    "#rescale and regularize \n",
    "dfmain['V2167'] = dfmain['V2167'] - 1"
   ]
  },
  {
   "cell_type": "code",
   "execution_count": 9,
   "metadata": {},
   "outputs": [
    {
     "data": {
      "text/plain": [
       "V2150\n",
       "1.0    370\n",
       "0.0    319\n",
       "Name: count, dtype: int64"
      ]
     },
     "execution_count": 9,
     "metadata": {},
     "output_type": "execute_result"
    }
   ],
   "source": [
    "# for sex, drop -9, 3 and 4 (missing other and refused to answer)\n",
    "dfmain = dfmain[dfmain['V2150'] != -9]\n",
    "dfmain = dfmain[dfmain['V2150'] != 4]\n",
    "dfmain = dfmain[dfmain['V2150'] != 3]\n",
    "\n",
    "dfmain = dfmain.dropna(subset=['V2150'])\n",
    "\n",
    "dfmain['V2150'] = dfmain['V2150'] - 1\n",
    "# 0 for male, 1 for female now \n",
    "dfmain['V2150'].value_counts()"
   ]
  },
  {
   "cell_type": "code",
   "execution_count": 10,
   "metadata": {},
   "outputs": [
    {
     "data": {
      "application/vnd.plotly.v1+json": {
       "config": {
        "plotlyServerURL": "https://plot.ly"
       },
       "data": [
        {
         "alignmentgroup": "True",
         "hovertemplate": "Political Beliefs=%{x}<br>Count=%{y}<br>color=%{marker.color}<extra></extra>",
         "legendgroup": "",
         "marker": {
          "color": [
           0,
           1,
           2,
           3,
           4
          ],
          "coloraxis": "coloraxis",
          "pattern": {
           "shape": ""
          }
         },
         "name": "",
         "offsetgroup": "",
         "orientation": "v",
         "showlegend": false,
         "textposition": "auto",
         "type": "bar",
         "x": [
          0,
          1,
          2,
          3,
          4
         ],
         "xaxis": "x",
         "y": [
          64,
          156,
          216,
          185,
          68
         ],
         "yaxis": "y"
        }
       ],
       "layout": {
        "barmode": "relative",
        "coloraxis": {
         "colorbar": {
          "title": {
           "text": "color"
          }
         },
         "colorscale": [
          [
           0,
           "#440154"
          ],
          [
           0.1111111111111111,
           "#482878"
          ],
          [
           0.2222222222222222,
           "#3e4989"
          ],
          [
           0.3333333333333333,
           "#31688e"
          ],
          [
           0.4444444444444444,
           "#26828e"
          ],
          [
           0.5555555555555556,
           "#1f9e89"
          ],
          [
           0.6666666666666666,
           "#35b779"
          ],
          [
           0.7777777777777778,
           "#6ece58"
          ],
          [
           0.8888888888888888,
           "#b5de2b"
          ],
          [
           1,
           "#fde725"
          ]
         ]
        },
        "legend": {
         "tracegroupgap": 0
        },
        "template": {
         "data": {
          "bar": [
           {
            "error_x": {
             "color": "rgb(36,36,36)"
            },
            "error_y": {
             "color": "rgb(36,36,36)"
            },
            "marker": {
             "line": {
              "color": "white",
              "width": 0.5
             },
             "pattern": {
              "fillmode": "overlay",
              "size": 10,
              "solidity": 0.2
             }
            },
            "type": "bar"
           }
          ],
          "barpolar": [
           {
            "marker": {
             "line": {
              "color": "white",
              "width": 0.5
             },
             "pattern": {
              "fillmode": "overlay",
              "size": 10,
              "solidity": 0.2
             }
            },
            "type": "barpolar"
           }
          ],
          "carpet": [
           {
            "aaxis": {
             "endlinecolor": "rgb(36,36,36)",
             "gridcolor": "white",
             "linecolor": "white",
             "minorgridcolor": "white",
             "startlinecolor": "rgb(36,36,36)"
            },
            "baxis": {
             "endlinecolor": "rgb(36,36,36)",
             "gridcolor": "white",
             "linecolor": "white",
             "minorgridcolor": "white",
             "startlinecolor": "rgb(36,36,36)"
            },
            "type": "carpet"
           }
          ],
          "choropleth": [
           {
            "colorbar": {
             "outlinewidth": 1,
             "tickcolor": "rgb(36,36,36)",
             "ticks": "outside"
            },
            "type": "choropleth"
           }
          ],
          "contour": [
           {
            "colorbar": {
             "outlinewidth": 1,
             "tickcolor": "rgb(36,36,36)",
             "ticks": "outside"
            },
            "colorscale": [
             [
              0,
              "#440154"
             ],
             [
              0.1111111111111111,
              "#482878"
             ],
             [
              0.2222222222222222,
              "#3e4989"
             ],
             [
              0.3333333333333333,
              "#31688e"
             ],
             [
              0.4444444444444444,
              "#26828e"
             ],
             [
              0.5555555555555556,
              "#1f9e89"
             ],
             [
              0.6666666666666666,
              "#35b779"
             ],
             [
              0.7777777777777778,
              "#6ece58"
             ],
             [
              0.8888888888888888,
              "#b5de2b"
             ],
             [
              1,
              "#fde725"
             ]
            ],
            "type": "contour"
           }
          ],
          "contourcarpet": [
           {
            "colorbar": {
             "outlinewidth": 1,
             "tickcolor": "rgb(36,36,36)",
             "ticks": "outside"
            },
            "type": "contourcarpet"
           }
          ],
          "heatmap": [
           {
            "colorbar": {
             "outlinewidth": 1,
             "tickcolor": "rgb(36,36,36)",
             "ticks": "outside"
            },
            "colorscale": [
             [
              0,
              "#440154"
             ],
             [
              0.1111111111111111,
              "#482878"
             ],
             [
              0.2222222222222222,
              "#3e4989"
             ],
             [
              0.3333333333333333,
              "#31688e"
             ],
             [
              0.4444444444444444,
              "#26828e"
             ],
             [
              0.5555555555555556,
              "#1f9e89"
             ],
             [
              0.6666666666666666,
              "#35b779"
             ],
             [
              0.7777777777777778,
              "#6ece58"
             ],
             [
              0.8888888888888888,
              "#b5de2b"
             ],
             [
              1,
              "#fde725"
             ]
            ],
            "type": "heatmap"
           }
          ],
          "heatmapgl": [
           {
            "colorbar": {
             "outlinewidth": 1,
             "tickcolor": "rgb(36,36,36)",
             "ticks": "outside"
            },
            "colorscale": [
             [
              0,
              "#440154"
             ],
             [
              0.1111111111111111,
              "#482878"
             ],
             [
              0.2222222222222222,
              "#3e4989"
             ],
             [
              0.3333333333333333,
              "#31688e"
             ],
             [
              0.4444444444444444,
              "#26828e"
             ],
             [
              0.5555555555555556,
              "#1f9e89"
             ],
             [
              0.6666666666666666,
              "#35b779"
             ],
             [
              0.7777777777777778,
              "#6ece58"
             ],
             [
              0.8888888888888888,
              "#b5de2b"
             ],
             [
              1,
              "#fde725"
             ]
            ],
            "type": "heatmapgl"
           }
          ],
          "histogram": [
           {
            "marker": {
             "line": {
              "color": "white",
              "width": 0.6
             }
            },
            "type": "histogram"
           }
          ],
          "histogram2d": [
           {
            "colorbar": {
             "outlinewidth": 1,
             "tickcolor": "rgb(36,36,36)",
             "ticks": "outside"
            },
            "colorscale": [
             [
              0,
              "#440154"
             ],
             [
              0.1111111111111111,
              "#482878"
             ],
             [
              0.2222222222222222,
              "#3e4989"
             ],
             [
              0.3333333333333333,
              "#31688e"
             ],
             [
              0.4444444444444444,
              "#26828e"
             ],
             [
              0.5555555555555556,
              "#1f9e89"
             ],
             [
              0.6666666666666666,
              "#35b779"
             ],
             [
              0.7777777777777778,
              "#6ece58"
             ],
             [
              0.8888888888888888,
              "#b5de2b"
             ],
             [
              1,
              "#fde725"
             ]
            ],
            "type": "histogram2d"
           }
          ],
          "histogram2dcontour": [
           {
            "colorbar": {
             "outlinewidth": 1,
             "tickcolor": "rgb(36,36,36)",
             "ticks": "outside"
            },
            "colorscale": [
             [
              0,
              "#440154"
             ],
             [
              0.1111111111111111,
              "#482878"
             ],
             [
              0.2222222222222222,
              "#3e4989"
             ],
             [
              0.3333333333333333,
              "#31688e"
             ],
             [
              0.4444444444444444,
              "#26828e"
             ],
             [
              0.5555555555555556,
              "#1f9e89"
             ],
             [
              0.6666666666666666,
              "#35b779"
             ],
             [
              0.7777777777777778,
              "#6ece58"
             ],
             [
              0.8888888888888888,
              "#b5de2b"
             ],
             [
              1,
              "#fde725"
             ]
            ],
            "type": "histogram2dcontour"
           }
          ],
          "mesh3d": [
           {
            "colorbar": {
             "outlinewidth": 1,
             "tickcolor": "rgb(36,36,36)",
             "ticks": "outside"
            },
            "type": "mesh3d"
           }
          ],
          "parcoords": [
           {
            "line": {
             "colorbar": {
              "outlinewidth": 1,
              "tickcolor": "rgb(36,36,36)",
              "ticks": "outside"
             }
            },
            "type": "parcoords"
           }
          ],
          "pie": [
           {
            "automargin": true,
            "type": "pie"
           }
          ],
          "scatter": [
           {
            "fillpattern": {
             "fillmode": "overlay",
             "size": 10,
             "solidity": 0.2
            },
            "type": "scatter"
           }
          ],
          "scatter3d": [
           {
            "line": {
             "colorbar": {
              "outlinewidth": 1,
              "tickcolor": "rgb(36,36,36)",
              "ticks": "outside"
             }
            },
            "marker": {
             "colorbar": {
              "outlinewidth": 1,
              "tickcolor": "rgb(36,36,36)",
              "ticks": "outside"
             }
            },
            "type": "scatter3d"
           }
          ],
          "scattercarpet": [
           {
            "marker": {
             "colorbar": {
              "outlinewidth": 1,
              "tickcolor": "rgb(36,36,36)",
              "ticks": "outside"
             }
            },
            "type": "scattercarpet"
           }
          ],
          "scattergeo": [
           {
            "marker": {
             "colorbar": {
              "outlinewidth": 1,
              "tickcolor": "rgb(36,36,36)",
              "ticks": "outside"
             }
            },
            "type": "scattergeo"
           }
          ],
          "scattergl": [
           {
            "marker": {
             "colorbar": {
              "outlinewidth": 1,
              "tickcolor": "rgb(36,36,36)",
              "ticks": "outside"
             }
            },
            "type": "scattergl"
           }
          ],
          "scattermapbox": [
           {
            "marker": {
             "colorbar": {
              "outlinewidth": 1,
              "tickcolor": "rgb(36,36,36)",
              "ticks": "outside"
             }
            },
            "type": "scattermapbox"
           }
          ],
          "scatterpolar": [
           {
            "marker": {
             "colorbar": {
              "outlinewidth": 1,
              "tickcolor": "rgb(36,36,36)",
              "ticks": "outside"
             }
            },
            "type": "scatterpolar"
           }
          ],
          "scatterpolargl": [
           {
            "marker": {
             "colorbar": {
              "outlinewidth": 1,
              "tickcolor": "rgb(36,36,36)",
              "ticks": "outside"
             }
            },
            "type": "scatterpolargl"
           }
          ],
          "scatterternary": [
           {
            "marker": {
             "colorbar": {
              "outlinewidth": 1,
              "tickcolor": "rgb(36,36,36)",
              "ticks": "outside"
             }
            },
            "type": "scatterternary"
           }
          ],
          "surface": [
           {
            "colorbar": {
             "outlinewidth": 1,
             "tickcolor": "rgb(36,36,36)",
             "ticks": "outside"
            },
            "colorscale": [
             [
              0,
              "#440154"
             ],
             [
              0.1111111111111111,
              "#482878"
             ],
             [
              0.2222222222222222,
              "#3e4989"
             ],
             [
              0.3333333333333333,
              "#31688e"
             ],
             [
              0.4444444444444444,
              "#26828e"
             ],
             [
              0.5555555555555556,
              "#1f9e89"
             ],
             [
              0.6666666666666666,
              "#35b779"
             ],
             [
              0.7777777777777778,
              "#6ece58"
             ],
             [
              0.8888888888888888,
              "#b5de2b"
             ],
             [
              1,
              "#fde725"
             ]
            ],
            "type": "surface"
           }
          ],
          "table": [
           {
            "cells": {
             "fill": {
              "color": "rgb(237,237,237)"
             },
             "line": {
              "color": "white"
             }
            },
            "header": {
             "fill": {
              "color": "rgb(217,217,217)"
             },
             "line": {
              "color": "white"
             }
            },
            "type": "table"
           }
          ]
         },
         "layout": {
          "annotationdefaults": {
           "arrowhead": 0,
           "arrowwidth": 1
          },
          "autosize": true,
          "autotypenumbers": "strict",
          "coloraxis": {
           "colorbar": {
            "outlinewidth": 1,
            "tickcolor": "rgb(36,36,36)",
            "ticks": "outside"
           }
          },
          "colorscale": {
           "diverging": [
            [
             0,
             "rgb(103,0,31)"
            ],
            [
             0.1,
             "rgb(178,24,43)"
            ],
            [
             0.2,
             "rgb(214,96,77)"
            ],
            [
             0.3,
             "rgb(244,165,130)"
            ],
            [
             0.4,
             "rgb(253,219,199)"
            ],
            [
             0.5,
             "rgb(247,247,247)"
            ],
            [
             0.6,
             "rgb(209,229,240)"
            ],
            [
             0.7,
             "rgb(146,197,222)"
            ],
            [
             0.8,
             "rgb(67,147,195)"
            ],
            [
             0.9,
             "rgb(33,102,172)"
            ],
            [
             1,
             "rgb(5,48,97)"
            ]
           ],
           "sequential": [
            [
             0,
             "#440154"
            ],
            [
             0.1111111111111111,
             "#482878"
            ],
            [
             0.2222222222222222,
             "#3e4989"
            ],
            [
             0.3333333333333333,
             "#31688e"
            ],
            [
             0.4444444444444444,
             "#26828e"
            ],
            [
             0.5555555555555556,
             "#1f9e89"
            ],
            [
             0.6666666666666666,
             "#35b779"
            ],
            [
             0.7777777777777778,
             "#6ece58"
            ],
            [
             0.8888888888888888,
             "#b5de2b"
            ],
            [
             1,
             "#fde725"
            ]
           ],
           "sequentialminus": [
            [
             0,
             "#440154"
            ],
            [
             0.1111111111111111,
             "#482878"
            ],
            [
             0.2222222222222222,
             "#3e4989"
            ],
            [
             0.3333333333333333,
             "#31688e"
            ],
            [
             0.4444444444444444,
             "#26828e"
            ],
            [
             0.5555555555555556,
             "#1f9e89"
            ],
            [
             0.6666666666666666,
             "#35b779"
            ],
            [
             0.7777777777777778,
             "#6ece58"
            ],
            [
             0.8888888888888888,
             "#b5de2b"
            ],
            [
             1,
             "#fde725"
            ]
           ]
          },
          "colorway": [
           "#1F77B4",
           "#FF7F0E",
           "#2CA02C",
           "#D62728",
           "#9467BD",
           "#8C564B",
           "#E377C2",
           "#7F7F7F",
           "#BCBD22",
           "#17BECF"
          ],
          "font": {
           "color": "rgb(36,36,36)"
          },
          "geo": {
           "bgcolor": "white",
           "lakecolor": "white",
           "landcolor": "white",
           "showlakes": true,
           "showland": true,
           "subunitcolor": "white"
          },
          "height": 400,
          "hoverlabel": {
           "align": "left"
          },
          "hovermode": "closest",
          "mapbox": {
           "style": "light"
          },
          "margin": {
           "b": 30,
           "l": 30,
           "r": 30,
           "t": 30
          },
          "paper_bgcolor": "white",
          "plot_bgcolor": "white",
          "polar": {
           "angularaxis": {
            "gridcolor": "rgb(232,232,232)",
            "linecolor": "rgb(36,36,36)",
            "showgrid": false,
            "showline": true,
            "ticks": "outside"
           },
           "bgcolor": "white",
           "radialaxis": {
            "gridcolor": "rgb(232,232,232)",
            "linecolor": "rgb(36,36,36)",
            "showgrid": false,
            "showline": true,
            "ticks": "outside"
           }
          },
          "scene": {
           "xaxis": {
            "backgroundcolor": "white",
            "gridcolor": "rgb(232,232,232)",
            "gridwidth": 2,
            "linecolor": "rgb(36,36,36)",
            "showbackground": true,
            "showgrid": false,
            "showline": true,
            "ticks": "outside",
            "zeroline": false,
            "zerolinecolor": "rgb(36,36,36)"
           },
           "yaxis": {
            "backgroundcolor": "white",
            "gridcolor": "rgb(232,232,232)",
            "gridwidth": 2,
            "linecolor": "rgb(36,36,36)",
            "showbackground": true,
            "showgrid": false,
            "showline": true,
            "ticks": "outside",
            "zeroline": false,
            "zerolinecolor": "rgb(36,36,36)"
           },
           "zaxis": {
            "backgroundcolor": "white",
            "gridcolor": "rgb(232,232,232)",
            "gridwidth": 2,
            "linecolor": "rgb(36,36,36)",
            "showbackground": true,
            "showgrid": false,
            "showline": true,
            "ticks": "outside",
            "zeroline": false,
            "zerolinecolor": "rgb(36,36,36)"
           }
          },
          "shapedefaults": {
           "fillcolor": "black",
           "line": {
            "width": 0
           },
           "opacity": 0.3
          },
          "ternary": {
           "aaxis": {
            "gridcolor": "rgb(232,232,232)",
            "linecolor": "rgb(36,36,36)",
            "showgrid": false,
            "showline": true,
            "ticks": "outside"
           },
           "baxis": {
            "gridcolor": "rgb(232,232,232)",
            "linecolor": "rgb(36,36,36)",
            "showgrid": false,
            "showline": true,
            "ticks": "outside"
           },
           "bgcolor": "white",
           "caxis": {
            "gridcolor": "rgb(232,232,232)",
            "linecolor": "rgb(36,36,36)",
            "showgrid": false,
            "showline": true,
            "ticks": "outside"
           }
          },
          "title": {
           "x": 0.5,
           "xanchor": "center"
          },
          "width": 600,
          "xaxis": {
           "automargin": true,
           "gridcolor": "rgb(232,232,232)",
           "linecolor": "rgb(36,36,36)",
           "showgrid": true,
           "showline": true,
           "ticks": "outside",
           "title": {
            "standoff": 15
           },
           "zeroline": false,
           "zerolinecolor": "rgb(36,36,36)"
          },
          "yaxis": {
           "automargin": true,
           "gridcolor": "rgb(232,232,232)",
           "linecolor": "rgb(36,36,36)",
           "showgrid": true,
           "showline": true,
           "ticks": "outside",
           "title": {
            "standoff": 15
           },
           "zeroline": false,
           "zerolinecolor": "rgb(36,36,36)"
          }
         }
        },
        "title": {
         "text": "Political Beliefs Distribution"
        },
        "xaxis": {
         "anchor": "y",
         "domain": [
          0,
          1
         ],
         "tickmode": "array",
         "ticktext": [
          "Very Conservative",
          "Conservative",
          "Moderate",
          "Liberal",
          "Very Liberal"
         ],
         "tickvals": [
          0,
          1,
          2,
          3,
          4
         ],
         "title": {
          "text": "Political Beliefs"
         }
        },
        "yaxis": {
         "anchor": "x",
         "domain": [
          0,
          1
         ],
         "title": {
          "text": "Count"
         }
        }
       }
      }
     },
     "metadata": {},
     "output_type": "display_data"
    }
   ],
   "source": [
    "pol_blfs = [\"Very Conservative\", \"Conservative\", \"Moderate\", \"Liberal\", \"Very Liberal\"]\n",
    "counts = dfmain['V2167'].value_counts().sort_index()\n",
    "\n",
    "\n",
    "colors = ['red', 'pink', 'darkgray', 'lightblue', 'blue']\n",
    "\n",
    "\n",
    "fig = px.bar(\n",
    "    x=counts.index,\n",
    "    y=counts.values,\n",
    "    title='Political Beliefs Distribution',\n",
    "    labels={'x': 'Political Beliefs', 'y': 'Count'},\n",
    "    color=counts.index, \n",
    "    color_discrete_sequence=colors  \n",
    ")\n",
    "\n",
    "# Update x-axis labels\n",
    "fig.update_layout(\n",
    "    xaxis_title=\"Political Beliefs\",\n",
    "    yaxis_title=\"Count\",\n",
    "    xaxis=dict(\n",
    "        tickmode='array',\n",
    "        tickvals=counts.index,\n",
    "        ticktext=pol_blfs\n",
    "    )\n",
    ")\n",
    "# Show the chart\n",
    "fig.show()\n"
   ]
  },
  {
   "cell_type": "code",
   "execution_count": 11,
   "metadata": {},
   "outputs": [
    {
     "name": "stdout",
     "output_type": "stream",
     "text": [
      "fuck this man why isn't it working\n"
     ]
    }
   ],
   "source": [
    "print(\"fuck this man why isn't it working\")"
   ]
  },
  {
   "cell_type": "code",
   "execution_count": null,
   "metadata": {},
   "outputs": [],
   "source": []
  },
  {
   "cell_type": "markdown",
   "metadata": {},
   "source": [
    "## Step 3: Framing a Prediction Problem"
   ]
  },
  {
   "cell_type": "code",
   "execution_count": null,
   "metadata": {
    "ExecuteTime": {
     "end_time": "2019-10-31T23:36:28.657068Z",
     "start_time": "2019-10-31T23:36:28.654650Z"
    }
   },
   "outputs": [],
   "source": []
  },
  {
   "cell_type": "markdown",
   "metadata": {},
   "source": [
    "## Step 4: Baseline Model"
   ]
  },
  {
   "cell_type": "code",
   "execution_count": 12,
   "metadata": {
    "ExecuteTime": {
     "end_time": "2019-10-31T23:36:28.662099Z",
     "start_time": "2019-10-31T23:36:28.660016Z"
    }
   },
   "outputs": [],
   "source": [
    "# TODO"
   ]
  },
  {
   "cell_type": "markdown",
   "metadata": {},
   "source": []
  },
  {
   "cell_type": "markdown",
   "metadata": {},
   "source": [
    "## Step 5: Final Model"
   ]
  },
  {
   "cell_type": "code",
   "execution_count": 13,
   "metadata": {
    "ExecuteTime": {
     "end_time": "2019-10-31T23:36:28.662099Z",
     "start_time": "2019-10-31T23:36:28.660016Z"
    }
   },
   "outputs": [],
   "source": [
    "# TODO"
   ]
  }
 ],
 "metadata": {
  "kernelspec": {
   "display_name": "pds",
   "language": "python",
   "name": "python3"
  },
  "language_info": {
   "codemirror_mode": {
    "name": "ipython",
    "version": 3
   },
   "file_extension": ".py",
   "mimetype": "text/x-python",
   "name": "python",
   "nbconvert_exporter": "python",
   "pygments_lexer": "ipython3",
   "version": "3.10.15"
  }
 },
 "nbformat": 4,
 "nbformat_minor": 4
}
