{
 "cells": [
  {
   "cell_type": "code",
   "execution_count": 2,
   "metadata": {
    "ExecuteTime": {
     "end_time": "2019-10-31T23:36:28.652554Z",
     "start_time": "2019-10-31T23:36:27.180520Z"
    }
   },
   "outputs": [],
   "source": [
    "import pandas as pd\n",
    "import numpy as np\n",
    "import re\n",
    "from pathlib import Path\n",
    "\n",
    "import plotly.express as px\n",
    "pd.options.plotting.backend = 'plotly'\n",
    "\n",
    "from lec_utils import * \n",
    "# from save_data import * "
   ]
  },
  {
   "cell_type": "markdown",
   "metadata": {},
   "source": [
    "# Your Title Here\n",
    "\n",
    "**Name(s)**: Pheobe Yi and Omkar nayak \n",
    "\n",
    "**Website Link**: In progress "
   ]
  },
  {
   "cell_type": "markdown",
   "metadata": {},
   "source": [
    "## Step 1: Introduction"
   ]
  },
  {
   "cell_type": "code",
   "execution_count": null,
   "metadata": {},
   "outputs": [
    {
     "name": "stdout",
     "output_type": "stream",
     "text": [
      "Processing year 2012...\n",
      "[PosixPath('/Users/yipho/eecs398/portfolio/allyears/ICPSR_34861-2012')]\n",
      "Found Form 1 and Form 6 data for year 2012.\n",
      "Loaded Form 1 with shape: (14343, 163)\n",
      "Loaded Form 6 with shape: (2401, 309)\n",
      "Merged data shape: (2401, 471)\n",
      "Saved merged data for year 2012 to /Users/yipho/eecs398/portfolio/raw_data/ICPSR_data_2012.csv\n"
     ]
    }
   ],
   "source": [
    "base_path = Path(\"/Users/yipho/eecs398/portfolio/allyears\")\n",
    "output_path = Path(\"/Users/yipho/eecs398/portfolio/raw_data\") \n",
    "output_path.mkdir(parents=True, exist_ok=True) \n",
    "\n",
    "years_to_process = range(2000, 2024)\n",
    "\n",
    "def rename_case_id_to_respondent_id(df):\n",
    "    if \"RESPONDENT_ID\" in df.columns and \"CASEID\" not in df.columns:\n",
    "        df.rename(columns={\"RESPONDENT_ID\": \"CASEID\"}, inplace=True)\n",
    "    return df\n",
    "\n",
    "def load_and_save_icpsr_data(base_path, output_path, years_to_process):\n",
    "    for year in years_to_process:\n",
    "        icpsr_folders = list(base_path.glob(f\"ICPSR_*{year}\")) \n",
    "        print(icpsr_folders)\n",
    "\n",
    "        merged_data= []  \n",
    "\n",
    "        for folder in icpsr_folders:\n",
    "            study_number = folder.name.split(\"_\")[1].split(\"-\")[0]  \n",
    "\n",
    "            form1_path = folder / f\"DS0001/{study_number}-0001-Data.dta\"\n",
    "            form6_path = folder / f\"DS0006/{study_number}-0006-Data.dta\"\n",
    "\n",
    "            # Load and merge Form 1 and Form 6 if both exist\n",
    "            if form1_path.exists() and form6_path.exists():\n",
    "                print(f\"form 1 and form 2 exists for {year}\")\n",
    "                try:\n",
    "                    # Load Form 1\n",
    "                    df1 = pd.read_stata(form1_path)\n",
    "                    print(f\"form 1 shape: {df1.shape}\")\n",
    "                    df1 = rename_case_id_to_respondent_id(df1)\n",
    "\n",
    "                    # Load Form 6\n",
    "                    df6 = pd.read_stata(form6_path)\n",
    "                    print(f\"form 6 shape: {df6.shape}\")\n",
    "                    df6 = rename_case_id_to_respondent_id(df6)\n",
    "\n",
    "  \n",
    "                    if \"RESPONDENT_ID\" in df1.columns and \"RESPONDENT_ID\" in df6.columns:\n",
    "                        df_merged = df1.merge(df6, on=\"RESPONDENT_ID\", how=\"inner\")\n",
    "                        print(f\"merged data shape:{df_merged.shape}\")\n",
    "\n",
    "\n",
    "                        df_merged[\"Year\"] = year\n",
    "\n",
    "                        merged_data.append(df_merged)\n",
    "                    else:\n",
    "                        print(f\"'RESPONDENT_ID' column missing in Form 1 or Form 6 for year {year}. Skipping merge.\")\n",
    "                except Exception as e:\n",
    "                    print(f\"error processing form 1 and form 6 for {year}: {e}\")\n",
    "            else:\n",
    "                if not form1_path.exists():\n",
    "                    print(f\"form 1 data not found for year {year}: {form1_path}\")\n",
    "                if not form6_path.exists():\n",
    "                    print(f\"form 6 data not found for year {year}: {form6_path}\")\n",
    "\n",
    "        if merged_data:\n",
    "            year_df = pd.concat(merged_data, axis=0)  \n",
    "            output_file = output_path / f\"ICPSR_data_{year}.csv\"\n",
    "            year_df.to_csv(output_file, index=False)\n",
    "            print(f\"saved merged data for year {year} to {output_file}\")\n",
    "        else:\n",
    "            print(f\"no merged data found for year {year}.\")\n",
    "\n",
    "load_and_save_icpsr_data(base_path, output_path, years_to_process)\n",
    "# god bless Kerby Shedden "
   ]
  },
  {
   "cell_type": "markdown",
   "metadata": {},
   "source": [
    "## Step 2: Data Cleaning and Exploratory Data Analysis"
   ]
  },
  {
   "cell_type": "code",
   "execution_count": 26,
   "metadata": {},
   "outputs": [],
   "source": [
    "base_path = Path(\"/Users/yipho/eecs398/portfolio/raw_data\")\n",
    "output_path = Path(\"/Users/yipho/eecs398/portfolio/processed_data\") \n",
    "output_path.mkdir(parents=True, exist_ok=True)\n",
    "\n",
    "variable_mapping = {\n",
    "    \"POL_BELIEFS\": {\n",
    "        (2000, 2023): \"V5167\",\n",
    "    },\n",
    "    \"SEX\" : {\n",
    "        (2000, 2023): \"V2150\",\n",
    "    },\n",
    "    \"NUM_SIBS\": {\n",
    "        (2000, 2023): \"V49\",\n",
    "    }, \n",
    "    \"BR_SR_inhouse\": {\n",
    "        (2000, 2011): \"V157\",\n",
    "        (2012, 2023): \"V2157\",\n",
    "    },\n",
    "    \"FATHR_PRES\": {\n",
    "        (2000, 2011): \"V155\",\n",
    "        (2012, 2018): \"V7206\",\n",
    "        (2019, 2023): \"V5155\",\n",
    "    },\n",
    "    \"MOTHR_PRES\": {\n",
    "        (2000, 2011): \"V156\",\n",
    "        (2012, 2018): \"V7207\",\n",
    "        (2019, 2023): \"V5156\",\n",
    "    },\n",
    "    \"LONELY\": {\n",
    "        (2000, 2023): \"V5313\", \n",
    "    },\n",
    "    \"WISH_MORE_FRNDS\": {\n",
    "        (2000, 2023): \"V5321\",  \n",
    "    },\n",
    "    \"USLLY_FRNDS\": {\n",
    "        (2000, 2023): \"V5324\",  \n",
    "    },\n",
    "}\n",
    "\n",
    "def get_variable_for_year(variable_name, year):\n",
    "    for year_range, var in variable_mapping[variable_name].items():\n",
    "        if year_range[0] <= year <= year_range[1]:\n",
    "            return var\n",
    "    return None\n",
    "\n",
    "def rename_variables(df, year):\n",
    "    renamed_columns = {}\n",
    "\n",
    "    for logic_name, year_mapping in variable_mapping.items():\n",
    "        column_name = get_variable_for_year(logic_name, year)\n",
    "        if column_name and column_name in df.columns:\n",
    "            renamed_columns[column_name] = logic_name\n",
    "\n",
    "    df = df.rename(columns=renamed_columns)\n",
    "    print(f\"Renamed columns for year {year}: {renamed_columns}\")\n",
    "    return df\n",
    "\n",
    "def clean_and_process_data(df, year):\n",
    "    df = rename_variables(df, year)\n",
    "\n",
    "    cols_interest = [\n",
    "        \"RESPONDENT_ID\",\n",
    "        \"V1_x\", \n",
    "        \"SEX\",  \n",
    "        \"POL_BELIEFS\",  \n",
    "        \"NUM_SIBS\", \n",
    "        \"BR_SR_inhouse\", \n",
    "        \"FATHR_PRES\",  \n",
    "        \"MOTHR_PRES\",  \n",
    "        \"LONELY\",  \n",
    "        \"WISH_MORE_FRNDS\",  \n",
    "        \"USLLY_FRNDS\", \n",
    "    ]\n",
    "\n",
    "    cols_interest = [col for col in cols_interest if col in df.columns]  \n",
    "    dfmain = df[cols_interest]\n",
    "\n",
    "    # Clean variables where needed\n",
    "    cols_clean = [\"NUM_SIBS\", \"SEX\", \"POL_BELIEFS\", \"BR_SR_inhouse\", \"FATHR_PRES\", \"MOTHR_PRES\", \"LONELY\", \"WISH_MORE_FRNDS\", \"USLLY_FRNDS\"]\n",
    "    cols_clean = [col for col in cols_clean if col in df.columns]\n",
    "\n",
    "\n",
    "    def extract_number(column):\n",
    "        pattern = r\".+:\\s*\\((\\d+)\\)\"\n",
    "        return column.apply(lambda x: int(re.match(pattern, str(x)).group(1)) if re.match(pattern, str(x)) else None)\n",
    "    \n",
    "    for col in cols_clean:\n",
    "        dfmain[col] = extract_number(dfmain[col])\n",
    "    \n",
    "    # Drop invalid values for POL_BELIEFS (V5167)\n",
    "    if \"POL_BELIEFS\" in dfmain.columns:\n",
    "        dfmain = dfmain[dfmain[\"POL_BELIEFS\"].isin([6, 8, -9]) == False]\n",
    "        dfmain = dfmain.dropna(subset=[\"POL_BELIEFS\"])\n",
    "        # Rescale to start from 0\n",
    "        dfmain[\"POL_BELIEFS\"] = dfmain[\"POL_BELIEFS\"] - 1  \n",
    "    \n",
    "    # Drop invalid values for SEX (V2150)\n",
    "    if \"SEX\" in dfmain.columns:\n",
    "        dfmain = dfmain[dfmain[\"SEX\"].isin([-9, 3, 4]) == False]\n",
    "        dfmain = dfmain.dropna(subset=[\"SEX\"])\n",
    "         # 0 for male, 1 for female\n",
    "        dfmain[\"SEX\"] = dfmain[\"SEX\"] - 1 \n",
    "\n",
    "    return dfmain\n",
    "\n",
    "# Process each CSV file based on year\n",
    "def process_raw_data(base_path, output_path):\n",
    "    for csv_file in base_path.glob(\"ICPSR_data_2014.csv\"):\n",
    "        try:\n",
    "            # Extract year from file name\n",
    "            year = int(csv_file.stem.split(\"_\")[-1])\n",
    "            print(f\"Processing file for year {year}: {csv_file}\")\n",
    "\n",
    "            # Load data\n",
    "            df = pd.read_csv(csv_file)\n",
    "            print(f\"Loaded data with shape: {df.shape}\")\n",
    "\n",
    "            # Process data\n",
    "            df_processed = clean_and_process_data(df, year)\n",
    "            print(f\"Processed data shape: {df_processed.shape}\")\n",
    "\n",
    "            # Save processed data\n",
    "            output_file = output_path / f\"data_{year}.csv\"\n",
    "            df_processed.to_csv(output_file, index=False)\n",
    "            print(f\"Saved processed data for year {year} to {output_file}\")\n",
    "\n",
    "        except Exception as e:\n",
    "            print(f\"Error processing file {csv_file}: {e}\")\n",
    "\n",
    "\n",
    "process_raw_data(base_path, output_path)"
   ]
  },
  {
   "cell_type": "code",
   "execution_count": null,
   "metadata": {},
   "outputs": [
    {
     "data": {
      "text/html": [
       "<div>\n",
       "<style scoped>\n",
       "    .dataframe tbody tr th:only-of-type {\n",
       "        vertical-align: middle;\n",
       "    }\n",
       "\n",
       "    .dataframe tbody tr th {\n",
       "        vertical-align: top;\n",
       "    }\n",
       "\n",
       "    .dataframe thead th {\n",
       "        text-align: right;\n",
       "    }\n",
       "</style>\n",
       "<table border=\"1\" class=\"dataframe\">\n",
       "  <thead>\n",
       "    <tr style=\"text-align: right;\">\n",
       "      <th></th>\n",
       "      <th>RESPONDENT_ID</th>\n",
       "      <th>V1_x</th>\n",
       "      <th>SEX</th>\n",
       "      <th>POL_BELIEFS</th>\n",
       "      <th>...</th>\n",
       "      <th>MOTHR_PRES</th>\n",
       "      <th>LONELY</th>\n",
       "      <th>WISH_MORE_FRNDS</th>\n",
       "      <th>USLLY_FRNDS</th>\n",
       "    </tr>\n",
       "  </thead>\n",
       "  <tbody>\n",
       "    <tr>\n",
       "      <th>0</th>\n",
       "      <td>50001</td>\n",
       "      <td>2023</td>\n",
       "      <td>1.0</td>\n",
       "      <td>3.0</td>\n",
       "      <td>...</td>\n",
       "      <td>1.0</td>\n",
       "      <td>5.0</td>\n",
       "      <td>5.0</td>\n",
       "      <td>4.0</td>\n",
       "    </tr>\n",
       "    <tr>\n",
       "      <th>1</th>\n",
       "      <td>50002</td>\n",
       "      <td>2023</td>\n",
       "      <td>1.0</td>\n",
       "      <td>4.0</td>\n",
       "      <td>...</td>\n",
       "      <td>1.0</td>\n",
       "      <td>5.0</td>\n",
       "      <td>4.0</td>\n",
       "      <td>4.0</td>\n",
       "    </tr>\n",
       "    <tr>\n",
       "      <th>2</th>\n",
       "      <td>50005</td>\n",
       "      <td>2023</td>\n",
       "      <td>0.0</td>\n",
       "      <td>0.0</td>\n",
       "      <td>...</td>\n",
       "      <td>1.0</td>\n",
       "      <td>3.0</td>\n",
       "      <td>1.0</td>\n",
       "      <td>1.0</td>\n",
       "    </tr>\n",
       "    <tr>\n",
       "      <th>3</th>\n",
       "      <td>50006</td>\n",
       "      <td>2023</td>\n",
       "      <td>1.0</td>\n",
       "      <td>2.0</td>\n",
       "      <td>...</td>\n",
       "      <td>1.0</td>\n",
       "      <td>4.0</td>\n",
       "      <td>3.0</td>\n",
       "      <td>4.0</td>\n",
       "    </tr>\n",
       "    <tr>\n",
       "      <th>4</th>\n",
       "      <td>50007</td>\n",
       "      <td>2023</td>\n",
       "      <td>0.0</td>\n",
       "      <td>0.0</td>\n",
       "      <td>...</td>\n",
       "      <td>1.0</td>\n",
       "      <td>5.0</td>\n",
       "      <td>1.0</td>\n",
       "      <td>5.0</td>\n",
       "    </tr>\n",
       "  </tbody>\n",
       "</table>\n",
       "<p>5 rows × 10 columns</p>\n",
       "</div>"
      ],
      "text/plain": [
       "   RESPONDENT_ID  V1_x  SEX  POL_BELIEFS  ...  MOTHR_PRES  LONELY  \\\n",
       "0          50001  2023  1.0          3.0  ...         1.0     5.0   \n",
       "1          50002  2023  1.0          4.0  ...         1.0     5.0   \n",
       "2          50005  2023  0.0          0.0  ...         1.0     3.0   \n",
       "3          50006  2023  1.0          2.0  ...         1.0     4.0   \n",
       "4          50007  2023  0.0          0.0  ...         1.0     5.0   \n",
       "\n",
       "   WISH_MORE_FRNDS  USLLY_FRNDS  \n",
       "0              5.0          4.0  \n",
       "1              4.0          4.0  \n",
       "2              1.0          1.0  \n",
       "3              3.0          4.0  \n",
       "4              1.0          5.0  \n",
       "\n",
       "[5 rows x 10 columns]"
      ]
     },
     "execution_count": 27,
     "metadata": {},
     "output_type": "execute_result"
    }
   ],
   "source": [
    "\n"
   ]
  },
  {
   "cell_type": "code",
   "execution_count": 4,
   "metadata": {},
   "outputs": [],
   "source": [
    "dfcat = pd.read_csv(\"raw_data/ICPSR_data_2023.csv\")"
   ]
  },
  {
   "cell_type": "code",
   "execution_count": 5,
   "metadata": {
    "ExecuteTime": {
     "end_time": "2019-10-31T23:36:28.662099Z",
     "start_time": "2019-10-31T23:36:28.660016Z"
    }
   },
   "outputs": [
    {
     "data": {
      "text/html": [
       "<div>\n",
       "<style scoped>\n",
       "    .dataframe tbody tr th:only-of-type {\n",
       "        vertical-align: middle;\n",
       "    }\n",
       "\n",
       "    .dataframe tbody tr th {\n",
       "        vertical-align: top;\n",
       "    }\n",
       "\n",
       "    .dataframe thead th {\n",
       "        text-align: right;\n",
       "    }\n",
       "</style>\n",
       "<table border=\"1\" class=\"dataframe\">\n",
       "  <thead>\n",
       "    <tr style=\"text-align: right;\">\n",
       "      <th></th>\n",
       "      <th>RESPONDENT_ID</th>\n",
       "      <th>V1_x</th>\n",
       "      <th>V2150</th>\n",
       "      <th>V49_x</th>\n",
       "      <th>...</th>\n",
       "      <th>V2155</th>\n",
       "      <th>V2156</th>\n",
       "      <th>V5313</th>\n",
       "      <th>V5321</th>\n",
       "    </tr>\n",
       "  </thead>\n",
       "  <tbody>\n",
       "    <tr>\n",
       "      <th>0</th>\n",
       "      <td>50001</td>\n",
       "      <td>2023</td>\n",
       "      <td>FEMALE:(2)</td>\n",
       "      <td>THREE+:(3)</td>\n",
       "      <td>...</td>\n",
       "      <td>MARKED:(1)</td>\n",
       "      <td>MARKED:(1)</td>\n",
       "      <td>AGREE:(5)</td>\n",
       "      <td>AGREE:(5)</td>\n",
       "    </tr>\n",
       "    <tr>\n",
       "      <th>1</th>\n",
       "      <td>50002</td>\n",
       "      <td>2023</td>\n",
       "      <td>FEMALE:(2)</td>\n",
       "      <td>THREE+:(3)</td>\n",
       "      <td>...</td>\n",
       "      <td>NT MARKD:(0)</td>\n",
       "      <td>MARKED:(1)</td>\n",
       "      <td>AGREE:(5)</td>\n",
       "      <td>MOST AGR:(4)</td>\n",
       "    </tr>\n",
       "    <tr>\n",
       "      <th>2</th>\n",
       "      <td>50003</td>\n",
       "      <td>2023</td>\n",
       "      <td>MALE:(1)</td>\n",
       "      <td>TWO:(2)</td>\n",
       "      <td>...</td>\n",
       "      <td>NT MARKD:(0)</td>\n",
       "      <td>MARKED:(1)</td>\n",
       "      <td>AGREE:(5)</td>\n",
       "      <td>AGREE:(5)</td>\n",
       "    </tr>\n",
       "    <tr>\n",
       "      <th>3</th>\n",
       "      <td>50004</td>\n",
       "      <td>2023</td>\n",
       "      <td>MALE:(1)</td>\n",
       "      <td>TWO:(2)</td>\n",
       "      <td>...</td>\n",
       "      <td>MARKED:(1)</td>\n",
       "      <td>MARKED:(1)</td>\n",
       "      <td>MOST AGR:(4)</td>\n",
       "      <td>DISAGREE:(1)</td>\n",
       "    </tr>\n",
       "    <tr>\n",
       "      <th>4</th>\n",
       "      <td>50005</td>\n",
       "      <td>2023</td>\n",
       "      <td>MALE:(1)</td>\n",
       "      <td>THREE+:(3)</td>\n",
       "      <td>...</td>\n",
       "      <td>MARKED:(1)</td>\n",
       "      <td>MARKED:(1)</td>\n",
       "      <td>NEITHER:(3)</td>\n",
       "      <td>DISAGREE:(1)</td>\n",
       "    </tr>\n",
       "  </tbody>\n",
       "</table>\n",
       "<p>5 rows × 10 columns</p>\n",
       "</div>"
      ],
      "text/plain": [
       "   RESPONDENT_ID  V1_x       V2150       V49_x  ...         V2155       V2156  \\\n",
       "0          50001  2023  FEMALE:(2)  THREE+:(3)  ...    MARKED:(1)  MARKED:(1)   \n",
       "1          50002  2023  FEMALE:(2)  THREE+:(3)  ...  NT MARKD:(0)  MARKED:(1)   \n",
       "2          50003  2023    MALE:(1)     TWO:(2)  ...  NT MARKD:(0)  MARKED:(1)   \n",
       "3          50004  2023    MALE:(1)     TWO:(2)  ...    MARKED:(1)  MARKED:(1)   \n",
       "4          50005  2023    MALE:(1)  THREE+:(3)  ...    MARKED:(1)  MARKED:(1)   \n",
       "\n",
       "          V5313         V5321  \n",
       "0     AGREE:(5)     AGREE:(5)  \n",
       "1     AGREE:(5)  MOST AGR:(4)  \n",
       "2     AGREE:(5)     AGREE:(5)  \n",
       "3  MOST AGR:(4)  DISAGREE:(1)  \n",
       "4   NEITHER:(3)  DISAGREE:(1)  \n",
       "\n",
       "[5 rows x 10 columns]"
      ]
     },
     "execution_count": 5,
     "metadata": {},
     "output_type": "execute_result"
    }
   ],
   "source": [
    "cols_interest = ['RESPONDENT_ID', 'V1_x', 'V2150','V49_x', 'V2167', 'V2157', 'V2155', 'V2156', 'V5313', 'V5321']\n",
    "dfmain = dfcat[cols_interest]\n",
    "dfmain.head()"
   ]
  },
  {
   "cell_type": "code",
   "execution_count": 16,
   "metadata": {},
   "outputs": [],
   "source": [
    "cols_clean = ['V49_x','V2150', 'V2167', 'V2157', 'V2155', 'V2156', 'V5313', 'V5321']\n",
    "\n",
    "def extract_number(column):\n",
    "    pattern = r\".+:\\s*\\((\\d+)\\)\"\n",
    "    return column.apply(lambda x: int(re.match(pattern, str(x)).group(1)) if re.match(pattern, str(x)) else None)"
   ]
  },
  {
   "cell_type": "code",
   "execution_count": 17,
   "metadata": {},
   "outputs": [
    {
     "data": {
      "text/html": [
       "<div>\n",
       "<style scoped>\n",
       "    .dataframe tbody tr th:only-of-type {\n",
       "        vertical-align: middle;\n",
       "    }\n",
       "\n",
       "    .dataframe tbody tr th {\n",
       "        vertical-align: top;\n",
       "    }\n",
       "\n",
       "    .dataframe thead th {\n",
       "        text-align: right;\n",
       "    }\n",
       "</style>\n",
       "<table border=\"1\" class=\"dataframe\">\n",
       "  <thead>\n",
       "    <tr style=\"text-align: right;\">\n",
       "      <th></th>\n",
       "      <th>RESPONDENT_ID</th>\n",
       "      <th>V1_x</th>\n",
       "      <th>V2150</th>\n",
       "      <th>V49_x</th>\n",
       "      <th>...</th>\n",
       "      <th>V2155</th>\n",
       "      <th>V2156</th>\n",
       "      <th>V5313</th>\n",
       "      <th>V5321</th>\n",
       "    </tr>\n",
       "  </thead>\n",
       "  <tbody>\n",
       "    <tr>\n",
       "      <th>0</th>\n",
       "      <td>50001</td>\n",
       "      <td>2020</td>\n",
       "      <td>1.0</td>\n",
       "      <td>NaN</td>\n",
       "      <td>...</td>\n",
       "      <td>1.0</td>\n",
       "      <td>1.0</td>\n",
       "      <td>2.0</td>\n",
       "      <td>NaN</td>\n",
       "    </tr>\n",
       "    <tr>\n",
       "      <th>1</th>\n",
       "      <td>50002</td>\n",
       "      <td>2020</td>\n",
       "      <td>NaN</td>\n",
       "      <td>NaN</td>\n",
       "      <td>...</td>\n",
       "      <td>NaN</td>\n",
       "      <td>NaN</td>\n",
       "      <td>NaN</td>\n",
       "      <td>NaN</td>\n",
       "    </tr>\n",
       "    <tr>\n",
       "      <th>2</th>\n",
       "      <td>50003</td>\n",
       "      <td>2020</td>\n",
       "      <td>NaN</td>\n",
       "      <td>NaN</td>\n",
       "      <td>...</td>\n",
       "      <td>NaN</td>\n",
       "      <td>NaN</td>\n",
       "      <td>NaN</td>\n",
       "      <td>NaN</td>\n",
       "    </tr>\n",
       "    <tr>\n",
       "      <th>3</th>\n",
       "      <td>50004</td>\n",
       "      <td>2020</td>\n",
       "      <td>1.0</td>\n",
       "      <td>NaN</td>\n",
       "      <td>...</td>\n",
       "      <td>1.0</td>\n",
       "      <td>1.0</td>\n",
       "      <td>NaN</td>\n",
       "      <td>NaN</td>\n",
       "    </tr>\n",
       "    <tr>\n",
       "      <th>4</th>\n",
       "      <td>50005</td>\n",
       "      <td>2020</td>\n",
       "      <td>2.0</td>\n",
       "      <td>1.0</td>\n",
       "      <td>...</td>\n",
       "      <td>0.0</td>\n",
       "      <td>1.0</td>\n",
       "      <td>5.0</td>\n",
       "      <td>1.0</td>\n",
       "    </tr>\n",
       "  </tbody>\n",
       "</table>\n",
       "<p>5 rows × 10 columns</p>\n",
       "</div>"
      ],
      "text/plain": [
       "   RESPONDENT_ID  V1_x  V2150  V49_x  ...  V2155  V2156  V5313  V5321\n",
       "0          50001  2020    1.0    NaN  ...    1.0    1.0    2.0    NaN\n",
       "1          50002  2020    NaN    NaN  ...    NaN    NaN    NaN    NaN\n",
       "2          50003  2020    NaN    NaN  ...    NaN    NaN    NaN    NaN\n",
       "3          50004  2020    1.0    NaN  ...    1.0    1.0    NaN    NaN\n",
       "4          50005  2020    2.0    1.0  ...    0.0    1.0    5.0    1.0\n",
       "\n",
       "[5 rows x 10 columns]"
      ]
     },
     "execution_count": 17,
     "metadata": {},
     "output_type": "execute_result"
    }
   ],
   "source": [
    "for col in cols_clean:\n",
    "    dfmain[col] = extract_number(dfcat[col])\n",
    "\n",
    "dfmain.head()"
   ]
  },
  {
   "cell_type": "code",
   "execution_count": 18,
   "metadata": {},
   "outputs": [],
   "source": [
    "#drop 6,8,-9 for 2167 Pol leaning \n",
    "dfmain = dfmain[dfmain['V2167'] != 6]\n",
    "dfmain = dfmain[dfmain['V2167'] != 8]\n",
    "dfmain = dfmain[dfmain['V2167'] != -9]\n",
    "#drop nan\n",
    "dfmain = dfmain.dropna(subset=['V2167'])\n",
    "#rescale and regularize \n",
    "dfmain['V2167'] = dfmain['V2167'] - 1"
   ]
  },
  {
   "cell_type": "code",
   "execution_count": 19,
   "metadata": {},
   "outputs": [
    {
     "data": {
      "text/plain": [
       "V2150\n",
       "1.0    211\n",
       "0.0    140\n",
       "Name: count, dtype: int64"
      ]
     },
     "execution_count": 19,
     "metadata": {},
     "output_type": "execute_result"
    }
   ],
   "source": [
    "# for sex, drop -9, 3 and 4 (missing other and refused to answer)\n",
    "dfmain = dfmain[dfmain['V2150'] != -9]\n",
    "dfmain = dfmain[dfmain['V2150'] != 4]\n",
    "dfmain = dfmain[dfmain['V2150'] != 3]\n",
    "\n",
    "dfmain = dfmain.dropna(subset=['V2150'])\n",
    "\n",
    "dfmain['V2150'] = dfmain['V2150'] - 1\n",
    "# 0 for male, 1 for female now \n",
    "dfmain['V2150'].value_counts()"
   ]
  },
  {
   "cell_type": "code",
   "execution_count": 20,
   "metadata": {},
   "outputs": [
    {
     "data": {
      "application/vnd.plotly.v1+json": {
       "config": {
        "plotlyServerURL": "https://plot.ly"
       },
       "data": [
        {
         "alignmentgroup": "True",
         "hovertemplate": "Political Beliefs=%{x}<br>Count=%{y}<br>color=%{marker.color}<extra></extra>",
         "legendgroup": "",
         "marker": {
          "color": [
           0,
           1,
           2,
           3,
           4
          ],
          "coloraxis": "coloraxis",
          "pattern": {
           "shape": ""
          }
         },
         "name": "",
         "offsetgroup": "",
         "orientation": "v",
         "showlegend": false,
         "textposition": "auto",
         "type": "bar",
         "x": [
          0,
          1,
          2,
          3,
          4
         ],
         "xaxis": "x",
         "y": [
          34,
          79,
          118,
          87,
          33
         ],
         "yaxis": "y"
        }
       ],
       "layout": {
        "barmode": "relative",
        "coloraxis": {
         "colorbar": {
          "title": {
           "text": "color"
          }
         },
         "colorscale": [
          [
           0,
           "#440154"
          ],
          [
           0.1111111111111111,
           "#482878"
          ],
          [
           0.2222222222222222,
           "#3e4989"
          ],
          [
           0.3333333333333333,
           "#31688e"
          ],
          [
           0.4444444444444444,
           "#26828e"
          ],
          [
           0.5555555555555556,
           "#1f9e89"
          ],
          [
           0.6666666666666666,
           "#35b779"
          ],
          [
           0.7777777777777778,
           "#6ece58"
          ],
          [
           0.8888888888888888,
           "#b5de2b"
          ],
          [
           1,
           "#fde725"
          ]
         ]
        },
        "legend": {
         "tracegroupgap": 0
        },
        "template": {
         "data": {
          "bar": [
           {
            "error_x": {
             "color": "rgb(36,36,36)"
            },
            "error_y": {
             "color": "rgb(36,36,36)"
            },
            "marker": {
             "line": {
              "color": "white",
              "width": 0.5
             },
             "pattern": {
              "fillmode": "overlay",
              "size": 10,
              "solidity": 0.2
             }
            },
            "type": "bar"
           }
          ],
          "barpolar": [
           {
            "marker": {
             "line": {
              "color": "white",
              "width": 0.5
             },
             "pattern": {
              "fillmode": "overlay",
              "size": 10,
              "solidity": 0.2
             }
            },
            "type": "barpolar"
           }
          ],
          "carpet": [
           {
            "aaxis": {
             "endlinecolor": "rgb(36,36,36)",
             "gridcolor": "white",
             "linecolor": "white",
             "minorgridcolor": "white",
             "startlinecolor": "rgb(36,36,36)"
            },
            "baxis": {
             "endlinecolor": "rgb(36,36,36)",
             "gridcolor": "white",
             "linecolor": "white",
             "minorgridcolor": "white",
             "startlinecolor": "rgb(36,36,36)"
            },
            "type": "carpet"
           }
          ],
          "choropleth": [
           {
            "colorbar": {
             "outlinewidth": 1,
             "tickcolor": "rgb(36,36,36)",
             "ticks": "outside"
            },
            "type": "choropleth"
           }
          ],
          "contour": [
           {
            "colorbar": {
             "outlinewidth": 1,
             "tickcolor": "rgb(36,36,36)",
             "ticks": "outside"
            },
            "colorscale": [
             [
              0,
              "#440154"
             ],
             [
              0.1111111111111111,
              "#482878"
             ],
             [
              0.2222222222222222,
              "#3e4989"
             ],
             [
              0.3333333333333333,
              "#31688e"
             ],
             [
              0.4444444444444444,
              "#26828e"
             ],
             [
              0.5555555555555556,
              "#1f9e89"
             ],
             [
              0.6666666666666666,
              "#35b779"
             ],
             [
              0.7777777777777778,
              "#6ece58"
             ],
             [
              0.8888888888888888,
              "#b5de2b"
             ],
             [
              1,
              "#fde725"
             ]
            ],
            "type": "contour"
           }
          ],
          "contourcarpet": [
           {
            "colorbar": {
             "outlinewidth": 1,
             "tickcolor": "rgb(36,36,36)",
             "ticks": "outside"
            },
            "type": "contourcarpet"
           }
          ],
          "heatmap": [
           {
            "colorbar": {
             "outlinewidth": 1,
             "tickcolor": "rgb(36,36,36)",
             "ticks": "outside"
            },
            "colorscale": [
             [
              0,
              "#440154"
             ],
             [
              0.1111111111111111,
              "#482878"
             ],
             [
              0.2222222222222222,
              "#3e4989"
             ],
             [
              0.3333333333333333,
              "#31688e"
             ],
             [
              0.4444444444444444,
              "#26828e"
             ],
             [
              0.5555555555555556,
              "#1f9e89"
             ],
             [
              0.6666666666666666,
              "#35b779"
             ],
             [
              0.7777777777777778,
              "#6ece58"
             ],
             [
              0.8888888888888888,
              "#b5de2b"
             ],
             [
              1,
              "#fde725"
             ]
            ],
            "type": "heatmap"
           }
          ],
          "heatmapgl": [
           {
            "colorbar": {
             "outlinewidth": 1,
             "tickcolor": "rgb(36,36,36)",
             "ticks": "outside"
            },
            "colorscale": [
             [
              0,
              "#440154"
             ],
             [
              0.1111111111111111,
              "#482878"
             ],
             [
              0.2222222222222222,
              "#3e4989"
             ],
             [
              0.3333333333333333,
              "#31688e"
             ],
             [
              0.4444444444444444,
              "#26828e"
             ],
             [
              0.5555555555555556,
              "#1f9e89"
             ],
             [
              0.6666666666666666,
              "#35b779"
             ],
             [
              0.7777777777777778,
              "#6ece58"
             ],
             [
              0.8888888888888888,
              "#b5de2b"
             ],
             [
              1,
              "#fde725"
             ]
            ],
            "type": "heatmapgl"
           }
          ],
          "histogram": [
           {
            "marker": {
             "line": {
              "color": "white",
              "width": 0.6
             }
            },
            "type": "histogram"
           }
          ],
          "histogram2d": [
           {
            "colorbar": {
             "outlinewidth": 1,
             "tickcolor": "rgb(36,36,36)",
             "ticks": "outside"
            },
            "colorscale": [
             [
              0,
              "#440154"
             ],
             [
              0.1111111111111111,
              "#482878"
             ],
             [
              0.2222222222222222,
              "#3e4989"
             ],
             [
              0.3333333333333333,
              "#31688e"
             ],
             [
              0.4444444444444444,
              "#26828e"
             ],
             [
              0.5555555555555556,
              "#1f9e89"
             ],
             [
              0.6666666666666666,
              "#35b779"
             ],
             [
              0.7777777777777778,
              "#6ece58"
             ],
             [
              0.8888888888888888,
              "#b5de2b"
             ],
             [
              1,
              "#fde725"
             ]
            ],
            "type": "histogram2d"
           }
          ],
          "histogram2dcontour": [
           {
            "colorbar": {
             "outlinewidth": 1,
             "tickcolor": "rgb(36,36,36)",
             "ticks": "outside"
            },
            "colorscale": [
             [
              0,
              "#440154"
             ],
             [
              0.1111111111111111,
              "#482878"
             ],
             [
              0.2222222222222222,
              "#3e4989"
             ],
             [
              0.3333333333333333,
              "#31688e"
             ],
             [
              0.4444444444444444,
              "#26828e"
             ],
             [
              0.5555555555555556,
              "#1f9e89"
             ],
             [
              0.6666666666666666,
              "#35b779"
             ],
             [
              0.7777777777777778,
              "#6ece58"
             ],
             [
              0.8888888888888888,
              "#b5de2b"
             ],
             [
              1,
              "#fde725"
             ]
            ],
            "type": "histogram2dcontour"
           }
          ],
          "mesh3d": [
           {
            "colorbar": {
             "outlinewidth": 1,
             "tickcolor": "rgb(36,36,36)",
             "ticks": "outside"
            },
            "type": "mesh3d"
           }
          ],
          "parcoords": [
           {
            "line": {
             "colorbar": {
              "outlinewidth": 1,
              "tickcolor": "rgb(36,36,36)",
              "ticks": "outside"
             }
            },
            "type": "parcoords"
           }
          ],
          "pie": [
           {
            "automargin": true,
            "type": "pie"
           }
          ],
          "scatter": [
           {
            "fillpattern": {
             "fillmode": "overlay",
             "size": 10,
             "solidity": 0.2
            },
            "type": "scatter"
           }
          ],
          "scatter3d": [
           {
            "line": {
             "colorbar": {
              "outlinewidth": 1,
              "tickcolor": "rgb(36,36,36)",
              "ticks": "outside"
             }
            },
            "marker": {
             "colorbar": {
              "outlinewidth": 1,
              "tickcolor": "rgb(36,36,36)",
              "ticks": "outside"
             }
            },
            "type": "scatter3d"
           }
          ],
          "scattercarpet": [
           {
            "marker": {
             "colorbar": {
              "outlinewidth": 1,
              "tickcolor": "rgb(36,36,36)",
              "ticks": "outside"
             }
            },
            "type": "scattercarpet"
           }
          ],
          "scattergeo": [
           {
            "marker": {
             "colorbar": {
              "outlinewidth": 1,
              "tickcolor": "rgb(36,36,36)",
              "ticks": "outside"
             }
            },
            "type": "scattergeo"
           }
          ],
          "scattergl": [
           {
            "marker": {
             "colorbar": {
              "outlinewidth": 1,
              "tickcolor": "rgb(36,36,36)",
              "ticks": "outside"
             }
            },
            "type": "scattergl"
           }
          ],
          "scattermapbox": [
           {
            "marker": {
             "colorbar": {
              "outlinewidth": 1,
              "tickcolor": "rgb(36,36,36)",
              "ticks": "outside"
             }
            },
            "type": "scattermapbox"
           }
          ],
          "scatterpolar": [
           {
            "marker": {
             "colorbar": {
              "outlinewidth": 1,
              "tickcolor": "rgb(36,36,36)",
              "ticks": "outside"
             }
            },
            "type": "scatterpolar"
           }
          ],
          "scatterpolargl": [
           {
            "marker": {
             "colorbar": {
              "outlinewidth": 1,
              "tickcolor": "rgb(36,36,36)",
              "ticks": "outside"
             }
            },
            "type": "scatterpolargl"
           }
          ],
          "scatterternary": [
           {
            "marker": {
             "colorbar": {
              "outlinewidth": 1,
              "tickcolor": "rgb(36,36,36)",
              "ticks": "outside"
             }
            },
            "type": "scatterternary"
           }
          ],
          "surface": [
           {
            "colorbar": {
             "outlinewidth": 1,
             "tickcolor": "rgb(36,36,36)",
             "ticks": "outside"
            },
            "colorscale": [
             [
              0,
              "#440154"
             ],
             [
              0.1111111111111111,
              "#482878"
             ],
             [
              0.2222222222222222,
              "#3e4989"
             ],
             [
              0.3333333333333333,
              "#31688e"
             ],
             [
              0.4444444444444444,
              "#26828e"
             ],
             [
              0.5555555555555556,
              "#1f9e89"
             ],
             [
              0.6666666666666666,
              "#35b779"
             ],
             [
              0.7777777777777778,
              "#6ece58"
             ],
             [
              0.8888888888888888,
              "#b5de2b"
             ],
             [
              1,
              "#fde725"
             ]
            ],
            "type": "surface"
           }
          ],
          "table": [
           {
            "cells": {
             "fill": {
              "color": "rgb(237,237,237)"
             },
             "line": {
              "color": "white"
             }
            },
            "header": {
             "fill": {
              "color": "rgb(217,217,217)"
             },
             "line": {
              "color": "white"
             }
            },
            "type": "table"
           }
          ]
         },
         "layout": {
          "annotationdefaults": {
           "arrowhead": 0,
           "arrowwidth": 1
          },
          "autosize": true,
          "autotypenumbers": "strict",
          "coloraxis": {
           "colorbar": {
            "outlinewidth": 1,
            "tickcolor": "rgb(36,36,36)",
            "ticks": "outside"
           }
          },
          "colorscale": {
           "diverging": [
            [
             0,
             "rgb(103,0,31)"
            ],
            [
             0.1,
             "rgb(178,24,43)"
            ],
            [
             0.2,
             "rgb(214,96,77)"
            ],
            [
             0.3,
             "rgb(244,165,130)"
            ],
            [
             0.4,
             "rgb(253,219,199)"
            ],
            [
             0.5,
             "rgb(247,247,247)"
            ],
            [
             0.6,
             "rgb(209,229,240)"
            ],
            [
             0.7,
             "rgb(146,197,222)"
            ],
            [
             0.8,
             "rgb(67,147,195)"
            ],
            [
             0.9,
             "rgb(33,102,172)"
            ],
            [
             1,
             "rgb(5,48,97)"
            ]
           ],
           "sequential": [
            [
             0,
             "#440154"
            ],
            [
             0.1111111111111111,
             "#482878"
            ],
            [
             0.2222222222222222,
             "#3e4989"
            ],
            [
             0.3333333333333333,
             "#31688e"
            ],
            [
             0.4444444444444444,
             "#26828e"
            ],
            [
             0.5555555555555556,
             "#1f9e89"
            ],
            [
             0.6666666666666666,
             "#35b779"
            ],
            [
             0.7777777777777778,
             "#6ece58"
            ],
            [
             0.8888888888888888,
             "#b5de2b"
            ],
            [
             1,
             "#fde725"
            ]
           ],
           "sequentialminus": [
            [
             0,
             "#440154"
            ],
            [
             0.1111111111111111,
             "#482878"
            ],
            [
             0.2222222222222222,
             "#3e4989"
            ],
            [
             0.3333333333333333,
             "#31688e"
            ],
            [
             0.4444444444444444,
             "#26828e"
            ],
            [
             0.5555555555555556,
             "#1f9e89"
            ],
            [
             0.6666666666666666,
             "#35b779"
            ],
            [
             0.7777777777777778,
             "#6ece58"
            ],
            [
             0.8888888888888888,
             "#b5de2b"
            ],
            [
             1,
             "#fde725"
            ]
           ]
          },
          "colorway": [
           "#1F77B4",
           "#FF7F0E",
           "#2CA02C",
           "#D62728",
           "#9467BD",
           "#8C564B",
           "#E377C2",
           "#7F7F7F",
           "#BCBD22",
           "#17BECF"
          ],
          "font": {
           "color": "rgb(36,36,36)"
          },
          "geo": {
           "bgcolor": "white",
           "lakecolor": "white",
           "landcolor": "white",
           "showlakes": true,
           "showland": true,
           "subunitcolor": "white"
          },
          "height": 400,
          "hoverlabel": {
           "align": "left"
          },
          "hovermode": "closest",
          "mapbox": {
           "style": "light"
          },
          "margin": {
           "b": 30,
           "l": 30,
           "r": 30,
           "t": 30
          },
          "paper_bgcolor": "white",
          "plot_bgcolor": "white",
          "polar": {
           "angularaxis": {
            "gridcolor": "rgb(232,232,232)",
            "linecolor": "rgb(36,36,36)",
            "showgrid": false,
            "showline": true,
            "ticks": "outside"
           },
           "bgcolor": "white",
           "radialaxis": {
            "gridcolor": "rgb(232,232,232)",
            "linecolor": "rgb(36,36,36)",
            "showgrid": false,
            "showline": true,
            "ticks": "outside"
           }
          },
          "scene": {
           "xaxis": {
            "backgroundcolor": "white",
            "gridcolor": "rgb(232,232,232)",
            "gridwidth": 2,
            "linecolor": "rgb(36,36,36)",
            "showbackground": true,
            "showgrid": false,
            "showline": true,
            "ticks": "outside",
            "zeroline": false,
            "zerolinecolor": "rgb(36,36,36)"
           },
           "yaxis": {
            "backgroundcolor": "white",
            "gridcolor": "rgb(232,232,232)",
            "gridwidth": 2,
            "linecolor": "rgb(36,36,36)",
            "showbackground": true,
            "showgrid": false,
            "showline": true,
            "ticks": "outside",
            "zeroline": false,
            "zerolinecolor": "rgb(36,36,36)"
           },
           "zaxis": {
            "backgroundcolor": "white",
            "gridcolor": "rgb(232,232,232)",
            "gridwidth": 2,
            "linecolor": "rgb(36,36,36)",
            "showbackground": true,
            "showgrid": false,
            "showline": true,
            "ticks": "outside",
            "zeroline": false,
            "zerolinecolor": "rgb(36,36,36)"
           }
          },
          "shapedefaults": {
           "fillcolor": "black",
           "line": {
            "width": 0
           },
           "opacity": 0.3
          },
          "ternary": {
           "aaxis": {
            "gridcolor": "rgb(232,232,232)",
            "linecolor": "rgb(36,36,36)",
            "showgrid": false,
            "showline": true,
            "ticks": "outside"
           },
           "baxis": {
            "gridcolor": "rgb(232,232,232)",
            "linecolor": "rgb(36,36,36)",
            "showgrid": false,
            "showline": true,
            "ticks": "outside"
           },
           "bgcolor": "white",
           "caxis": {
            "gridcolor": "rgb(232,232,232)",
            "linecolor": "rgb(36,36,36)",
            "showgrid": false,
            "showline": true,
            "ticks": "outside"
           }
          },
          "title": {
           "x": 0.5,
           "xanchor": "center"
          },
          "width": 600,
          "xaxis": {
           "automargin": true,
           "gridcolor": "rgb(232,232,232)",
           "linecolor": "rgb(36,36,36)",
           "showgrid": true,
           "showline": true,
           "ticks": "outside",
           "title": {
            "standoff": 15
           },
           "zeroline": false,
           "zerolinecolor": "rgb(36,36,36)"
          },
          "yaxis": {
           "automargin": true,
           "gridcolor": "rgb(232,232,232)",
           "linecolor": "rgb(36,36,36)",
           "showgrid": true,
           "showline": true,
           "ticks": "outside",
           "title": {
            "standoff": 15
           },
           "zeroline": false,
           "zerolinecolor": "rgb(36,36,36)"
          }
         }
        },
        "title": {
         "text": "Political Beliefs Distribution"
        },
        "xaxis": {
         "anchor": "y",
         "domain": [
          0,
          1
         ],
         "tickmode": "array",
         "ticktext": [
          "Very Conservative",
          "Conservative",
          "Moderate",
          "Liberal",
          "Very Liberal"
         ],
         "tickvals": [
          0,
          1,
          2,
          3,
          4
         ],
         "title": {
          "text": "Political Beliefs"
         }
        },
        "yaxis": {
         "anchor": "x",
         "domain": [
          0,
          1
         ],
         "title": {
          "text": "Count"
         }
        }
       }
      }
     },
     "metadata": {},
     "output_type": "display_data"
    }
   ],
   "source": [
    "pol_blfs = [\"Very Conservative\", \"Conservative\", \"Moderate\", \"Liberal\", \"Very Liberal\"]\n",
    "counts = dfmain['V2167'].value_counts().sort_index()\n",
    "\n",
    "\n",
    "colors = ['red', 'pink', 'darkgray', 'lightblue', 'blue']\n",
    "\n",
    "\n",
    "fig = px.bar(\n",
    "    x=counts.index,\n",
    "    y=counts.values,\n",
    "    title='Political Beliefs Distribution',\n",
    "    labels={'x': 'Political Beliefs', 'y': 'Count'},\n",
    "    color=counts.index, \n",
    "    color_discrete_sequence=colors  \n",
    ")\n",
    "\n",
    "# Update x-axis labels\n",
    "fig.update_layout(\n",
    "    xaxis_title=\"Political Beliefs\",\n",
    "    yaxis_title=\"Count\",\n",
    "    xaxis=dict(\n",
    "        tickmode='array',\n",
    "        tickvals=counts.index,\n",
    "        ticktext=pol_blfs\n",
    "    )\n",
    ")\n",
    "# Show the chart\n",
    "fig.show()\n"
   ]
  },
  {
   "cell_type": "code",
   "execution_count": 21,
   "metadata": {},
   "outputs": [],
   "source": [
    "fig.write_html(\"/Users/yipho/eecs398/portfolio/plot1PB.html\",include_plotlyjs='cdn')"
   ]
  },
  {
   "cell_type": "code",
   "execution_count": null,
   "metadata": {},
   "outputs": [],
   "source": [
    "print(\"fuck this man why isn't it working\")"
   ]
  },
  {
   "cell_type": "code",
   "execution_count": 45,
   "metadata": {},
   "outputs": [],
   "source": [
    "dfscat = pd.read_csv(\"raw_data/ICPSR_data_2023.csv\")"
   ]
  },
  {
   "cell_type": "markdown",
   "metadata": {},
   "source": [
    "## SECOND PLOT, BIVAR ANALYSIS 1 "
   ]
  },
  {
   "cell_type": "code",
   "execution_count": 46,
   "metadata": {},
   "outputs": [],
   "source": [
    "#set up a scatter plot \n",
    "dfscat[\"V5313\"] = (dfscat[\"V5313\"]).replace({'NEITHER:(3)':3,'MOST AGR:(4)':4\n",
    "        ,'MOST DIS:(2)':2,'AGREE:(5)':5,'DISAGREE:(1)':1,'MISSING:(-9)':-9})\n",
    "dfscat[\"V5167\"] = (dfscat[\"V5167\"]).replace({\n",
    "    'NONE/DK:(8)':8,'MODERATE:(3)':3, 'LIBERAL:(4)':4, 'CONSERV:(2)':2, 'MISSING:(-9)':-9,\n",
    "    'VRY LIB:(5)':5,'VRY CONS:(1)':1,'RADICAL:(6)':6\n",
    "    })\n",
    "\n",
    "dfscat.drop(dfscat[dfscat[\"V5167\"] == -9].index, inplace=True)\n",
    "dfscat.drop(dfscat[dfscat[\"V5167\"] == 8].index, inplace=True)\n",
    "dfscat.drop(dfscat[dfscat[\"V5167\"] == 6].index, inplace=True)\n",
    "dfscat.drop(dfscat[dfscat[\"V5313\"] == -9].index, inplace=True)\n",
    "\n",
    "newod = pd.DataFrame()\n",
    "newod[\"Alone\"] = dfscat[\"V5313\"]\n",
    "newod[\"PolBel\"] = dfscat[\"V5167\"]\n",
    "\n",
    "pivot_table = pd.crosstab(newod[\"Alone\"], newod[\"PolBel\"])\n"
   ]
  },
  {
   "cell_type": "code",
   "execution_count": 11,
   "metadata": {},
   "outputs": [
    {
     "data": {
      "application/vnd.plotly.v1+json": {
       "config": {
        "plotlyServerURL": "https://plot.ly"
       },
       "data": [
        {
         "coloraxis": "coloraxis",
         "hovertemplate": "V5167=%{x}<br>V5313=%{y}<br>count=%{z}<extra></extra>",
         "name": "",
         "type": "histogram2d",
         "x": [
          4,
          5,
          1,
          3,
          1,
          4,
          4,
          2,
          2,
          3,
          3,
          1,
          2,
          2,
          4,
          3,
          4,
          3,
          4,
          4,
          5,
          4,
          4,
          5,
          4,
          4,
          3,
          5,
          5,
          4,
          3,
          5,
          4,
          3,
          3,
          1,
          2,
          4,
          5,
          4,
          4,
          5,
          4,
          1,
          4,
          4,
          2,
          3,
          4,
          4,
          5,
          4,
          4,
          4,
          4,
          4,
          4,
          2,
          1,
          3,
          2,
          4,
          2,
          1,
          2,
          3,
          2,
          2,
          2,
          4,
          3,
          1,
          4,
          2,
          3,
          3,
          5,
          3,
          5,
          4,
          3,
          3,
          2,
          2,
          2,
          4,
          3,
          2,
          2,
          1,
          3,
          2,
          4,
          1,
          3,
          3,
          1,
          3,
          3,
          3,
          4,
          1,
          2,
          3,
          1,
          2,
          3,
          1,
          1,
          3,
          2,
          4,
          1,
          4,
          2,
          2,
          2,
          5,
          3,
          2,
          1,
          3,
          5,
          3,
          3,
          3,
          2,
          2,
          5,
          5,
          2,
          4,
          4,
          3,
          2,
          3,
          3,
          4,
          3,
          2,
          3,
          5,
          2,
          5,
          4,
          3,
          3,
          3,
          2,
          2,
          4,
          4,
          5,
          3,
          2,
          5,
          4,
          3,
          4,
          4,
          4,
          4,
          2,
          5,
          2,
          5,
          5,
          2,
          2,
          3,
          5,
          3,
          3,
          2,
          2,
          1,
          3,
          3,
          4,
          3,
          3,
          4,
          5,
          2,
          4,
          2,
          1,
          3,
          5,
          4,
          5,
          5,
          3,
          4,
          4,
          1,
          4,
          4,
          5,
          3,
          2,
          4,
          3,
          4,
          1,
          2,
          2,
          3,
          1,
          1,
          2,
          5,
          5,
          4,
          5,
          4,
          4,
          3,
          3,
          4,
          3,
          3,
          5,
          3,
          3,
          4,
          3,
          4,
          2,
          3,
          5,
          3,
          3,
          2,
          3,
          3,
          4,
          4,
          4,
          3,
          4,
          3,
          2,
          4,
          4,
          4,
          5,
          4,
          3,
          5,
          2,
          4,
          2,
          1,
          4,
          1,
          2,
          4,
          4,
          3,
          4,
          3,
          5,
          4,
          3,
          4,
          4,
          3,
          4,
          4,
          3,
          4,
          4,
          4,
          5,
          3,
          2,
          1,
          1,
          2,
          4,
          1,
          2,
          4,
          5,
          4,
          3,
          4,
          1,
          3,
          2,
          4,
          3,
          3,
          2,
          2,
          4,
          5,
          2,
          3,
          2,
          2,
          2,
          2,
          2,
          2,
          2,
          4,
          3,
          2,
          2,
          3,
          4,
          3,
          3,
          3,
          4,
          2,
          3,
          4,
          2,
          1,
          3,
          4,
          1,
          2,
          5,
          3,
          2,
          1,
          2,
          4,
          2,
          5,
          2,
          3,
          3,
          4,
          1,
          3,
          4,
          3,
          3,
          5,
          2,
          2,
          1,
          3,
          3,
          1,
          4,
          1,
          3,
          4,
          2,
          3,
          5,
          2,
          3,
          2,
          3,
          2,
          2,
          4,
          4,
          2,
          3,
          3,
          3,
          4,
          3,
          2,
          3,
          3,
          3,
          4,
          2,
          2,
          2,
          3,
          5,
          1,
          2,
          2,
          4,
          1,
          3,
          2,
          3,
          4,
          5,
          1,
          4,
          2,
          2,
          4,
          3,
          3,
          3,
          3,
          2,
          2,
          2,
          5,
          4,
          5,
          4,
          4,
          4,
          5,
          4,
          4,
          4,
          3,
          2,
          3,
          2,
          3,
          1,
          3,
          3,
          1,
          4,
          3,
          3,
          4,
          2,
          3,
          3,
          4,
          4,
          4,
          4,
          3,
          4,
          3,
          4,
          4,
          3,
          4,
          2,
          4,
          3,
          2,
          3,
          3,
          2,
          2,
          4,
          3,
          5,
          3,
          5,
          5,
          4,
          5,
          5,
          1,
          5,
          4,
          2,
          3,
          2,
          3,
          2,
          3,
          1,
          3,
          2,
          2,
          3,
          3,
          3,
          2,
          4,
          2,
          2,
          4,
          2,
          1,
          3,
          4,
          3,
          5,
          3,
          3,
          2,
          2,
          5,
          4,
          3,
          2,
          1,
          5,
          3,
          1,
          3,
          3,
          1,
          2,
          2,
          5,
          4,
          1,
          3,
          5,
          4,
          5,
          3,
          3,
          2,
          2,
          3,
          3,
          4,
          3,
          4,
          3,
          3,
          4,
          4,
          3,
          5,
          4,
          5,
          4,
          5,
          3,
          1,
          2,
          4,
          3,
          5,
          4,
          4,
          4,
          2,
          3,
          2,
          2,
          5,
          5,
          3,
          3,
          4,
          2,
          1,
          3,
          5,
          4,
          2,
          1,
          2,
          2,
          4,
          3,
          2,
          2,
          1,
          5,
          3,
          2,
          3,
          1,
          2,
          3,
          2,
          4,
          2,
          3,
          2,
          1,
          4,
          3,
          5,
          3,
          4,
          4,
          2,
          3,
          4,
          3,
          3,
          3,
          2,
          3,
          3,
          2,
          1,
          4,
          2,
          3,
          4,
          1,
          2,
          4,
          3,
          4,
          2,
          3,
          3,
          4,
          3,
          5,
          3,
          1,
          4,
          3,
          3,
          3,
          4,
          1,
          3,
          2,
          4,
          2,
          2,
          4,
          3,
          3,
          2,
          3,
          1,
          4,
          1,
          3,
          4,
          2,
          4,
          4,
          4,
          4,
          4,
          3,
          4,
          5,
          5,
          4,
          5,
          4,
          3,
          4,
          5,
          3,
          3,
          3,
          4,
          4,
          2,
          4,
          5,
          1,
          2,
          3,
          3,
          2,
          3,
          2,
          3,
          3,
          3,
          2,
          3,
          2,
          2,
          3,
          5,
          3,
          3,
          3,
          4,
          5,
          4,
          4,
          1,
          2,
          4,
          3,
          3,
          3,
          4,
          3,
          3,
          1
         ],
         "xaxis": "x",
         "xbingroup": "x",
         "y": [
          5,
          5,
          3,
          4,
          5,
          4,
          4,
          4,
          5,
          2,
          3,
          3,
          2,
          4,
          4,
          3,
          3,
          5,
          3,
          2,
          4,
          4,
          5,
          2,
          2,
          4,
          1,
          5,
          3,
          4,
          1,
          1,
          2,
          1,
          4,
          3,
          2,
          2,
          2,
          3,
          1,
          2,
          2,
          5,
          4,
          5,
          2,
          5,
          2,
          4,
          3,
          2,
          5,
          3,
          4,
          2,
          3,
          2,
          1,
          2,
          5,
          3,
          5,
          5,
          1,
          4,
          1,
          4,
          4,
          3,
          4,
          1,
          3,
          3,
          4,
          3,
          5,
          5,
          5,
          3,
          5,
          4,
          3,
          4,
          5,
          5,
          4,
          4,
          5,
          4,
          2,
          1,
          3,
          3,
          3,
          4,
          5,
          3,
          1,
          4,
          3,
          1,
          3,
          2,
          4,
          4,
          5,
          3,
          3,
          5,
          5,
          3,
          3,
          2,
          4,
          3,
          5,
          4,
          5,
          4,
          3,
          5,
          3,
          4,
          1,
          4,
          2,
          1,
          4,
          3,
          1,
          1,
          2,
          4,
          3,
          2,
          1,
          4,
          2,
          4,
          3,
          2,
          1,
          3,
          4,
          2,
          2,
          1,
          1,
          2,
          1,
          4,
          4,
          3,
          3,
          5,
          5,
          1,
          1,
          4,
          2,
          3,
          2,
          4,
          3,
          5,
          5,
          2,
          4,
          1,
          2,
          2,
          2,
          4,
          1,
          2,
          2,
          2,
          4,
          3,
          4,
          2,
          4,
          1,
          5,
          2,
          1,
          3,
          5,
          4,
          2,
          2,
          3,
          5,
          4,
          4,
          2,
          2,
          4,
          5,
          2,
          5,
          4,
          3,
          4,
          4,
          2,
          3,
          1,
          1,
          4,
          4,
          4,
          4,
          4,
          4,
          5,
          4,
          5,
          4,
          4,
          3,
          3,
          4,
          5,
          3,
          2,
          5,
          3,
          3,
          2,
          3,
          3,
          2,
          3,
          4,
          4,
          3,
          5,
          2,
          2,
          3,
          2,
          3,
          5,
          5,
          4,
          2,
          4,
          4,
          5,
          3,
          5,
          3,
          1,
          3,
          3,
          3,
          2,
          2,
          3,
          2,
          3,
          3,
          5,
          5,
          5,
          2,
          3,
          3,
          2,
          4,
          2,
          5,
          3,
          1,
          3,
          4,
          1,
          2,
          1,
          5,
          4,
          3,
          2,
          3,
          4,
          3,
          1,
          5,
          5,
          3,
          3,
          3,
          1,
          5,
          2,
          3,
          4,
          4,
          2,
          1,
          1,
          4,
          3,
          4,
          5,
          5,
          3,
          4,
          3,
          1,
          4,
          1,
          3,
          2,
          4,
          3,
          2,
          4,
          1,
          1,
          3,
          2,
          4,
          3,
          5,
          2,
          1,
          1,
          2,
          5,
          1,
          3,
          5,
          5,
          4,
          4,
          3,
          4,
          3,
          2,
          2,
          3,
          1,
          3,
          1,
          1,
          3,
          4,
          2,
          4,
          3,
          3,
          4,
          4,
          1,
          3,
          5,
          5,
          2,
          1,
          2,
          2,
          4,
          3,
          1,
          5,
          1,
          4,
          2,
          4,
          1,
          2,
          5,
          4,
          2,
          3,
          4,
          1,
          5,
          5,
          1,
          4,
          4,
          3,
          1,
          1,
          4,
          3,
          5,
          3,
          5,
          4,
          3,
          5,
          5,
          4,
          2,
          4,
          1,
          2,
          3,
          2,
          2,
          3,
          2,
          2,
          4,
          3,
          5,
          5,
          2,
          2,
          5,
          2,
          3,
          4,
          2,
          2,
          3,
          1,
          5,
          3,
          1,
          3,
          2,
          4,
          1,
          5,
          3,
          4,
          2,
          1,
          5,
          4,
          2,
          4,
          4,
          3,
          4,
          4,
          2,
          1,
          5,
          4,
          4,
          1,
          1,
          2,
          4,
          3,
          2,
          4,
          4,
          5,
          3,
          4,
          4,
          5,
          1,
          1,
          1,
          2,
          2,
          1,
          3,
          1,
          5,
          4,
          1,
          1,
          5,
          3,
          2,
          3,
          2,
          4,
          3,
          3,
          3,
          2,
          2,
          2,
          5,
          3,
          4,
          1,
          3,
          4,
          3,
          4,
          5,
          1,
          5,
          4,
          2,
          3,
          1,
          2,
          3,
          2,
          5,
          2,
          3,
          4,
          5,
          4,
          2,
          2,
          2,
          3,
          2,
          3,
          2,
          5,
          4,
          3,
          3,
          2,
          4,
          5,
          2,
          3,
          1,
          3,
          4,
          4,
          1,
          4,
          5,
          2,
          2,
          4,
          2,
          3,
          3,
          4,
          3,
          4,
          4,
          3,
          2,
          5,
          5,
          3,
          2,
          4,
          4,
          5,
          5,
          5,
          2,
          3,
          4,
          2,
          5,
          1,
          4,
          4,
          1,
          1,
          3,
          2,
          5,
          3,
          2,
          5,
          5,
          5,
          2,
          3,
          2,
          2,
          3,
          4,
          4,
          3,
          2,
          3,
          5,
          2,
          1,
          3,
          3,
          2,
          3,
          3,
          5,
          2,
          1,
          5,
          2,
          1,
          4,
          4,
          2,
          3,
          4,
          1,
          3,
          3,
          4,
          2,
          4,
          1,
          4,
          1,
          1,
          3,
          3,
          2,
          2,
          1,
          2,
          1,
          1,
          1,
          3,
          5,
          4,
          3,
          3,
          5,
          4,
          1,
          5,
          1,
          3,
          2,
          3,
          3,
          4,
          5,
          5,
          1,
          1,
          2,
          4,
          1,
          4,
          3,
          3,
          3,
          2,
          2,
          4,
          4,
          1,
          4,
          2,
          2,
          1,
          2,
          3,
          2,
          2,
          5,
          4,
          3,
          3,
          3,
          4,
          1,
          3,
          5,
          2,
          5,
          2,
          5,
          2,
          3,
          4,
          2,
          3,
          1,
          2,
          3,
          5,
          5,
          3,
          2,
          2,
          3
         ],
         "yaxis": "y",
         "ybingroup": "y"
        }
       ],
       "layout": {
        "coloraxis": {
         "colorbar": {
          "title": {
           "text": "count"
          }
         },
         "colorscale": [
          [
           0,
           "#440154"
          ],
          [
           0.1111111111111111,
           "#482878"
          ],
          [
           0.2222222222222222,
           "#3e4989"
          ],
          [
           0.3333333333333333,
           "#31688e"
          ],
          [
           0.4444444444444444,
           "#26828e"
          ],
          [
           0.5555555555555556,
           "#1f9e89"
          ],
          [
           0.6666666666666666,
           "#35b779"
          ],
          [
           0.7777777777777778,
           "#6ece58"
          ],
          [
           0.8888888888888888,
           "#b5de2b"
          ],
          [
           1,
           "#fde725"
          ]
         ]
        },
        "legend": {
         "tracegroupgap": 0
        },
        "template": {
         "data": {
          "bar": [
           {
            "error_x": {
             "color": "rgb(36,36,36)"
            },
            "error_y": {
             "color": "rgb(36,36,36)"
            },
            "marker": {
             "line": {
              "color": "white",
              "width": 0.5
             },
             "pattern": {
              "fillmode": "overlay",
              "size": 10,
              "solidity": 0.2
             }
            },
            "type": "bar"
           }
          ],
          "barpolar": [
           {
            "marker": {
             "line": {
              "color": "white",
              "width": 0.5
             },
             "pattern": {
              "fillmode": "overlay",
              "size": 10,
              "solidity": 0.2
             }
            },
            "type": "barpolar"
           }
          ],
          "carpet": [
           {
            "aaxis": {
             "endlinecolor": "rgb(36,36,36)",
             "gridcolor": "white",
             "linecolor": "white",
             "minorgridcolor": "white",
             "startlinecolor": "rgb(36,36,36)"
            },
            "baxis": {
             "endlinecolor": "rgb(36,36,36)",
             "gridcolor": "white",
             "linecolor": "white",
             "minorgridcolor": "white",
             "startlinecolor": "rgb(36,36,36)"
            },
            "type": "carpet"
           }
          ],
          "choropleth": [
           {
            "colorbar": {
             "outlinewidth": 1,
             "tickcolor": "rgb(36,36,36)",
             "ticks": "outside"
            },
            "type": "choropleth"
           }
          ],
          "contour": [
           {
            "colorbar": {
             "outlinewidth": 1,
             "tickcolor": "rgb(36,36,36)",
             "ticks": "outside"
            },
            "colorscale": [
             [
              0,
              "#440154"
             ],
             [
              0.1111111111111111,
              "#482878"
             ],
             [
              0.2222222222222222,
              "#3e4989"
             ],
             [
              0.3333333333333333,
              "#31688e"
             ],
             [
              0.4444444444444444,
              "#26828e"
             ],
             [
              0.5555555555555556,
              "#1f9e89"
             ],
             [
              0.6666666666666666,
              "#35b779"
             ],
             [
              0.7777777777777778,
              "#6ece58"
             ],
             [
              0.8888888888888888,
              "#b5de2b"
             ],
             [
              1,
              "#fde725"
             ]
            ],
            "type": "contour"
           }
          ],
          "contourcarpet": [
           {
            "colorbar": {
             "outlinewidth": 1,
             "tickcolor": "rgb(36,36,36)",
             "ticks": "outside"
            },
            "type": "contourcarpet"
           }
          ],
          "heatmap": [
           {
            "colorbar": {
             "outlinewidth": 1,
             "tickcolor": "rgb(36,36,36)",
             "ticks": "outside"
            },
            "colorscale": [
             [
              0,
              "#440154"
             ],
             [
              0.1111111111111111,
              "#482878"
             ],
             [
              0.2222222222222222,
              "#3e4989"
             ],
             [
              0.3333333333333333,
              "#31688e"
             ],
             [
              0.4444444444444444,
              "#26828e"
             ],
             [
              0.5555555555555556,
              "#1f9e89"
             ],
             [
              0.6666666666666666,
              "#35b779"
             ],
             [
              0.7777777777777778,
              "#6ece58"
             ],
             [
              0.8888888888888888,
              "#b5de2b"
             ],
             [
              1,
              "#fde725"
             ]
            ],
            "type": "heatmap"
           }
          ],
          "heatmapgl": [
           {
            "colorbar": {
             "outlinewidth": 1,
             "tickcolor": "rgb(36,36,36)",
             "ticks": "outside"
            },
            "colorscale": [
             [
              0,
              "#440154"
             ],
             [
              0.1111111111111111,
              "#482878"
             ],
             [
              0.2222222222222222,
              "#3e4989"
             ],
             [
              0.3333333333333333,
              "#31688e"
             ],
             [
              0.4444444444444444,
              "#26828e"
             ],
             [
              0.5555555555555556,
              "#1f9e89"
             ],
             [
              0.6666666666666666,
              "#35b779"
             ],
             [
              0.7777777777777778,
              "#6ece58"
             ],
             [
              0.8888888888888888,
              "#b5de2b"
             ],
             [
              1,
              "#fde725"
             ]
            ],
            "type": "heatmapgl"
           }
          ],
          "histogram": [
           {
            "marker": {
             "line": {
              "color": "white",
              "width": 0.6
             }
            },
            "type": "histogram"
           }
          ],
          "histogram2d": [
           {
            "colorbar": {
             "outlinewidth": 1,
             "tickcolor": "rgb(36,36,36)",
             "ticks": "outside"
            },
            "colorscale": [
             [
              0,
              "#440154"
             ],
             [
              0.1111111111111111,
              "#482878"
             ],
             [
              0.2222222222222222,
              "#3e4989"
             ],
             [
              0.3333333333333333,
              "#31688e"
             ],
             [
              0.4444444444444444,
              "#26828e"
             ],
             [
              0.5555555555555556,
              "#1f9e89"
             ],
             [
              0.6666666666666666,
              "#35b779"
             ],
             [
              0.7777777777777778,
              "#6ece58"
             ],
             [
              0.8888888888888888,
              "#b5de2b"
             ],
             [
              1,
              "#fde725"
             ]
            ],
            "type": "histogram2d"
           }
          ],
          "histogram2dcontour": [
           {
            "colorbar": {
             "outlinewidth": 1,
             "tickcolor": "rgb(36,36,36)",
             "ticks": "outside"
            },
            "colorscale": [
             [
              0,
              "#440154"
             ],
             [
              0.1111111111111111,
              "#482878"
             ],
             [
              0.2222222222222222,
              "#3e4989"
             ],
             [
              0.3333333333333333,
              "#31688e"
             ],
             [
              0.4444444444444444,
              "#26828e"
             ],
             [
              0.5555555555555556,
              "#1f9e89"
             ],
             [
              0.6666666666666666,
              "#35b779"
             ],
             [
              0.7777777777777778,
              "#6ece58"
             ],
             [
              0.8888888888888888,
              "#b5de2b"
             ],
             [
              1,
              "#fde725"
             ]
            ],
            "type": "histogram2dcontour"
           }
          ],
          "mesh3d": [
           {
            "colorbar": {
             "outlinewidth": 1,
             "tickcolor": "rgb(36,36,36)",
             "ticks": "outside"
            },
            "type": "mesh3d"
           }
          ],
          "parcoords": [
           {
            "line": {
             "colorbar": {
              "outlinewidth": 1,
              "tickcolor": "rgb(36,36,36)",
              "ticks": "outside"
             }
            },
            "type": "parcoords"
           }
          ],
          "pie": [
           {
            "automargin": true,
            "type": "pie"
           }
          ],
          "scatter": [
           {
            "fillpattern": {
             "fillmode": "overlay",
             "size": 10,
             "solidity": 0.2
            },
            "type": "scatter"
           }
          ],
          "scatter3d": [
           {
            "line": {
             "colorbar": {
              "outlinewidth": 1,
              "tickcolor": "rgb(36,36,36)",
              "ticks": "outside"
             }
            },
            "marker": {
             "colorbar": {
              "outlinewidth": 1,
              "tickcolor": "rgb(36,36,36)",
              "ticks": "outside"
             }
            },
            "type": "scatter3d"
           }
          ],
          "scattercarpet": [
           {
            "marker": {
             "colorbar": {
              "outlinewidth": 1,
              "tickcolor": "rgb(36,36,36)",
              "ticks": "outside"
             }
            },
            "type": "scattercarpet"
           }
          ],
          "scattergeo": [
           {
            "marker": {
             "colorbar": {
              "outlinewidth": 1,
              "tickcolor": "rgb(36,36,36)",
              "ticks": "outside"
             }
            },
            "type": "scattergeo"
           }
          ],
          "scattergl": [
           {
            "marker": {
             "colorbar": {
              "outlinewidth": 1,
              "tickcolor": "rgb(36,36,36)",
              "ticks": "outside"
             }
            },
            "type": "scattergl"
           }
          ],
          "scattermapbox": [
           {
            "marker": {
             "colorbar": {
              "outlinewidth": 1,
              "tickcolor": "rgb(36,36,36)",
              "ticks": "outside"
             }
            },
            "type": "scattermapbox"
           }
          ],
          "scatterpolar": [
           {
            "marker": {
             "colorbar": {
              "outlinewidth": 1,
              "tickcolor": "rgb(36,36,36)",
              "ticks": "outside"
             }
            },
            "type": "scatterpolar"
           }
          ],
          "scatterpolargl": [
           {
            "marker": {
             "colorbar": {
              "outlinewidth": 1,
              "tickcolor": "rgb(36,36,36)",
              "ticks": "outside"
             }
            },
            "type": "scatterpolargl"
           }
          ],
          "scatterternary": [
           {
            "marker": {
             "colorbar": {
              "outlinewidth": 1,
              "tickcolor": "rgb(36,36,36)",
              "ticks": "outside"
             }
            },
            "type": "scatterternary"
           }
          ],
          "surface": [
           {
            "colorbar": {
             "outlinewidth": 1,
             "tickcolor": "rgb(36,36,36)",
             "ticks": "outside"
            },
            "colorscale": [
             [
              0,
              "#440154"
             ],
             [
              0.1111111111111111,
              "#482878"
             ],
             [
              0.2222222222222222,
              "#3e4989"
             ],
             [
              0.3333333333333333,
              "#31688e"
             ],
             [
              0.4444444444444444,
              "#26828e"
             ],
             [
              0.5555555555555556,
              "#1f9e89"
             ],
             [
              0.6666666666666666,
              "#35b779"
             ],
             [
              0.7777777777777778,
              "#6ece58"
             ],
             [
              0.8888888888888888,
              "#b5de2b"
             ],
             [
              1,
              "#fde725"
             ]
            ],
            "type": "surface"
           }
          ],
          "table": [
           {
            "cells": {
             "fill": {
              "color": "rgb(237,237,237)"
             },
             "line": {
              "color": "white"
             }
            },
            "header": {
             "fill": {
              "color": "rgb(217,217,217)"
             },
             "line": {
              "color": "white"
             }
            },
            "type": "table"
           }
          ]
         },
         "layout": {
          "annotationdefaults": {
           "arrowhead": 0,
           "arrowwidth": 1
          },
          "autosize": true,
          "autotypenumbers": "strict",
          "coloraxis": {
           "colorbar": {
            "outlinewidth": 1,
            "tickcolor": "rgb(36,36,36)",
            "ticks": "outside"
           }
          },
          "colorscale": {
           "diverging": [
            [
             0,
             "rgb(103,0,31)"
            ],
            [
             0.1,
             "rgb(178,24,43)"
            ],
            [
             0.2,
             "rgb(214,96,77)"
            ],
            [
             0.3,
             "rgb(244,165,130)"
            ],
            [
             0.4,
             "rgb(253,219,199)"
            ],
            [
             0.5,
             "rgb(247,247,247)"
            ],
            [
             0.6,
             "rgb(209,229,240)"
            ],
            [
             0.7,
             "rgb(146,197,222)"
            ],
            [
             0.8,
             "rgb(67,147,195)"
            ],
            [
             0.9,
             "rgb(33,102,172)"
            ],
            [
             1,
             "rgb(5,48,97)"
            ]
           ],
           "sequential": [
            [
             0,
             "#440154"
            ],
            [
             0.1111111111111111,
             "#482878"
            ],
            [
             0.2222222222222222,
             "#3e4989"
            ],
            [
             0.3333333333333333,
             "#31688e"
            ],
            [
             0.4444444444444444,
             "#26828e"
            ],
            [
             0.5555555555555556,
             "#1f9e89"
            ],
            [
             0.6666666666666666,
             "#35b779"
            ],
            [
             0.7777777777777778,
             "#6ece58"
            ],
            [
             0.8888888888888888,
             "#b5de2b"
            ],
            [
             1,
             "#fde725"
            ]
           ],
           "sequentialminus": [
            [
             0,
             "#440154"
            ],
            [
             0.1111111111111111,
             "#482878"
            ],
            [
             0.2222222222222222,
             "#3e4989"
            ],
            [
             0.3333333333333333,
             "#31688e"
            ],
            [
             0.4444444444444444,
             "#26828e"
            ],
            [
             0.5555555555555556,
             "#1f9e89"
            ],
            [
             0.6666666666666666,
             "#35b779"
            ],
            [
             0.7777777777777778,
             "#6ece58"
            ],
            [
             0.8888888888888888,
             "#b5de2b"
            ],
            [
             1,
             "#fde725"
            ]
           ]
          },
          "colorway": [
           "#1F77B4",
           "#FF7F0E",
           "#2CA02C",
           "#D62728",
           "#9467BD",
           "#8C564B",
           "#E377C2",
           "#7F7F7F",
           "#BCBD22",
           "#17BECF"
          ],
          "font": {
           "color": "rgb(36,36,36)"
          },
          "geo": {
           "bgcolor": "white",
           "lakecolor": "white",
           "landcolor": "white",
           "showlakes": true,
           "showland": true,
           "subunitcolor": "white"
          },
          "height": 400,
          "hoverlabel": {
           "align": "left"
          },
          "hovermode": "closest",
          "mapbox": {
           "style": "light"
          },
          "margin": {
           "b": 30,
           "l": 30,
           "r": 30,
           "t": 30
          },
          "paper_bgcolor": "white",
          "plot_bgcolor": "white",
          "polar": {
           "angularaxis": {
            "gridcolor": "rgb(232,232,232)",
            "linecolor": "rgb(36,36,36)",
            "showgrid": false,
            "showline": true,
            "ticks": "outside"
           },
           "bgcolor": "white",
           "radialaxis": {
            "gridcolor": "rgb(232,232,232)",
            "linecolor": "rgb(36,36,36)",
            "showgrid": false,
            "showline": true,
            "ticks": "outside"
           }
          },
          "scene": {
           "xaxis": {
            "backgroundcolor": "white",
            "gridcolor": "rgb(232,232,232)",
            "gridwidth": 2,
            "linecolor": "rgb(36,36,36)",
            "showbackground": true,
            "showgrid": false,
            "showline": true,
            "ticks": "outside",
            "zeroline": false,
            "zerolinecolor": "rgb(36,36,36)"
           },
           "yaxis": {
            "backgroundcolor": "white",
            "gridcolor": "rgb(232,232,232)",
            "gridwidth": 2,
            "linecolor": "rgb(36,36,36)",
            "showbackground": true,
            "showgrid": false,
            "showline": true,
            "ticks": "outside",
            "zeroline": false,
            "zerolinecolor": "rgb(36,36,36)"
           },
           "zaxis": {
            "backgroundcolor": "white",
            "gridcolor": "rgb(232,232,232)",
            "gridwidth": 2,
            "linecolor": "rgb(36,36,36)",
            "showbackground": true,
            "showgrid": false,
            "showline": true,
            "ticks": "outside",
            "zeroline": false,
            "zerolinecolor": "rgb(36,36,36)"
           }
          },
          "shapedefaults": {
           "fillcolor": "black",
           "line": {
            "width": 0
           },
           "opacity": 0.3
          },
          "ternary": {
           "aaxis": {
            "gridcolor": "rgb(232,232,232)",
            "linecolor": "rgb(36,36,36)",
            "showgrid": false,
            "showline": true,
            "ticks": "outside"
           },
           "baxis": {
            "gridcolor": "rgb(232,232,232)",
            "linecolor": "rgb(36,36,36)",
            "showgrid": false,
            "showline": true,
            "ticks": "outside"
           },
           "bgcolor": "white",
           "caxis": {
            "gridcolor": "rgb(232,232,232)",
            "linecolor": "rgb(36,36,36)",
            "showgrid": false,
            "showline": true,
            "ticks": "outside"
           }
          },
          "title": {
           "x": 0.5,
           "xanchor": "center"
          },
          "width": 600,
          "xaxis": {
           "automargin": true,
           "gridcolor": "rgb(232,232,232)",
           "linecolor": "rgb(36,36,36)",
           "showgrid": true,
           "showline": true,
           "ticks": "outside",
           "title": {
            "standoff": 15
           },
           "zeroline": false,
           "zerolinecolor": "rgb(36,36,36)"
          },
          "yaxis": {
           "automargin": true,
           "gridcolor": "rgb(232,232,232)",
           "linecolor": "rgb(36,36,36)",
           "showgrid": true,
           "showline": true,
           "ticks": "outside",
           "title": {
            "standoff": 15
           },
           "zeroline": false,
           "zerolinecolor": "rgb(36,36,36)"
          }
         }
        },
        "title": {
         "text": "Heatmap Example"
        },
        "xaxis": {
         "anchor": "y",
         "domain": [
          0,
          1
         ],
         "title": {
          "text": "V5167"
         }
        },
        "yaxis": {
         "anchor": "x",
         "domain": [
          0,
          1
         ],
         "title": {
          "text": "V5313"
         }
        }
       }
      }
     },
     "metadata": {},
     "output_type": "display_data"
    }
   ],
   "source": [
    "fig = px.density_heatmap(\n",
    "    dfscat,\n",
    "    x='V5167',\n",
    "    y='V5313',\n",
    "    color_continuous_scale='Viridis',\n",
    "    title=\"Heatmap Example\"\n",
    ")\n",
    "fig.show()\n",
    "fig.write_html(\"/Users/macbook/Desktop/EECS389/398_mtf/plot2HM.html\", include_plotlyjs='cdn')\n"
   ]
  },
  {
   "cell_type": "markdown",
   "metadata": {},
   "source": [
    "## THIRD PLOT, BIVAR ANALYSIS 2 "
   ]
  },
  {
   "cell_type": "code",
   "execution_count": 50,
   "metadata": {},
   "outputs": [],
   "source": [
    "dfscat[\"V5324\"] = dfscat[\"V5324\"].replace({'AGREE:(5)':'AGREE:(5)',\"MOST AGR:(4)\":'AGREE:(5)',\n",
    "\"NEITHER:(3)\":3,\"MOST DIS:(2)\":2,\"DISAGREE:(1)\":1,\"MISSING:(-9)\":-9})\n",
    "dfscat.drop(dfscat[dfscat[\"V5324\"] == -9].index, inplace=True)\n",
    "\n",
    "\n",
    "dfscat[\"V2150\"] = dfscat[\"V2150\"].replace({'FEMALE:(2)':\"Female\",\"MALE:(1)\":\"Male\",\n",
    "\"PREFER NOT ANSWER:(4)\":4,\"MISSING:(-9)\":-9,\"OTHER:(3)\":3})\n",
    "dfscat.drop(dfscat[dfscat[\"V2150\"] == 4].index, inplace=True)\n",
    "dfscat.drop(dfscat[dfscat[\"V2150\"] == -9].index, inplace=True)\n",
    "dfscat.drop(dfscat[dfscat[\"V2150\"] == 3].index, inplace=True)\n"
   ]
  },
  {
   "cell_type": "code",
   "execution_count": 51,
   "metadata": {},
   "outputs": [
    {
     "data": {
      "application/vnd.plotly.v1+json": {
       "config": {
        "plotlyServerURL": "https://plot.ly"
       },
       "data": [
        {
         "alignmentgroup": "True",
         "hovertemplate": "Sex=%{x}<br>Cosistent group of friends?=%{y}<extra></extra>",
         "legendgroup": "",
         "marker": {
          "color": "#1F77B4"
         },
         "name": "",
         "notched": false,
         "offsetgroup": "",
         "orientation": "v",
         "showlegend": false,
         "type": "box",
         "x": [
          "Female",
          "Female",
          "Male",
          "Female",
          "Male",
          "Female",
          "Female",
          "Male",
          "Male",
          "Male",
          "Male",
          "Male",
          "Male",
          "Female",
          "Female",
          "Female",
          "Female",
          "Female",
          "Female",
          "Female",
          "Female",
          "Female",
          "Female",
          "Female",
          "Male",
          "Male",
          "Female",
          "Female",
          "Female",
          "Male",
          "Male",
          "Female",
          "Female",
          "Female",
          "Male",
          "Female",
          "Female",
          "Female",
          "Female",
          "Female",
          "Female",
          "Female",
          "Female",
          "Female",
          "Female",
          "Female",
          "Female",
          "Female",
          "Female",
          "Female",
          "Female",
          "Female",
          "Male",
          "Female",
          "Female",
          "Male",
          "Male",
          "Female",
          "Female",
          "Female",
          "Female",
          "Male",
          "Male",
          "Female",
          "Female",
          "Female",
          "Male",
          "Female",
          "Male",
          "Female",
          "Male",
          "Female",
          "Female",
          "Male",
          "Female",
          "Female",
          "Male",
          "Male",
          "Male",
          "Female",
          "Female",
          "Male",
          "Male",
          "Male",
          "Male",
          "Male",
          "Female",
          "Female",
          "Male",
          "Female",
          "Female",
          "Male",
          "Male",
          "Female",
          "Male",
          "Female",
          "Male",
          "Female",
          "Female",
          "Male",
          "Male",
          "Female",
          "Female",
          "Female",
          "Female",
          "Male",
          "Male",
          "Male",
          "Male",
          "Female",
          "Male",
          "Female",
          "Female",
          "Male",
          "Female",
          "Female",
          "Female",
          "Male",
          "Male",
          "Male",
          "Female",
          "Male",
          "Male",
          "Female",
          "Female",
          "Male",
          "Female",
          "Male",
          "Male",
          "Male",
          "Male",
          "Male",
          "Female",
          "Female",
          "Male",
          "Female",
          "Female",
          "Female",
          "Male",
          "Male",
          "Male",
          "Female",
          "Male",
          "Female",
          "Male",
          "Male",
          "Female",
          "Female",
          "Female",
          "Male",
          "Female",
          "Female",
          "Female",
          "Female",
          "Male",
          "Female",
          "Female",
          "Male",
          "Male",
          "Male",
          "Female",
          "Male",
          "Male",
          "Male",
          "Male",
          "Male",
          "Male",
          "Female",
          "Female",
          "Male",
          "Female",
          "Female",
          "Male",
          "Female",
          "Female",
          "Female",
          "Male",
          "Male",
          "Female",
          "Female",
          "Female",
          "Female",
          "Female",
          "Female",
          "Female",
          "Female",
          "Female",
          "Male",
          "Female",
          "Male",
          "Male",
          "Female",
          "Female",
          "Female",
          "Female",
          "Female",
          "Male",
          "Male",
          "Male",
          "Male",
          "Female",
          "Male",
          "Female",
          "Female",
          "Female",
          "Female",
          "Male",
          "Female",
          "Female",
          "Male",
          "Female",
          "Female",
          "Female",
          "Male",
          "Female",
          "Male",
          "Female",
          "Male",
          "Male",
          "Male",
          "Female",
          "Female",
          "Female",
          "Male",
          "Female",
          "Female",
          "Female",
          "Female",
          "Male",
          "Male",
          "Female",
          "Female",
          "Female",
          "Female",
          "Female",
          "Female",
          "Male",
          "Male",
          "Female",
          "Male",
          "Male",
          "Male",
          "Male",
          "Male",
          "Male",
          "Female",
          "Male",
          "Female",
          "Male",
          "Male",
          "Female",
          "Male",
          "Female",
          "Female",
          "Male",
          "Female",
          "Female",
          "Female",
          "Female",
          "Male",
          "Female",
          "Female",
          "Female",
          "Female",
          "Male",
          "Male",
          "Male",
          "Male",
          "Female",
          "Male",
          "Male",
          "Male",
          "Male",
          "Female",
          "Female",
          "Female",
          "Female",
          "Male",
          "Male",
          "Male",
          "Female",
          "Male",
          "Male",
          "Male",
          "Female",
          "Female",
          "Female",
          "Female",
          "Male",
          "Male",
          "Male",
          "Female",
          "Female",
          "Female",
          "Female",
          "Female",
          "Female",
          "Female",
          "Female",
          "Female",
          "Female",
          "Female",
          "Male",
          "Female",
          "Female",
          "Male",
          "Female",
          "Female",
          "Male",
          "Male",
          "Male",
          "Female",
          "Male",
          "Male",
          "Female",
          "Female",
          "Male",
          "Male",
          "Male",
          "Female",
          "Female",
          "Female",
          "Female",
          "Male",
          "Male",
          "Female",
          "Male",
          "Female",
          "Female",
          "Male",
          "Male",
          "Female",
          "Male",
          "Male",
          "Male",
          "Male",
          "Female",
          "Female",
          "Male",
          "Male",
          "Male",
          "Male",
          "Male",
          "Female",
          "Female",
          "Female",
          "Female",
          "Female",
          "Male",
          "Male",
          "Female",
          "Female",
          "Male",
          "Male",
          "Male",
          "Male",
          "Male",
          "Male",
          "Female",
          "Female",
          "Male",
          "Male",
          "Female",
          "Female",
          "Female",
          "Female",
          "Female",
          "Female",
          "Female",
          "Female",
          "Female",
          "Female",
          "Male",
          "Female",
          "Male",
          "Male",
          "Female",
          "Female",
          "Male",
          "Male",
          "Male",
          "Male",
          "Female",
          "Male",
          "Male",
          "Male",
          "Male",
          "Male",
          "Male",
          "Male",
          "Female",
          "Female",
          "Female",
          "Male",
          "Male",
          "Male",
          "Female",
          "Female",
          "Female",
          "Female",
          "Male",
          "Male",
          "Male",
          "Female",
          "Female",
          "Male",
          "Male",
          "Male",
          "Male",
          "Female",
          "Male",
          "Male",
          "Female",
          "Male",
          "Female",
          "Female",
          "Male",
          "Female",
          "Male",
          "Female",
          "Male",
          "Male",
          "Male",
          "Female",
          "Female",
          "Female",
          "Male",
          "Male",
          "Male",
          "Male",
          "Female",
          "Female",
          "Female",
          "Male",
          "Male",
          "Female",
          "Male",
          "Female",
          "Female",
          "Male",
          "Female",
          "Female",
          "Female",
          "Female",
          "Female",
          "Female",
          "Female",
          "Female",
          "Female",
          "Male",
          "Male",
          "Female",
          "Male",
          "Male",
          "Female",
          "Female",
          "Male",
          "Female",
          "Female",
          "Male",
          "Male",
          "Female",
          "Female",
          "Male",
          "Male",
          "Female",
          "Female",
          "Male",
          "Male",
          "Male",
          "Female",
          "Female",
          "Male",
          "Male",
          "Male",
          "Female",
          "Female",
          "Male",
          "Female",
          "Female",
          "Male",
          "Female",
          "Male",
          "Male",
          "Male",
          "Female",
          "Female",
          "Male",
          "Female",
          "Male",
          "Female",
          "Female",
          "Male",
          "Female",
          "Female",
          "Female",
          "Female",
          "Female",
          "Male",
          "Male",
          "Male",
          "Female",
          "Male",
          "Female",
          "Female",
          "Male",
          "Male",
          "Female",
          "Male",
          "Female",
          "Female",
          "Female",
          "Female",
          "Male",
          "Male",
          "Male",
          "Male",
          "Female",
          "Male",
          "Male",
          "Female",
          "Male",
          "Male",
          "Male",
          "Male",
          "Female",
          "Female",
          "Female",
          "Female",
          "Female",
          "Male",
          "Male",
          "Male",
          "Male",
          "Male",
          "Male",
          "Female",
          "Male",
          "Male",
          "Male",
          "Male",
          "Female",
          "Female",
          "Female",
          "Male",
          "Female",
          "Female",
          "Male",
          "Female",
          "Female",
          "Male",
          "Female",
          "Female",
          "Female",
          "Female",
          "Male",
          "Female",
          "Female",
          "Female",
          "Female",
          "Male",
          "Female",
          "Male",
          "Female",
          "Male",
          "Male",
          "Female",
          "Male",
          "Male",
          "Male",
          "Female",
          "Female",
          "Male",
          "Male",
          "Male",
          "Female",
          "Male",
          "Male",
          "Male",
          "Male",
          "Male",
          "Female",
          "Male",
          "Male",
          "Male",
          "Female",
          "Male",
          "Female",
          "Male",
          "Female",
          "Male",
          "Male",
          "Female",
          "Male",
          "Male",
          "Female",
          "Female",
          "Male",
          "Female",
          "Male",
          "Male",
          "Female",
          "Male",
          "Male",
          "Male",
          "Female",
          "Male",
          "Male",
          "Male",
          "Female",
          "Female",
          "Female",
          "Male",
          "Female",
          "Male",
          "Female",
          "Female",
          "Male",
          "Male",
          "Female",
          "Male",
          "Male",
          "Female",
          "Male",
          "Female",
          "Male",
          "Female",
          "Male",
          "Female",
          "Male",
          "Male",
          "Female",
          "Female",
          "Female",
          "Female",
          "Female",
          "Female",
          "Female",
          "Male",
          "Female",
          "Female",
          "Female",
          "Female",
          "Female",
          "Female",
          "Male",
          "Female",
          "Female",
          "Female",
          "Male",
          "Female",
          "Male",
          "Female",
          "Female",
          "Male",
          "Female"
         ],
         "x0": " ",
         "xaxis": "x",
         "y": [
          "AGREE:(5)",
          "AGREE:(5)",
          1,
          "AGREE:(5)",
          "AGREE:(5)",
          1,
          "AGREE:(5)",
          2,
          "AGREE:(5)",
          "AGREE:(5)",
          "AGREE:(5)",
          "AGREE:(5)",
          "AGREE:(5)",
          "AGREE:(5)",
          1,
          "AGREE:(5)",
          "AGREE:(5)",
          3,
          "AGREE:(5)",
          "AGREE:(5)",
          "AGREE:(5)",
          "AGREE:(5)",
          "AGREE:(5)",
          "AGREE:(5)",
          "AGREE:(5)",
          "AGREE:(5)",
          "AGREE:(5)",
          "AGREE:(5)",
          "AGREE:(5)",
          1,
          "AGREE:(5)",
          "AGREE:(5)",
          "AGREE:(5)",
          "AGREE:(5)",
          "AGREE:(5)",
          "AGREE:(5)",
          "AGREE:(5)",
          "AGREE:(5)",
          "AGREE:(5)",
          "AGREE:(5)",
          "AGREE:(5)",
          "AGREE:(5)",
          "AGREE:(5)",
          "AGREE:(5)",
          "AGREE:(5)",
          "AGREE:(5)",
          "AGREE:(5)",
          "AGREE:(5)",
          "AGREE:(5)",
          "AGREE:(5)",
          "AGREE:(5)",
          "AGREE:(5)",
          "AGREE:(5)",
          1,
          "AGREE:(5)",
          "AGREE:(5)",
          2,
          3,
          "AGREE:(5)",
          "AGREE:(5)",
          "AGREE:(5)",
          "AGREE:(5)",
          "AGREE:(5)",
          2,
          "AGREE:(5)",
          "AGREE:(5)",
          "AGREE:(5)",
          1,
          2,
          2,
          "AGREE:(5)",
          "AGREE:(5)",
          3,
          "AGREE:(5)",
          "AGREE:(5)",
          "AGREE:(5)",
          "AGREE:(5)",
          "AGREE:(5)",
          2,
          "AGREE:(5)",
          "AGREE:(5)",
          "AGREE:(5)",
          "AGREE:(5)",
          "AGREE:(5)",
          "AGREE:(5)",
          "AGREE:(5)",
          "AGREE:(5)",
          "AGREE:(5)",
          "AGREE:(5)",
          "AGREE:(5)",
          "AGREE:(5)",
          "AGREE:(5)",
          3,
          "AGREE:(5)",
          "AGREE:(5)",
          "AGREE:(5)",
          3,
          3,
          "AGREE:(5)",
          2,
          3,
          "AGREE:(5)",
          2,
          "AGREE:(5)",
          "AGREE:(5)",
          "AGREE:(5)",
          "AGREE:(5)",
          "AGREE:(5)",
          "AGREE:(5)",
          "AGREE:(5)",
          "AGREE:(5)",
          "AGREE:(5)",
          "AGREE:(5)",
          "AGREE:(5)",
          "AGREE:(5)",
          "AGREE:(5)",
          "AGREE:(5)",
          "AGREE:(5)",
          "AGREE:(5)",
          "AGREE:(5)",
          "AGREE:(5)",
          "AGREE:(5)",
          "AGREE:(5)",
          "AGREE:(5)",
          "AGREE:(5)",
          "AGREE:(5)",
          "AGREE:(5)",
          "AGREE:(5)",
          "AGREE:(5)",
          "AGREE:(5)",
          "AGREE:(5)",
          "AGREE:(5)",
          "AGREE:(5)",
          2,
          "AGREE:(5)",
          "AGREE:(5)",
          "AGREE:(5)",
          "AGREE:(5)",
          "AGREE:(5)",
          "AGREE:(5)",
          "AGREE:(5)",
          "AGREE:(5)",
          "AGREE:(5)",
          "AGREE:(5)",
          "AGREE:(5)",
          "AGREE:(5)",
          "AGREE:(5)",
          "AGREE:(5)",
          "AGREE:(5)",
          1,
          "AGREE:(5)",
          "AGREE:(5)",
          "AGREE:(5)",
          "AGREE:(5)",
          3,
          3,
          "AGREE:(5)",
          1,
          "AGREE:(5)",
          "AGREE:(5)",
          "AGREE:(5)",
          "AGREE:(5)",
          "AGREE:(5)",
          "AGREE:(5)",
          "AGREE:(5)",
          "AGREE:(5)",
          "AGREE:(5)",
          "AGREE:(5)",
          "AGREE:(5)",
          "AGREE:(5)",
          "AGREE:(5)",
          "AGREE:(5)",
          "AGREE:(5)",
          1,
          "AGREE:(5)",
          3,
          "AGREE:(5)",
          "AGREE:(5)",
          "AGREE:(5)",
          3,
          "AGREE:(5)",
          "AGREE:(5)",
          "AGREE:(5)",
          "AGREE:(5)",
          "AGREE:(5)",
          "AGREE:(5)",
          "AGREE:(5)",
          "AGREE:(5)",
          2,
          "AGREE:(5)",
          "AGREE:(5)",
          1,
          "AGREE:(5)",
          "AGREE:(5)",
          1,
          "AGREE:(5)",
          "AGREE:(5)",
          1,
          "AGREE:(5)",
          2,
          "AGREE:(5)",
          "AGREE:(5)",
          "AGREE:(5)",
          "AGREE:(5)",
          "AGREE:(5)",
          "AGREE:(5)",
          "AGREE:(5)",
          "AGREE:(5)",
          "AGREE:(5)",
          "AGREE:(5)",
          "AGREE:(5)",
          "AGREE:(5)",
          "AGREE:(5)",
          "AGREE:(5)",
          3,
          "AGREE:(5)",
          "AGREE:(5)",
          "AGREE:(5)",
          "AGREE:(5)",
          "AGREE:(5)",
          3,
          3,
          "AGREE:(5)",
          "AGREE:(5)",
          "AGREE:(5)",
          1,
          "AGREE:(5)",
          "AGREE:(5)",
          "AGREE:(5)",
          3,
          "AGREE:(5)",
          "AGREE:(5)",
          "AGREE:(5)",
          "AGREE:(5)",
          "AGREE:(5)",
          "AGREE:(5)",
          "AGREE:(5)",
          "AGREE:(5)",
          "AGREE:(5)",
          "AGREE:(5)",
          "AGREE:(5)",
          "AGREE:(5)",
          "AGREE:(5)",
          "AGREE:(5)",
          3,
          "AGREE:(5)",
          "AGREE:(5)",
          3,
          "AGREE:(5)",
          2,
          "AGREE:(5)",
          3,
          "AGREE:(5)",
          "AGREE:(5)",
          "AGREE:(5)",
          "AGREE:(5)",
          "AGREE:(5)",
          "AGREE:(5)",
          "AGREE:(5)",
          "AGREE:(5)",
          3,
          2,
          "AGREE:(5)",
          "AGREE:(5)",
          3,
          "AGREE:(5)",
          "AGREE:(5)",
          "AGREE:(5)",
          "AGREE:(5)",
          3,
          "AGREE:(5)",
          "AGREE:(5)",
          "AGREE:(5)",
          2,
          "AGREE:(5)",
          "AGREE:(5)",
          "AGREE:(5)",
          "AGREE:(5)",
          "AGREE:(5)",
          "AGREE:(5)",
          "AGREE:(5)",
          "AGREE:(5)",
          "AGREE:(5)",
          2,
          "AGREE:(5)",
          "AGREE:(5)",
          "AGREE:(5)",
          "AGREE:(5)",
          "AGREE:(5)",
          "AGREE:(5)",
          1,
          2,
          "AGREE:(5)",
          "AGREE:(5)",
          "AGREE:(5)",
          "AGREE:(5)",
          "AGREE:(5)",
          "AGREE:(5)",
          "AGREE:(5)",
          "AGREE:(5)",
          3,
          1,
          "AGREE:(5)",
          "AGREE:(5)",
          "AGREE:(5)",
          3,
          "AGREE:(5)",
          "AGREE:(5)",
          "AGREE:(5)",
          "AGREE:(5)",
          "AGREE:(5)",
          "AGREE:(5)",
          "AGREE:(5)",
          3,
          2,
          "AGREE:(5)",
          3,
          3,
          2,
          2,
          "AGREE:(5)",
          "AGREE:(5)",
          2,
          "AGREE:(5)",
          "AGREE:(5)",
          "AGREE:(5)",
          3,
          "AGREE:(5)",
          "AGREE:(5)",
          "AGREE:(5)",
          "AGREE:(5)",
          "AGREE:(5)",
          3,
          "AGREE:(5)",
          "AGREE:(5)",
          "AGREE:(5)",
          3,
          "AGREE:(5)",
          "AGREE:(5)",
          "AGREE:(5)",
          3,
          "AGREE:(5)",
          "AGREE:(5)",
          "AGREE:(5)",
          3,
          "AGREE:(5)",
          1,
          "AGREE:(5)",
          "AGREE:(5)",
          "AGREE:(5)",
          "AGREE:(5)",
          "AGREE:(5)",
          "AGREE:(5)",
          "AGREE:(5)",
          "AGREE:(5)",
          "AGREE:(5)",
          "AGREE:(5)",
          "AGREE:(5)",
          "AGREE:(5)",
          "AGREE:(5)",
          3,
          1,
          "AGREE:(5)",
          "AGREE:(5)",
          "AGREE:(5)",
          2,
          1,
          2,
          "AGREE:(5)",
          "AGREE:(5)",
          3,
          "AGREE:(5)",
          3,
          "AGREE:(5)",
          "AGREE:(5)",
          "AGREE:(5)",
          3,
          "AGREE:(5)",
          "AGREE:(5)",
          "AGREE:(5)",
          "AGREE:(5)",
          "AGREE:(5)",
          "AGREE:(5)",
          "AGREE:(5)",
          1,
          "AGREE:(5)",
          "AGREE:(5)",
          "AGREE:(5)",
          "AGREE:(5)",
          2,
          "AGREE:(5)",
          "AGREE:(5)",
          "AGREE:(5)",
          "AGREE:(5)",
          "AGREE:(5)",
          "AGREE:(5)",
          3,
          3,
          3,
          "AGREE:(5)",
          "AGREE:(5)",
          3,
          "AGREE:(5)",
          "AGREE:(5)",
          "AGREE:(5)",
          "AGREE:(5)",
          "AGREE:(5)",
          "AGREE:(5)",
          "AGREE:(5)",
          3,
          "AGREE:(5)",
          "AGREE:(5)",
          3,
          "AGREE:(5)",
          "AGREE:(5)",
          "AGREE:(5)",
          2,
          "AGREE:(5)",
          "AGREE:(5)",
          "AGREE:(5)",
          "AGREE:(5)",
          "AGREE:(5)",
          "AGREE:(5)",
          "AGREE:(5)",
          "AGREE:(5)",
          3,
          3,
          "AGREE:(5)",
          "AGREE:(5)",
          1,
          2,
          2,
          3,
          "AGREE:(5)",
          1,
          2,
          2,
          2,
          "AGREE:(5)",
          "AGREE:(5)",
          "AGREE:(5)",
          3,
          "AGREE:(5)",
          1,
          "AGREE:(5)",
          "AGREE:(5)",
          "AGREE:(5)",
          "AGREE:(5)",
          "AGREE:(5)",
          "AGREE:(5)",
          "AGREE:(5)",
          "AGREE:(5)",
          "AGREE:(5)",
          "AGREE:(5)",
          "AGREE:(5)",
          "AGREE:(5)",
          3,
          "AGREE:(5)",
          "AGREE:(5)",
          3,
          "AGREE:(5)",
          "AGREE:(5)",
          "AGREE:(5)",
          1,
          "AGREE:(5)",
          "AGREE:(5)",
          1,
          3,
          "AGREE:(5)",
          "AGREE:(5)",
          2,
          "AGREE:(5)",
          2,
          "AGREE:(5)",
          2,
          "AGREE:(5)",
          1,
          "AGREE:(5)",
          "AGREE:(5)",
          3,
          2,
          2,
          "AGREE:(5)",
          "AGREE:(5)",
          "AGREE:(5)",
          "AGREE:(5)",
          "AGREE:(5)",
          "AGREE:(5)",
          "AGREE:(5)",
          "AGREE:(5)",
          "AGREE:(5)",
          "AGREE:(5)",
          "AGREE:(5)",
          "AGREE:(5)",
          1,
          "AGREE:(5)",
          "AGREE:(5)",
          "AGREE:(5)",
          "AGREE:(5)",
          "AGREE:(5)",
          "AGREE:(5)",
          "AGREE:(5)",
          3,
          "AGREE:(5)",
          3,
          "AGREE:(5)",
          "AGREE:(5)",
          1,
          "AGREE:(5)",
          "AGREE:(5)",
          "AGREE:(5)",
          "AGREE:(5)",
          "AGREE:(5)",
          3,
          "AGREE:(5)",
          3,
          "AGREE:(5)",
          3,
          3,
          "AGREE:(5)",
          1,
          "AGREE:(5)",
          2,
          "AGREE:(5)",
          "AGREE:(5)",
          "AGREE:(5)",
          "AGREE:(5)",
          "AGREE:(5)",
          "AGREE:(5)",
          "AGREE:(5)",
          2,
          "AGREE:(5)",
          "AGREE:(5)",
          "AGREE:(5)",
          "AGREE:(5)",
          "AGREE:(5)",
          "AGREE:(5)",
          "AGREE:(5)",
          1,
          "AGREE:(5)",
          "AGREE:(5)",
          2,
          "AGREE:(5)",
          3,
          "AGREE:(5)",
          "AGREE:(5)",
          "AGREE:(5)",
          2,
          3,
          "AGREE:(5)",
          "AGREE:(5)",
          "AGREE:(5)",
          "AGREE:(5)",
          "AGREE:(5)",
          "AGREE:(5)",
          "AGREE:(5)",
          "AGREE:(5)",
          "AGREE:(5)",
          "AGREE:(5)",
          "AGREE:(5)",
          "AGREE:(5)",
          "AGREE:(5)",
          2,
          "AGREE:(5)",
          "AGREE:(5)",
          "AGREE:(5)",
          "AGREE:(5)",
          "AGREE:(5)",
          3,
          1,
          "AGREE:(5)",
          "AGREE:(5)",
          "AGREE:(5)",
          "AGREE:(5)",
          "AGREE:(5)",
          "AGREE:(5)",
          "AGREE:(5)",
          "AGREE:(5)",
          "AGREE:(5)",
          1,
          2,
          1,
          1,
          "AGREE:(5)",
          3,
          "AGREE:(5)",
          "AGREE:(5)",
          3,
          3,
          "AGREE:(5)",
          "AGREE:(5)",
          "AGREE:(5)",
          "AGREE:(5)",
          3,
          "AGREE:(5)",
          "AGREE:(5)",
          "AGREE:(5)",
          "AGREE:(5)",
          "AGREE:(5)",
          3,
          "AGREE:(5)",
          "AGREE:(5)",
          "AGREE:(5)",
          "AGREE:(5)",
          "AGREE:(5)",
          "AGREE:(5)",
          "AGREE:(5)",
          "AGREE:(5)",
          "AGREE:(5)",
          "AGREE:(5)",
          "AGREE:(5)",
          "AGREE:(5)",
          "AGREE:(5)",
          "AGREE:(5)",
          "AGREE:(5)",
          "AGREE:(5)",
          "AGREE:(5)",
          "AGREE:(5)",
          "AGREE:(5)",
          "AGREE:(5)",
          "AGREE:(5)",
          "AGREE:(5)",
          "AGREE:(5)",
          "AGREE:(5)",
          "AGREE:(5)",
          "AGREE:(5)",
          "AGREE:(5)",
          "AGREE:(5)",
          "AGREE:(5)",
          2,
          3,
          "AGREE:(5)",
          3,
          "AGREE:(5)",
          "AGREE:(5)",
          "AGREE:(5)",
          "AGREE:(5)",
          3,
          1,
          "AGREE:(5)",
          "AGREE:(5)",
          "AGREE:(5)",
          "AGREE:(5)",
          "AGREE:(5)",
          3,
          "AGREE:(5)",
          "AGREE:(5)",
          "AGREE:(5)",
          "AGREE:(5)",
          "AGREE:(5)",
          "AGREE:(5)",
          2,
          "AGREE:(5)",
          "AGREE:(5)",
          2,
          3
         ],
         "y0": " ",
         "yaxis": "y"
        }
       ],
       "layout": {
        "boxmode": "group",
        "legend": {
         "tracegroupgap": 0
        },
        "template": {
         "data": {
          "bar": [
           {
            "error_x": {
             "color": "rgb(36,36,36)"
            },
            "error_y": {
             "color": "rgb(36,36,36)"
            },
            "marker": {
             "line": {
              "color": "white",
              "width": 0.5
             },
             "pattern": {
              "fillmode": "overlay",
              "size": 10,
              "solidity": 0.2
             }
            },
            "type": "bar"
           }
          ],
          "barpolar": [
           {
            "marker": {
             "line": {
              "color": "white",
              "width": 0.5
             },
             "pattern": {
              "fillmode": "overlay",
              "size": 10,
              "solidity": 0.2
             }
            },
            "type": "barpolar"
           }
          ],
          "carpet": [
           {
            "aaxis": {
             "endlinecolor": "rgb(36,36,36)",
             "gridcolor": "white",
             "linecolor": "white",
             "minorgridcolor": "white",
             "startlinecolor": "rgb(36,36,36)"
            },
            "baxis": {
             "endlinecolor": "rgb(36,36,36)",
             "gridcolor": "white",
             "linecolor": "white",
             "minorgridcolor": "white",
             "startlinecolor": "rgb(36,36,36)"
            },
            "type": "carpet"
           }
          ],
          "choropleth": [
           {
            "colorbar": {
             "outlinewidth": 1,
             "tickcolor": "rgb(36,36,36)",
             "ticks": "outside"
            },
            "type": "choropleth"
           }
          ],
          "contour": [
           {
            "colorbar": {
             "outlinewidth": 1,
             "tickcolor": "rgb(36,36,36)",
             "ticks": "outside"
            },
            "colorscale": [
             [
              0,
              "#440154"
             ],
             [
              0.1111111111111111,
              "#482878"
             ],
             [
              0.2222222222222222,
              "#3e4989"
             ],
             [
              0.3333333333333333,
              "#31688e"
             ],
             [
              0.4444444444444444,
              "#26828e"
             ],
             [
              0.5555555555555556,
              "#1f9e89"
             ],
             [
              0.6666666666666666,
              "#35b779"
             ],
             [
              0.7777777777777778,
              "#6ece58"
             ],
             [
              0.8888888888888888,
              "#b5de2b"
             ],
             [
              1,
              "#fde725"
             ]
            ],
            "type": "contour"
           }
          ],
          "contourcarpet": [
           {
            "colorbar": {
             "outlinewidth": 1,
             "tickcolor": "rgb(36,36,36)",
             "ticks": "outside"
            },
            "type": "contourcarpet"
           }
          ],
          "heatmap": [
           {
            "colorbar": {
             "outlinewidth": 1,
             "tickcolor": "rgb(36,36,36)",
             "ticks": "outside"
            },
            "colorscale": [
             [
              0,
              "#440154"
             ],
             [
              0.1111111111111111,
              "#482878"
             ],
             [
              0.2222222222222222,
              "#3e4989"
             ],
             [
              0.3333333333333333,
              "#31688e"
             ],
             [
              0.4444444444444444,
              "#26828e"
             ],
             [
              0.5555555555555556,
              "#1f9e89"
             ],
             [
              0.6666666666666666,
              "#35b779"
             ],
             [
              0.7777777777777778,
              "#6ece58"
             ],
             [
              0.8888888888888888,
              "#b5de2b"
             ],
             [
              1,
              "#fde725"
             ]
            ],
            "type": "heatmap"
           }
          ],
          "heatmapgl": [
           {
            "colorbar": {
             "outlinewidth": 1,
             "tickcolor": "rgb(36,36,36)",
             "ticks": "outside"
            },
            "colorscale": [
             [
              0,
              "#440154"
             ],
             [
              0.1111111111111111,
              "#482878"
             ],
             [
              0.2222222222222222,
              "#3e4989"
             ],
             [
              0.3333333333333333,
              "#31688e"
             ],
             [
              0.4444444444444444,
              "#26828e"
             ],
             [
              0.5555555555555556,
              "#1f9e89"
             ],
             [
              0.6666666666666666,
              "#35b779"
             ],
             [
              0.7777777777777778,
              "#6ece58"
             ],
             [
              0.8888888888888888,
              "#b5de2b"
             ],
             [
              1,
              "#fde725"
             ]
            ],
            "type": "heatmapgl"
           }
          ],
          "histogram": [
           {
            "marker": {
             "line": {
              "color": "white",
              "width": 0.6
             }
            },
            "type": "histogram"
           }
          ],
          "histogram2d": [
           {
            "colorbar": {
             "outlinewidth": 1,
             "tickcolor": "rgb(36,36,36)",
             "ticks": "outside"
            },
            "colorscale": [
             [
              0,
              "#440154"
             ],
             [
              0.1111111111111111,
              "#482878"
             ],
             [
              0.2222222222222222,
              "#3e4989"
             ],
             [
              0.3333333333333333,
              "#31688e"
             ],
             [
              0.4444444444444444,
              "#26828e"
             ],
             [
              0.5555555555555556,
              "#1f9e89"
             ],
             [
              0.6666666666666666,
              "#35b779"
             ],
             [
              0.7777777777777778,
              "#6ece58"
             ],
             [
              0.8888888888888888,
              "#b5de2b"
             ],
             [
              1,
              "#fde725"
             ]
            ],
            "type": "histogram2d"
           }
          ],
          "histogram2dcontour": [
           {
            "colorbar": {
             "outlinewidth": 1,
             "tickcolor": "rgb(36,36,36)",
             "ticks": "outside"
            },
            "colorscale": [
             [
              0,
              "#440154"
             ],
             [
              0.1111111111111111,
              "#482878"
             ],
             [
              0.2222222222222222,
              "#3e4989"
             ],
             [
              0.3333333333333333,
              "#31688e"
             ],
             [
              0.4444444444444444,
              "#26828e"
             ],
             [
              0.5555555555555556,
              "#1f9e89"
             ],
             [
              0.6666666666666666,
              "#35b779"
             ],
             [
              0.7777777777777778,
              "#6ece58"
             ],
             [
              0.8888888888888888,
              "#b5de2b"
             ],
             [
              1,
              "#fde725"
             ]
            ],
            "type": "histogram2dcontour"
           }
          ],
          "mesh3d": [
           {
            "colorbar": {
             "outlinewidth": 1,
             "tickcolor": "rgb(36,36,36)",
             "ticks": "outside"
            },
            "type": "mesh3d"
           }
          ],
          "parcoords": [
           {
            "line": {
             "colorbar": {
              "outlinewidth": 1,
              "tickcolor": "rgb(36,36,36)",
              "ticks": "outside"
             }
            },
            "type": "parcoords"
           }
          ],
          "pie": [
           {
            "automargin": true,
            "type": "pie"
           }
          ],
          "scatter": [
           {
            "fillpattern": {
             "fillmode": "overlay",
             "size": 10,
             "solidity": 0.2
            },
            "type": "scatter"
           }
          ],
          "scatter3d": [
           {
            "line": {
             "colorbar": {
              "outlinewidth": 1,
              "tickcolor": "rgb(36,36,36)",
              "ticks": "outside"
             }
            },
            "marker": {
             "colorbar": {
              "outlinewidth": 1,
              "tickcolor": "rgb(36,36,36)",
              "ticks": "outside"
             }
            },
            "type": "scatter3d"
           }
          ],
          "scattercarpet": [
           {
            "marker": {
             "colorbar": {
              "outlinewidth": 1,
              "tickcolor": "rgb(36,36,36)",
              "ticks": "outside"
             }
            },
            "type": "scattercarpet"
           }
          ],
          "scattergeo": [
           {
            "marker": {
             "colorbar": {
              "outlinewidth": 1,
              "tickcolor": "rgb(36,36,36)",
              "ticks": "outside"
             }
            },
            "type": "scattergeo"
           }
          ],
          "scattergl": [
           {
            "marker": {
             "colorbar": {
              "outlinewidth": 1,
              "tickcolor": "rgb(36,36,36)",
              "ticks": "outside"
             }
            },
            "type": "scattergl"
           }
          ],
          "scattermapbox": [
           {
            "marker": {
             "colorbar": {
              "outlinewidth": 1,
              "tickcolor": "rgb(36,36,36)",
              "ticks": "outside"
             }
            },
            "type": "scattermapbox"
           }
          ],
          "scatterpolar": [
           {
            "marker": {
             "colorbar": {
              "outlinewidth": 1,
              "tickcolor": "rgb(36,36,36)",
              "ticks": "outside"
             }
            },
            "type": "scatterpolar"
           }
          ],
          "scatterpolargl": [
           {
            "marker": {
             "colorbar": {
              "outlinewidth": 1,
              "tickcolor": "rgb(36,36,36)",
              "ticks": "outside"
             }
            },
            "type": "scatterpolargl"
           }
          ],
          "scatterternary": [
           {
            "marker": {
             "colorbar": {
              "outlinewidth": 1,
              "tickcolor": "rgb(36,36,36)",
              "ticks": "outside"
             }
            },
            "type": "scatterternary"
           }
          ],
          "surface": [
           {
            "colorbar": {
             "outlinewidth": 1,
             "tickcolor": "rgb(36,36,36)",
             "ticks": "outside"
            },
            "colorscale": [
             [
              0,
              "#440154"
             ],
             [
              0.1111111111111111,
              "#482878"
             ],
             [
              0.2222222222222222,
              "#3e4989"
             ],
             [
              0.3333333333333333,
              "#31688e"
             ],
             [
              0.4444444444444444,
              "#26828e"
             ],
             [
              0.5555555555555556,
              "#1f9e89"
             ],
             [
              0.6666666666666666,
              "#35b779"
             ],
             [
              0.7777777777777778,
              "#6ece58"
             ],
             [
              0.8888888888888888,
              "#b5de2b"
             ],
             [
              1,
              "#fde725"
             ]
            ],
            "type": "surface"
           }
          ],
          "table": [
           {
            "cells": {
             "fill": {
              "color": "rgb(237,237,237)"
             },
             "line": {
              "color": "white"
             }
            },
            "header": {
             "fill": {
              "color": "rgb(217,217,217)"
             },
             "line": {
              "color": "white"
             }
            },
            "type": "table"
           }
          ]
         },
         "layout": {
          "annotationdefaults": {
           "arrowhead": 0,
           "arrowwidth": 1
          },
          "autosize": true,
          "autotypenumbers": "strict",
          "coloraxis": {
           "colorbar": {
            "outlinewidth": 1,
            "tickcolor": "rgb(36,36,36)",
            "ticks": "outside"
           }
          },
          "colorscale": {
           "diverging": [
            [
             0,
             "rgb(103,0,31)"
            ],
            [
             0.1,
             "rgb(178,24,43)"
            ],
            [
             0.2,
             "rgb(214,96,77)"
            ],
            [
             0.3,
             "rgb(244,165,130)"
            ],
            [
             0.4,
             "rgb(253,219,199)"
            ],
            [
             0.5,
             "rgb(247,247,247)"
            ],
            [
             0.6,
             "rgb(209,229,240)"
            ],
            [
             0.7,
             "rgb(146,197,222)"
            ],
            [
             0.8,
             "rgb(67,147,195)"
            ],
            [
             0.9,
             "rgb(33,102,172)"
            ],
            [
             1,
             "rgb(5,48,97)"
            ]
           ],
           "sequential": [
            [
             0,
             "#440154"
            ],
            [
             0.1111111111111111,
             "#482878"
            ],
            [
             0.2222222222222222,
             "#3e4989"
            ],
            [
             0.3333333333333333,
             "#31688e"
            ],
            [
             0.4444444444444444,
             "#26828e"
            ],
            [
             0.5555555555555556,
             "#1f9e89"
            ],
            [
             0.6666666666666666,
             "#35b779"
            ],
            [
             0.7777777777777778,
             "#6ece58"
            ],
            [
             0.8888888888888888,
             "#b5de2b"
            ],
            [
             1,
             "#fde725"
            ]
           ],
           "sequentialminus": [
            [
             0,
             "#440154"
            ],
            [
             0.1111111111111111,
             "#482878"
            ],
            [
             0.2222222222222222,
             "#3e4989"
            ],
            [
             0.3333333333333333,
             "#31688e"
            ],
            [
             0.4444444444444444,
             "#26828e"
            ],
            [
             0.5555555555555556,
             "#1f9e89"
            ],
            [
             0.6666666666666666,
             "#35b779"
            ],
            [
             0.7777777777777778,
             "#6ece58"
            ],
            [
             0.8888888888888888,
             "#b5de2b"
            ],
            [
             1,
             "#fde725"
            ]
           ]
          },
          "colorway": [
           "#1F77B4",
           "#FF7F0E",
           "#2CA02C",
           "#D62728",
           "#9467BD",
           "#8C564B",
           "#E377C2",
           "#7F7F7F",
           "#BCBD22",
           "#17BECF"
          ],
          "font": {
           "color": "rgb(36,36,36)"
          },
          "geo": {
           "bgcolor": "white",
           "lakecolor": "white",
           "landcolor": "white",
           "showlakes": true,
           "showland": true,
           "subunitcolor": "white"
          },
          "height": 400,
          "hoverlabel": {
           "align": "left"
          },
          "hovermode": "closest",
          "mapbox": {
           "style": "light"
          },
          "margin": {
           "b": 30,
           "l": 30,
           "r": 30,
           "t": 30
          },
          "paper_bgcolor": "white",
          "plot_bgcolor": "white",
          "polar": {
           "angularaxis": {
            "gridcolor": "rgb(232,232,232)",
            "linecolor": "rgb(36,36,36)",
            "showgrid": false,
            "showline": true,
            "ticks": "outside"
           },
           "bgcolor": "white",
           "radialaxis": {
            "gridcolor": "rgb(232,232,232)",
            "linecolor": "rgb(36,36,36)",
            "showgrid": false,
            "showline": true,
            "ticks": "outside"
           }
          },
          "scene": {
           "xaxis": {
            "backgroundcolor": "white",
            "gridcolor": "rgb(232,232,232)",
            "gridwidth": 2,
            "linecolor": "rgb(36,36,36)",
            "showbackground": true,
            "showgrid": false,
            "showline": true,
            "ticks": "outside",
            "zeroline": false,
            "zerolinecolor": "rgb(36,36,36)"
           },
           "yaxis": {
            "backgroundcolor": "white",
            "gridcolor": "rgb(232,232,232)",
            "gridwidth": 2,
            "linecolor": "rgb(36,36,36)",
            "showbackground": true,
            "showgrid": false,
            "showline": true,
            "ticks": "outside",
            "zeroline": false,
            "zerolinecolor": "rgb(36,36,36)"
           },
           "zaxis": {
            "backgroundcolor": "white",
            "gridcolor": "rgb(232,232,232)",
            "gridwidth": 2,
            "linecolor": "rgb(36,36,36)",
            "showbackground": true,
            "showgrid": false,
            "showline": true,
            "ticks": "outside",
            "zeroline": false,
            "zerolinecolor": "rgb(36,36,36)"
           }
          },
          "shapedefaults": {
           "fillcolor": "black",
           "line": {
            "width": 0
           },
           "opacity": 0.3
          },
          "ternary": {
           "aaxis": {
            "gridcolor": "rgb(232,232,232)",
            "linecolor": "rgb(36,36,36)",
            "showgrid": false,
            "showline": true,
            "ticks": "outside"
           },
           "baxis": {
            "gridcolor": "rgb(232,232,232)",
            "linecolor": "rgb(36,36,36)",
            "showgrid": false,
            "showline": true,
            "ticks": "outside"
           },
           "bgcolor": "white",
           "caxis": {
            "gridcolor": "rgb(232,232,232)",
            "linecolor": "rgb(36,36,36)",
            "showgrid": false,
            "showline": true,
            "ticks": "outside"
           }
          },
          "title": {
           "x": 0.5,
           "xanchor": "center"
          },
          "width": 600,
          "xaxis": {
           "automargin": true,
           "gridcolor": "rgb(232,232,232)",
           "linecolor": "rgb(36,36,36)",
           "showgrid": true,
           "showline": true,
           "ticks": "outside",
           "title": {
            "standoff": 15
           },
           "zeroline": false,
           "zerolinecolor": "rgb(36,36,36)"
          },
          "yaxis": {
           "automargin": true,
           "gridcolor": "rgb(232,232,232)",
           "linecolor": "rgb(36,36,36)",
           "showgrid": true,
           "showline": true,
           "ticks": "outside",
           "title": {
            "standoff": 15
           },
           "zeroline": false,
           "zerolinecolor": "rgb(36,36,36)"
          }
         }
        },
        "title": {
         "text": "Sex and Social Networks Size (Friends)"
        },
        "xaxis": {
         "anchor": "y",
         "domain": [
          0,
          1
         ],
         "title": {
          "text": "Sex"
         }
        },
        "yaxis": {
         "anchor": "x",
         "domain": [
          0,
          1
         ],
         "title": {
          "text": "Cosistent group of friends?"
         }
        }
       }
      }
     },
     "metadata": {},
     "output_type": "display_data"
    }
   ],
   "source": [
    "px.box(dfscat, x=\"V2150\", y=\"V5324\", title=\"Sex and Social Networks Size (Friends)\",\n",
    "       labels={\"V2150\":\"Sex\", \"V5324\":\"Cosistent group of friends?\"})"
   ]
  },
  {
   "cell_type": "code",
   "execution_count": 53,
   "metadata": {},
   "outputs": [],
   "source": [
    "fig.write_html(\"/Users/macbook/Desktop/EECS389/398_mtf/plot3BS.html\", include_plotlyjs='cdn')"
   ]
  },
  {
   "cell_type": "markdown",
   "metadata": {},
   "source": [
    "## Step 3: Framing a Prediction Problem"
   ]
  },
  {
   "cell_type": "code",
   "execution_count": null,
   "metadata": {
    "ExecuteTime": {
     "end_time": "2019-10-31T23:36:28.657068Z",
     "start_time": "2019-10-31T23:36:28.654650Z"
    }
   },
   "outputs": [
    {
     "data": {
      "image/svg+xml": [
       "<?xml version=\"1.0\" encoding=\"utf-8\" standalone=\"no\"?>\n",
       "<!DOCTYPE svg PUBLIC \"-//W3C//DTD SVG 1.1//EN\"\n",
       "  \"http://www.w3.org/Graphics/SVG/1.1/DTD/svg11.dtd\">\n",
       "<svg xmlns:xlink=\"http://www.w3.org/1999/xlink\" width=\"407.174063pt\" height=\"350.398438pt\" viewBox=\"0 0 407.174063 350.398438\" xmlns=\"http://www.w3.org/2000/svg\" version=\"1.1\">\n",
       " <metadata>\n",
       "  <rdf:RDF xmlns:dc=\"http://purl.org/dc/elements/1.1/\" xmlns:cc=\"http://creativecommons.org/ns#\" xmlns:rdf=\"http://www.w3.org/1999/02/22-rdf-syntax-ns#\">\n",
       "   <cc:Work>\n",
       "    <dc:type rdf:resource=\"http://purl.org/dc/dcmitype/StillImage\"/>\n",
       "    <dc:date>2024-12-07T01:50:38.329624</dc:date>\n",
       "    <dc:format>image/svg+xml</dc:format>\n",
       "    <dc:creator>\n",
       "     <cc:Agent>\n",
       "      <dc:title>Matplotlib v3.9.2, https://matplotlib.org/</dc:title>\n",
       "     </cc:Agent>\n",
       "    </dc:creator>\n",
       "   </cc:Work>\n",
       "  </rdf:RDF>\n",
       " </metadata>\n",
       " <defs>\n",
       "  <style type=\"text/css\">*{stroke-linejoin: round; stroke-linecap: butt}</style>\n",
       " </defs>\n",
       " <g id=\"figure_1\">\n",
       "  <g id=\"patch_1\">\n",
       "   <path d=\"M 0 350.398438 \n",
       "L 407.174063 350.398438 \n",
       "L 407.174063 0 \n",
       "L 0 0 \n",
       "z\n",
       "\" style=\"fill: #ffffff\"/>\n",
       "  </g>\n",
       "  <g id=\"axes_1\">\n",
       "   <g id=\"patch_2\">\n",
       "    <path d=\"M 34.934063 307.57875 \n",
       "L 312.134063 307.57875 \n",
       "L 312.134063 30.37875 \n",
       "L 34.934063 30.37875 \n",
       "z\n",
       "\" style=\"fill: #ffffff\"/>\n",
       "   </g>\n",
       "   <g clip-path=\"url(#p133ca74583)\">\n",
       "    <image xlink:href=\"data:image/png;base64,\n",
       "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\" id=\"image7e351bd20a\" transform=\"scale(1 -1) translate(0 -277.2)\" x=\"34.934063\" y=\"-30.37875\" width=\"277.92\" height=\"277.2\"/>\n",
       "   </g>\n",
       "   <g id=\"matplotlib.axis_1\">\n",
       "    <g id=\"xtick_1\">\n",
       "     <g id=\"line2d_1\">\n",
       "      <path d=\"M 48.794063 307.57875 \n",
       "L 48.794063 30.37875 \n",
       "\" clip-path=\"url(#p133ca74583)\" style=\"fill: none; stroke: #cccccc; stroke-width: 2; stroke-linecap: round\"/>\n",
       "     </g>\n",
       "     <g id=\"text_1\">\n",
       "      <!-- 0.0 -->\n",
       "      <g style=\"fill: #262626\" transform=\"translate(33.504063 338.825938) scale(0.22 -0.22)\">\n",
       "       <defs>\n",
       "        <path id=\"ArialMT-30\" d=\"M 266 2259 \n",
       "Q 266 3072 433 3567 \n",
       "Q 600 4063 929 4331 \n",
       "Q 1259 4600 1759 4600 \n",
       "Q 2128 4600 2406 4451 \n",
       "Q 2684 4303 2865 4023 \n",
       "Q 3047 3744 3150 3342 \n",
       "Q 3253 2941 3253 2259 \n",
       "Q 3253 1453 3087 958 \n",
       "Q 2922 463 2592 192 \n",
       "Q 2263 -78 1759 -78 \n",
       "Q 1097 -78 719 397 \n",
       "Q 266 969 266 2259 \n",
       "z\n",
       "M 844 2259 \n",
       "Q 844 1131 1108 757 \n",
       "Q 1372 384 1759 384 \n",
       "Q 2147 384 2411 759 \n",
       "Q 2675 1134 2675 2259 \n",
       "Q 2675 3391 2411 3762 \n",
       "Q 2147 4134 1753 4134 \n",
       "Q 1366 4134 1134 3806 \n",
       "Q 844 3388 844 2259 \n",
       "z\n",
       "\" transform=\"scale(0.015625)\"/>\n",
       "        <path id=\"ArialMT-2e\" d=\"M 581 0 \n",
       "L 581 641 \n",
       "L 1222 641 \n",
       "L 1222 0 \n",
       "L 581 0 \n",
       "z\n",
       "\" transform=\"scale(0.015625)\"/>\n",
       "       </defs>\n",
       "       <use xlink:href=\"#ArialMT-30\"/>\n",
       "       <use xlink:href=\"#ArialMT-2e\" x=\"55.615234\"/>\n",
       "       <use xlink:href=\"#ArialMT-30\" x=\"83.398438\"/>\n",
       "      </g>\n",
       "     </g>\n",
       "    </g>\n",
       "    <g id=\"xtick_2\">\n",
       "     <g id=\"line2d_2\">\n",
       "      <path d=\"M 118.094063 307.57875 \n",
       "L 118.094063 30.37875 \n",
       "\" clip-path=\"url(#p133ca74583)\" style=\"fill: none; stroke: #cccccc; stroke-width: 2; stroke-linecap: round\"/>\n",
       "     </g>\n",
       "     <g id=\"text_2\">\n",
       "      <!-- 2.5 -->\n",
       "      <g style=\"fill: #262626\" transform=\"translate(102.804063 338.825938) scale(0.22 -0.22)\">\n",
       "       <defs>\n",
       "        <path id=\"ArialMT-32\" d=\"M 3222 541 \n",
       "L 3222 0 \n",
       "L 194 0 \n",
       "Q 188 203 259 391 \n",
       "Q 375 700 629 1000 \n",
       "Q 884 1300 1366 1694 \n",
       "Q 2113 2306 2375 2664 \n",
       "Q 2638 3022 2638 3341 \n",
       "Q 2638 3675 2398 3904 \n",
       "Q 2159 4134 1775 4134 \n",
       "Q 1369 4134 1125 3890 \n",
       "Q 881 3647 878 3216 \n",
       "L 300 3275 \n",
       "Q 359 3922 746 4261 \n",
       "Q 1134 4600 1788 4600 \n",
       "Q 2447 4600 2831 4234 \n",
       "Q 3216 3869 3216 3328 \n",
       "Q 3216 3053 3103 2787 \n",
       "Q 2991 2522 2730 2228 \n",
       "Q 2469 1934 1863 1422 \n",
       "Q 1356 997 1212 845 \n",
       "Q 1069 694 975 541 \n",
       "L 3222 541 \n",
       "z\n",
       "\" transform=\"scale(0.015625)\"/>\n",
       "        <path id=\"ArialMT-35\" d=\"M 266 1200 \n",
       "L 856 1250 \n",
       "Q 922 819 1161 601 \n",
       "Q 1400 384 1738 384 \n",
       "Q 2144 384 2425 690 \n",
       "Q 2706 997 2706 1503 \n",
       "Q 2706 1984 2436 2262 \n",
       "Q 2166 2541 1728 2541 \n",
       "Q 1456 2541 1237 2417 \n",
       "Q 1019 2294 894 2097 \n",
       "L 366 2166 \n",
       "L 809 4519 \n",
       "L 3088 4519 \n",
       "L 3088 3981 \n",
       "L 1259 3981 \n",
       "L 1013 2750 \n",
       "Q 1425 3038 1878 3038 \n",
       "Q 2478 3038 2890 2622 \n",
       "Q 3303 2206 3303 1553 \n",
       "Q 3303 931 2941 478 \n",
       "Q 2500 -78 1738 -78 \n",
       "Q 1113 -78 717 272 \n",
       "Q 322 622 266 1200 \n",
       "z\n",
       "\" transform=\"scale(0.015625)\"/>\n",
       "       </defs>\n",
       "       <use xlink:href=\"#ArialMT-32\"/>\n",
       "       <use xlink:href=\"#ArialMT-2e\" x=\"55.615234\"/>\n",
       "       <use xlink:href=\"#ArialMT-35\" x=\"83.398438\"/>\n",
       "      </g>\n",
       "     </g>\n",
       "    </g>\n",
       "    <g id=\"xtick_3\">\n",
       "     <g id=\"line2d_3\">\n",
       "      <path d=\"M 187.394063 307.57875 \n",
       "L 187.394063 30.37875 \n",
       "\" clip-path=\"url(#p133ca74583)\" style=\"fill: none; stroke: #cccccc; stroke-width: 2; stroke-linecap: round\"/>\n",
       "     </g>\n",
       "     <g id=\"text_3\">\n",
       "      <!-- 5.0 -->\n",
       "      <g style=\"fill: #262626\" transform=\"translate(172.104063 338.825938) scale(0.22 -0.22)\">\n",
       "       <use xlink:href=\"#ArialMT-35\"/>\n",
       "       <use xlink:href=\"#ArialMT-2e\" x=\"55.615234\"/>\n",
       "       <use xlink:href=\"#ArialMT-30\" x=\"83.398438\"/>\n",
       "      </g>\n",
       "     </g>\n",
       "    </g>\n",
       "    <g id=\"xtick_4\">\n",
       "     <g id=\"line2d_4\">\n",
       "      <path d=\"M 256.694063 307.57875 \n",
       "L 256.694063 30.37875 \n",
       "\" clip-path=\"url(#p133ca74583)\" style=\"fill: none; stroke: #cccccc; stroke-width: 2; stroke-linecap: round\"/>\n",
       "     </g>\n",
       "     <g id=\"text_4\">\n",
       "      <!-- 7.5 -->\n",
       "      <g style=\"fill: #262626\" transform=\"translate(241.404063 338.825938) scale(0.22 -0.22)\">\n",
       "       <defs>\n",
       "        <path id=\"ArialMT-37\" d=\"M 303 3981 \n",
       "L 303 4522 \n",
       "L 3269 4522 \n",
       "L 3269 4084 \n",
       "Q 2831 3619 2401 2847 \n",
       "Q 1972 2075 1738 1259 \n",
       "Q 1569 684 1522 0 \n",
       "L 944 0 \n",
       "Q 953 541 1156 1306 \n",
       "Q 1359 2072 1739 2783 \n",
       "Q 2119 3494 2547 3981 \n",
       "L 303 3981 \n",
       "z\n",
       "\" transform=\"scale(0.015625)\"/>\n",
       "       </defs>\n",
       "       <use xlink:href=\"#ArialMT-37\"/>\n",
       "       <use xlink:href=\"#ArialMT-2e\" x=\"55.615234\"/>\n",
       "       <use xlink:href=\"#ArialMT-35\" x=\"83.398438\"/>\n",
       "      </g>\n",
       "     </g>\n",
       "    </g>\n",
       "   </g>\n",
       "   <g id=\"matplotlib.axis_2\">\n",
       "    <g id=\"ytick_1\">\n",
       "     <g id=\"line2d_5\">\n",
       "      <path d=\"M 34.934063 44.23875 \n",
       "L 312.134063 44.23875 \n",
       "\" clip-path=\"url(#p133ca74583)\" style=\"fill: none; stroke: #cccccc; stroke-width: 2; stroke-linecap: round\"/>\n",
       "     </g>\n",
       "     <g id=\"text_5\">\n",
       "      <!-- 0 -->\n",
       "      <g style=\"fill: #262626\" transform=\"translate(7.2 52.112344) scale(0.22 -0.22)\">\n",
       "       <use xlink:href=\"#ArialMT-30\"/>\n",
       "      </g>\n",
       "     </g>\n",
       "    </g>\n",
       "    <g id=\"ytick_2\">\n",
       "     <g id=\"line2d_6\">\n",
       "      <path d=\"M 34.934063 99.67875 \n",
       "L 312.134063 99.67875 \n",
       "\" clip-path=\"url(#p133ca74583)\" style=\"fill: none; stroke: #cccccc; stroke-width: 2; stroke-linecap: round\"/>\n",
       "     </g>\n",
       "     <g id=\"text_6\">\n",
       "      <!-- 2 -->\n",
       "      <g style=\"fill: #262626\" transform=\"translate(7.2 107.552344) scale(0.22 -0.22)\">\n",
       "       <use xlink:href=\"#ArialMT-32\"/>\n",
       "      </g>\n",
       "     </g>\n",
       "    </g>\n",
       "    <g id=\"ytick_3\">\n",
       "     <g id=\"line2d_7\">\n",
       "      <path d=\"M 34.934063 155.11875 \n",
       "L 312.134063 155.11875 \n",
       "\" clip-path=\"url(#p133ca74583)\" style=\"fill: none; stroke: #cccccc; stroke-width: 2; stroke-linecap: round\"/>\n",
       "     </g>\n",
       "     <g id=\"text_7\">\n",
       "      <!-- 4 -->\n",
       "      <g style=\"fill: #262626\" transform=\"translate(7.2 162.992344) scale(0.22 -0.22)\">\n",
       "       <defs>\n",
       "        <path id=\"ArialMT-34\" d=\"M 2069 0 \n",
       "L 2069 1097 \n",
       "L 81 1097 \n",
       "L 81 1613 \n",
       "L 2172 4581 \n",
       "L 2631 4581 \n",
       "L 2631 1613 \n",
       "L 3250 1613 \n",
       "L 3250 1097 \n",
       "L 2631 1097 \n",
       "L 2631 0 \n",
       "L 2069 0 \n",
       "z\n",
       "M 2069 1613 \n",
       "L 2069 3678 \n",
       "L 634 1613 \n",
       "L 2069 1613 \n",
       "z\n",
       "\" transform=\"scale(0.015625)\"/>\n",
       "       </defs>\n",
       "       <use xlink:href=\"#ArialMT-34\"/>\n",
       "      </g>\n",
       "     </g>\n",
       "    </g>\n",
       "    <g id=\"ytick_4\">\n",
       "     <g id=\"line2d_8\">\n",
       "      <path d=\"M 34.934063 210.55875 \n",
       "L 312.134063 210.55875 \n",
       "\" clip-path=\"url(#p133ca74583)\" style=\"fill: none; stroke: #cccccc; stroke-width: 2; stroke-linecap: round\"/>\n",
       "     </g>\n",
       "     <g id=\"text_8\">\n",
       "      <!-- 6 -->\n",
       "      <g style=\"fill: #262626\" transform=\"translate(7.2 218.432344) scale(0.22 -0.22)\">\n",
       "       <defs>\n",
       "        <path id=\"ArialMT-36\" d=\"M 3184 3459 \n",
       "L 2625 3416 \n",
       "Q 2550 3747 2413 3897 \n",
       "Q 2184 4138 1850 4138 \n",
       "Q 1581 4138 1378 3988 \n",
       "Q 1113 3794 959 3422 \n",
       "Q 806 3050 800 2363 \n",
       "Q 1003 2672 1297 2822 \n",
       "Q 1591 2972 1913 2972 \n",
       "Q 2475 2972 2870 2558 \n",
       "Q 3266 2144 3266 1488 \n",
       "Q 3266 1056 3080 686 \n",
       "Q 2894 316 2569 119 \n",
       "Q 2244 -78 1831 -78 \n",
       "Q 1128 -78 684 439 \n",
       "Q 241 956 241 2144 \n",
       "Q 241 3472 731 4075 \n",
       "Q 1159 4600 1884 4600 \n",
       "Q 2425 4600 2770 4297 \n",
       "Q 3116 3994 3184 3459 \n",
       "z\n",
       "M 888 1484 \n",
       "Q 888 1194 1011 928 \n",
       "Q 1134 663 1356 523 \n",
       "Q 1578 384 1822 384 \n",
       "Q 2178 384 2434 671 \n",
       "Q 2691 959 2691 1453 \n",
       "Q 2691 1928 2437 2201 \n",
       "Q 2184 2475 1800 2475 \n",
       "Q 1419 2475 1153 2201 \n",
       "Q 888 1928 888 1484 \n",
       "z\n",
       "\" transform=\"scale(0.015625)\"/>\n",
       "       </defs>\n",
       "       <use xlink:href=\"#ArialMT-36\"/>\n",
       "      </g>\n",
       "     </g>\n",
       "    </g>\n",
       "    <g id=\"ytick_5\">\n",
       "     <g id=\"line2d_9\">\n",
       "      <path d=\"M 34.934063 265.99875 \n",
       "L 312.134063 265.99875 \n",
       "\" clip-path=\"url(#p133ca74583)\" style=\"fill: none; stroke: #cccccc; stroke-width: 2; stroke-linecap: round\"/>\n",
       "     </g>\n",
       "     <g id=\"text_9\">\n",
       "      <!-- 8 -->\n",
       "      <g style=\"fill: #262626\" transform=\"translate(7.2 273.872344) scale(0.22 -0.22)\">\n",
       "       <defs>\n",
       "        <path id=\"ArialMT-38\" d=\"M 1131 2484 \n",
       "Q 781 2613 612 2850 \n",
       "Q 444 3088 444 3419 \n",
       "Q 444 3919 803 4259 \n",
       "Q 1163 4600 1759 4600 \n",
       "Q 2359 4600 2725 4251 \n",
       "Q 3091 3903 3091 3403 \n",
       "Q 3091 3084 2923 2848 \n",
       "Q 2756 2613 2416 2484 \n",
       "Q 2838 2347 3058 2040 \n",
       "Q 3278 1734 3278 1309 \n",
       "Q 3278 722 2862 322 \n",
       "Q 2447 -78 1769 -78 \n",
       "Q 1091 -78 675 323 \n",
       "Q 259 725 259 1325 \n",
       "Q 259 1772 486 2073 \n",
       "Q 713 2375 1131 2484 \n",
       "z\n",
       "M 1019 3438 \n",
       "Q 1019 3113 1228 2906 \n",
       "Q 1438 2700 1772 2700 \n",
       "Q 2097 2700 2305 2904 \n",
       "Q 2513 3109 2513 3406 \n",
       "Q 2513 3716 2298 3927 \n",
       "Q 2084 4138 1766 4138 \n",
       "Q 1444 4138 1231 3931 \n",
       "Q 1019 3725 1019 3438 \n",
       "z\n",
       "M 838 1322 \n",
       "Q 838 1081 952 856 \n",
       "Q 1066 631 1291 507 \n",
       "Q 1516 384 1775 384 \n",
       "Q 2178 384 2440 643 \n",
       "Q 2703 903 2703 1303 \n",
       "Q 2703 1709 2433 1975 \n",
       "Q 2163 2241 1756 2241 \n",
       "Q 1359 2241 1098 1978 \n",
       "Q 838 1716 838 1322 \n",
       "z\n",
       "\" transform=\"scale(0.015625)\"/>\n",
       "       </defs>\n",
       "       <use xlink:href=\"#ArialMT-38\"/>\n",
       "      </g>\n",
       "     </g>\n",
       "    </g>\n",
       "   </g>\n",
       "   <g id=\"patch_3\">\n",
       "    <path d=\"M 34.934063 307.57875 \n",
       "L 34.934063 30.37875 \n",
       "\" style=\"fill: none; stroke: #cccccc; stroke-width: 2.5; stroke-linejoin: miter; stroke-linecap: square\"/>\n",
       "   </g>\n",
       "   <g id=\"patch_4\">\n",
       "    <path d=\"M 312.134063 307.57875 \n",
       "L 312.134063 30.37875 \n",
       "\" style=\"fill: none; stroke: #cccccc; stroke-width: 2.5; stroke-linejoin: miter; stroke-linecap: square\"/>\n",
       "   </g>\n",
       "   <g id=\"patch_5\">\n",
       "    <path d=\"M 34.934063 307.57875 \n",
       "L 312.134063 307.57875 \n",
       "\" style=\"fill: none; stroke: #cccccc; stroke-width: 2.5; stroke-linejoin: miter; stroke-linecap: square\"/>\n",
       "   </g>\n",
       "   <g id=\"patch_6\">\n",
       "    <path d=\"M 34.934063 30.37875 \n",
       "L 312.134063 30.37875 \n",
       "\" style=\"fill: none; stroke: #cccccc; stroke-width: 2.5; stroke-linejoin: miter; stroke-linecap: square\"/>\n",
       "   </g>\n",
       "   <g id=\"text_10\">\n",
       "    <!-- Heatmap Example -->\n",
       "    <g style=\"fill: #262626\" transform=\"translate(74.826563 24.37875) scale(0.24 -0.24)\">\n",
       "     <defs>\n",
       "      <path id=\"ArialMT-48\" d=\"M 513 0 \n",
       "L 513 4581 \n",
       "L 1119 4581 \n",
       "L 1119 2700 \n",
       "L 3500 2700 \n",
       "L 3500 4581 \n",
       "L 4106 4581 \n",
       "L 4106 0 \n",
       "L 3500 0 \n",
       "L 3500 2159 \n",
       "L 1119 2159 \n",
       "L 1119 0 \n",
       "L 513 0 \n",
       "z\n",
       "\" transform=\"scale(0.015625)\"/>\n",
       "      <path id=\"ArialMT-65\" d=\"M 2694 1069 \n",
       "L 3275 997 \n",
       "Q 3138 488 2766 206 \n",
       "Q 2394 -75 1816 -75 \n",
       "Q 1088 -75 661 373 \n",
       "Q 234 822 234 1631 \n",
       "Q 234 2469 665 2931 \n",
       "Q 1097 3394 1784 3394 \n",
       "Q 2450 3394 2872 2941 \n",
       "Q 3294 2488 3294 1666 \n",
       "Q 3294 1616 3291 1516 \n",
       "L 816 1516 \n",
       "Q 847 969 1125 678 \n",
       "Q 1403 388 1819 388 \n",
       "Q 2128 388 2347 550 \n",
       "Q 2566 713 2694 1069 \n",
       "z\n",
       "M 847 1978 \n",
       "L 2700 1978 \n",
       "Q 2663 2397 2488 2606 \n",
       "Q 2219 2931 1791 2931 \n",
       "Q 1403 2931 1139 2672 \n",
       "Q 875 2413 847 1978 \n",
       "z\n",
       "\" transform=\"scale(0.015625)\"/>\n",
       "      <path id=\"ArialMT-61\" d=\"M 2588 409 \n",
       "Q 2275 144 1986 34 \n",
       "Q 1697 -75 1366 -75 \n",
       "Q 819 -75 525 192 \n",
       "Q 231 459 231 875 \n",
       "Q 231 1119 342 1320 \n",
       "Q 453 1522 633 1644 \n",
       "Q 813 1766 1038 1828 \n",
       "Q 1203 1872 1538 1913 \n",
       "Q 2219 1994 2541 2106 \n",
       "Q 2544 2222 2544 2253 \n",
       "Q 2544 2597 2384 2738 \n",
       "Q 2169 2928 1744 2928 \n",
       "Q 1347 2928 1158 2789 \n",
       "Q 969 2650 878 2297 \n",
       "L 328 2372 \n",
       "Q 403 2725 575 2942 \n",
       "Q 747 3159 1072 3276 \n",
       "Q 1397 3394 1825 3394 \n",
       "Q 2250 3394 2515 3294 \n",
       "Q 2781 3194 2906 3042 \n",
       "Q 3031 2891 3081 2659 \n",
       "Q 3109 2516 3109 2141 \n",
       "L 3109 1391 \n",
       "Q 3109 606 3145 398 \n",
       "Q 3181 191 3288 0 \n",
       "L 2700 0 \n",
       "Q 2613 175 2588 409 \n",
       "z\n",
       "M 2541 1666 \n",
       "Q 2234 1541 1622 1453 \n",
       "Q 1275 1403 1131 1340 \n",
       "Q 988 1278 909 1158 \n",
       "Q 831 1038 831 891 \n",
       "Q 831 666 1001 516 \n",
       "Q 1172 366 1500 366 \n",
       "Q 1825 366 2078 508 \n",
       "Q 2331 650 2450 897 \n",
       "Q 2541 1088 2541 1459 \n",
       "L 2541 1666 \n",
       "z\n",
       "\" transform=\"scale(0.015625)\"/>\n",
       "      <path id=\"ArialMT-74\" d=\"M 1650 503 \n",
       "L 1731 6 \n",
       "Q 1494 -44 1306 -44 \n",
       "Q 1000 -44 831 53 \n",
       "Q 663 150 594 308 \n",
       "Q 525 466 525 972 \n",
       "L 525 2881 \n",
       "L 113 2881 \n",
       "L 113 3319 \n",
       "L 525 3319 \n",
       "L 525 4141 \n",
       "L 1084 4478 \n",
       "L 1084 3319 \n",
       "L 1650 3319 \n",
       "L 1650 2881 \n",
       "L 1084 2881 \n",
       "L 1084 941 \n",
       "Q 1084 700 1114 631 \n",
       "Q 1144 563 1211 522 \n",
       "Q 1278 481 1403 481 \n",
       "Q 1497 481 1650 503 \n",
       "z\n",
       "\" transform=\"scale(0.015625)\"/>\n",
       "      <path id=\"ArialMT-6d\" d=\"M 422 0 \n",
       "L 422 3319 \n",
       "L 925 3319 \n",
       "L 925 2853 \n",
       "Q 1081 3097 1340 3245 \n",
       "Q 1600 3394 1931 3394 \n",
       "Q 2300 3394 2536 3241 \n",
       "Q 2772 3088 2869 2813 \n",
       "Q 3263 3394 3894 3394 \n",
       "Q 4388 3394 4653 3120 \n",
       "Q 4919 2847 4919 2278 \n",
       "L 4919 0 \n",
       "L 4359 0 \n",
       "L 4359 2091 \n",
       "Q 4359 2428 4304 2576 \n",
       "Q 4250 2725 4106 2815 \n",
       "Q 3963 2906 3769 2906 \n",
       "Q 3419 2906 3187 2673 \n",
       "Q 2956 2441 2956 1928 \n",
       "L 2956 0 \n",
       "L 2394 0 \n",
       "L 2394 2156 \n",
       "Q 2394 2531 2256 2718 \n",
       "Q 2119 2906 1806 2906 \n",
       "Q 1569 2906 1367 2781 \n",
       "Q 1166 2656 1075 2415 \n",
       "Q 984 2175 984 1722 \n",
       "L 984 0 \n",
       "L 422 0 \n",
       "z\n",
       "\" transform=\"scale(0.015625)\"/>\n",
       "      <path id=\"ArialMT-70\" d=\"M 422 -1272 \n",
       "L 422 3319 \n",
       "L 934 3319 \n",
       "L 934 2888 \n",
       "Q 1116 3141 1344 3267 \n",
       "Q 1572 3394 1897 3394 \n",
       "Q 2322 3394 2647 3175 \n",
       "Q 2972 2956 3137 2557 \n",
       "Q 3303 2159 3303 1684 \n",
       "Q 3303 1175 3120 767 \n",
       "Q 2938 359 2589 142 \n",
       "Q 2241 -75 1856 -75 \n",
       "Q 1575 -75 1351 44 \n",
       "Q 1128 163 984 344 \n",
       "L 984 -1272 \n",
       "L 422 -1272 \n",
       "z\n",
       "M 931 1641 \n",
       "Q 931 1000 1190 694 \n",
       "Q 1450 388 1819 388 \n",
       "Q 2194 388 2461 705 \n",
       "Q 2728 1022 2728 1688 \n",
       "Q 2728 2322 2467 2637 \n",
       "Q 2206 2953 1844 2953 \n",
       "Q 1484 2953 1207 2617 \n",
       "Q 931 2281 931 1641 \n",
       "z\n",
       "\" transform=\"scale(0.015625)\"/>\n",
       "      <path id=\"ArialMT-20\" transform=\"scale(0.015625)\"/>\n",
       "      <path id=\"ArialMT-45\" d=\"M 506 0 \n",
       "L 506 4581 \n",
       "L 3819 4581 \n",
       "L 3819 4041 \n",
       "L 1113 4041 \n",
       "L 1113 2638 \n",
       "L 3647 2638 \n",
       "L 3647 2100 \n",
       "L 1113 2100 \n",
       "L 1113 541 \n",
       "L 3925 541 \n",
       "L 3925 0 \n",
       "L 506 0 \n",
       "z\n",
       "\" transform=\"scale(0.015625)\"/>\n",
       "      <path id=\"ArialMT-78\" d=\"M 47 0 \n",
       "L 1259 1725 \n",
       "L 138 3319 \n",
       "L 841 3319 \n",
       "L 1350 2541 \n",
       "Q 1494 2319 1581 2169 \n",
       "Q 1719 2375 1834 2534 \n",
       "L 2394 3319 \n",
       "L 3066 3319 \n",
       "L 1919 1756 \n",
       "L 3153 0 \n",
       "L 2463 0 \n",
       "L 1781 1031 \n",
       "L 1600 1309 \n",
       "L 728 0 \n",
       "L 47 0 \n",
       "z\n",
       "\" transform=\"scale(0.015625)\"/>\n",
       "      <path id=\"ArialMT-6c\" d=\"M 409 0 \n",
       "L 409 4581 \n",
       "L 972 4581 \n",
       "L 972 0 \n",
       "L 409 0 \n",
       "z\n",
       "\" transform=\"scale(0.015625)\"/>\n",
       "     </defs>\n",
       "     <use xlink:href=\"#ArialMT-48\"/>\n",
       "     <use xlink:href=\"#ArialMT-65\" x=\"72.216797\"/>\n",
       "     <use xlink:href=\"#ArialMT-61\" x=\"127.832031\"/>\n",
       "     <use xlink:href=\"#ArialMT-74\" x=\"183.447266\"/>\n",
       "     <use xlink:href=\"#ArialMT-6d\" x=\"211.230469\"/>\n",
       "     <use xlink:href=\"#ArialMT-61\" x=\"294.53125\"/>\n",
       "     <use xlink:href=\"#ArialMT-70\" x=\"350.146484\"/>\n",
       "     <use xlink:href=\"#ArialMT-20\" x=\"405.761719\"/>\n",
       "     <use xlink:href=\"#ArialMT-45\" x=\"433.544922\"/>\n",
       "     <use xlink:href=\"#ArialMT-78\" x=\"500.244141\"/>\n",
       "     <use xlink:href=\"#ArialMT-61\" x=\"550.244141\"/>\n",
       "     <use xlink:href=\"#ArialMT-6d\" x=\"605.859375\"/>\n",
       "     <use xlink:href=\"#ArialMT-70\" x=\"689.160156\"/>\n",
       "     <use xlink:href=\"#ArialMT-6c\" x=\"744.775391\"/>\n",
       "     <use xlink:href=\"#ArialMT-65\" x=\"766.992188\"/>\n",
       "    </g>\n",
       "   </g>\n",
       "  </g>\n",
       "  <g id=\"axes_2\">\n",
       "   <g id=\"patch_7\">\n",
       "    <path d=\"M 340.034063 307.57875 \n",
       "L 353.894063 307.57875 \n",
       "L 353.894063 30.37875 \n",
       "L 340.034063 30.37875 \n",
       "z\n",
       "\" style=\"fill: #ffffff\"/>\n",
       "   </g>\n",
       "   <g id=\"matplotlib.axis_3\"/>\n",
       "   <g id=\"matplotlib.axis_4\">\n",
       "    <g id=\"ytick_6\">\n",
       "     <g id=\"line2d_10\">\n",
       "      <defs>\n",
       "       <path id=\"mebfbe11e87\" d=\"M 0 0 \n",
       "L 12 0 \n",
       "\" style=\"stroke: #262626; stroke-width: 2.5\"/>\n",
       "      </defs>\n",
       "      <g>\n",
       "       <use xlink:href=\"#mebfbe11e87\" x=\"353.894063\" y=\"252.30808\" style=\"fill: #262626; stroke: #262626; stroke-width: 2.5\"/>\n",
       "      </g>\n",
       "     </g>\n",
       "     <g id=\"text_11\">\n",
       "      <!-- 0.2 -->\n",
       "      <g style=\"fill: #262626\" transform=\"translate(369.394063 260.181674) scale(0.22 -0.22)\">\n",
       "       <use xlink:href=\"#ArialMT-30\"/>\n",
       "       <use xlink:href=\"#ArialMT-2e\" x=\"55.615234\"/>\n",
       "       <use xlink:href=\"#ArialMT-32\" x=\"83.398438\"/>\n",
       "      </g>\n",
       "     </g>\n",
       "    </g>\n",
       "    <g id=\"ytick_7\">\n",
       "     <g id=\"line2d_11\">\n",
       "      <g>\n",
       "       <use xlink:href=\"#mebfbe11e87\" x=\"353.894063\" y=\"195.449134\" style=\"fill: #262626; stroke: #262626; stroke-width: 2.5\"/>\n",
       "      </g>\n",
       "     </g>\n",
       "     <g id=\"text_12\">\n",
       "      <!-- 0.4 -->\n",
       "      <g style=\"fill: #262626\" transform=\"translate(369.394063 203.322728) scale(0.22 -0.22)\">\n",
       "       <use xlink:href=\"#ArialMT-30\"/>\n",
       "       <use xlink:href=\"#ArialMT-2e\" x=\"55.615234\"/>\n",
       "       <use xlink:href=\"#ArialMT-34\" x=\"83.398438\"/>\n",
       "      </g>\n",
       "     </g>\n",
       "    </g>\n",
       "    <g id=\"ytick_8\">\n",
       "     <g id=\"line2d_12\">\n",
       "      <g>\n",
       "       <use xlink:href=\"#mebfbe11e87\" x=\"353.894063\" y=\"138.590188\" style=\"fill: #262626; stroke: #262626; stroke-width: 2.5\"/>\n",
       "      </g>\n",
       "     </g>\n",
       "     <g id=\"text_13\">\n",
       "      <!-- 0.6 -->\n",
       "      <g style=\"fill: #262626\" transform=\"translate(369.394063 146.463782) scale(0.22 -0.22)\">\n",
       "       <use xlink:href=\"#ArialMT-30\"/>\n",
       "       <use xlink:href=\"#ArialMT-2e\" x=\"55.615234\"/>\n",
       "       <use xlink:href=\"#ArialMT-36\" x=\"83.398438\"/>\n",
       "      </g>\n",
       "     </g>\n",
       "    </g>\n",
       "    <g id=\"ytick_9\">\n",
       "     <g id=\"line2d_13\">\n",
       "      <g>\n",
       "       <use xlink:href=\"#mebfbe11e87\" x=\"353.894063\" y=\"81.731242\" style=\"fill: #262626; stroke: #262626; stroke-width: 2.5\"/>\n",
       "      </g>\n",
       "     </g>\n",
       "     <g id=\"text_14\">\n",
       "      <!-- 0.8 -->\n",
       "      <g style=\"fill: #262626\" transform=\"translate(369.394063 89.604836) scale(0.22 -0.22)\">\n",
       "       <use xlink:href=\"#ArialMT-30\"/>\n",
       "       <use xlink:href=\"#ArialMT-2e\" x=\"55.615234\"/>\n",
       "       <use xlink:href=\"#ArialMT-38\" x=\"83.398438\"/>\n",
       "      </g>\n",
       "     </g>\n",
       "    </g>\n",
       "   </g>\n",
       "   <image xlink:href=\"data:image/png;base64,\n",
       "iVBORw0KGgoAAAANSUhEUgAAABQAAAGBCAYAAABmVZFJAAAB+klEQVR4nO2dgW3EMAwDbSejdYTuP0rTIXQGSJAagMiFEm3ng8/+2b/fAuuQYmut9a7Nar77bFSwyPPikZcBsvoV7kObIo+8EpHZK3w3PMsGyAYuw1eIT4oDcqLLeciNr2lZuCyPnOfyx8cXqtfGBopHptvmxizTgvrIdXkuKI/MJzarZ9HYeYvUl+eyfmMH7r4C44sePYtFChbUdxk/PDokNizogFyXp4IOyHV5Kuiwx4YFHVxuY08FizyuIs/rBrL6saIu6wn28DivIgOC+siNr7kg+u70skDWb+zAWQ5EbnzpCbax55WI3FkeF36Fbex5tbEBwUDktdmDRWd5Xm1sQcEbyOzo6bus3zYW8aWe2JGzzAoapI0+ckdvLgj/NNrGBupCwK7Axi7ysCyQWUGD+NJ3mTbFADlwlmFiC2R+llG9C8gnMb7q8lRQ3+UDb4nr8ryKPC8emZ4Ug8Sm76GDy4HI8o1dl/UEDbYiBsj7jxaUR67LY8FHH5l3mb2HBon9GKzLcfFFj957VmBj5yHrxxed2AbI+Lqcl9iRyPqNHZfYdNoYPBW5gKzvclxjB8ZX4B4bn2V9lwM3nPRmKbOx1dflxN1X3kNdHNmhsWFBA2Ra8JF/PeaBX+LE7+GNRQpHVv+rvQsuyyPzLqt/14w25X3kP+VGm/IP7jKOBB/TvoQAAAAASUVORK5CYII=\" id=\"imageb7b7d49a1f\" transform=\"scale(1 -1) translate(0 -277.2)\" x=\"339.84\" y=\"-30.24\" width=\"14.4\" height=\"277.2\"/>\n",
       "   <g id=\"LineCollection_1\"/>\n",
       "   <g id=\"patch_8\">\n",
       "    <path d=\"M 340.034063 307.57875 \n",
       "L 346.964063 307.57875 \n",
       "L 353.894063 307.57875 \n",
       "L 353.894063 30.37875 \n",
       "L 346.964063 30.37875 \n",
       "L 340.034063 30.37875 \n",
       "L 340.034063 307.57875 \n",
       "z\n",
       "\" style=\"fill: none; stroke: #cccccc; stroke-width: 2.5; stroke-linejoin: miter; stroke-linecap: square\"/>\n",
       "   </g>\n",
       "  </g>\n",
       " </g>\n",
       " <defs>\n",
       "  <clipPath id=\"p133ca74583\">\n",
       "   <rect x=\"34.934063\" y=\"30.37875\" width=\"277.2\" height=\"277.2\"/>\n",
       "  </clipPath>\n",
       " </defs>\n",
       "</svg>\n"
      ],
      "text/plain": [
       "<Figure size 1000x500 with 2 Axes>"
      ]
     },
     "metadata": {},
     "output_type": "display_data"
    }
   ],
   "source": []
  },
  {
   "cell_type": "markdown",
   "metadata": {},
   "source": [
    "## Step 4: Baseline Model"
   ]
  },
  {
   "cell_type": "code",
   "execution_count": null,
   "metadata": {
    "ExecuteTime": {
     "end_time": "2019-10-31T23:36:28.662099Z",
     "start_time": "2019-10-31T23:36:28.660016Z"
    }
   },
   "outputs": [],
   "source": [
    "# TODO"
   ]
  },
  {
   "cell_type": "markdown",
   "metadata": {},
   "source": []
  },
  {
   "cell_type": "markdown",
   "metadata": {},
   "source": [
    "## Step 5: Final Model"
   ]
  },
  {
   "cell_type": "code",
   "execution_count": null,
   "metadata": {
    "ExecuteTime": {
     "end_time": "2019-10-31T23:36:28.662099Z",
     "start_time": "2019-10-31T23:36:28.660016Z"
    }
   },
   "outputs": [],
   "source": [
    "# TODO"
   ]
  }
 ],
 "metadata": {
  "kernelspec": {
   "display_name": "pds",
   "language": "python",
   "name": "python3"
  },
  "language_info": {
   "codemirror_mode": {
    "name": "ipython",
    "version": 3
   },
   "file_extension": ".py",
   "mimetype": "text/x-python",
   "name": "python",
   "nbconvert_exporter": "python",
   "pygments_lexer": "ipython3",
   "version": "3.10.14"
  }
 },
 "nbformat": 4,
 "nbformat_minor": 4
}
